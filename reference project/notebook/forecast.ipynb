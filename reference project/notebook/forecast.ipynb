{
 "cells": [
  {
   "cell_type": "markdown",
   "metadata": {},
   "source": [
    "### Setup"
   ]
  },
  {
   "cell_type": "code",
   "execution_count": 1,
   "metadata": {
    "collapsed": true
   },
   "outputs": [],
   "source": [
    "import os\n",
    "import yaml\n",
    "import pandas as pd\n",
    "from pathlib import Path\n",
    "from matplotlib import pyplot as plt\n",
    "import seaborn as sns\n",
    "sns.set()\n",
    "\n",
    "os.chdir(\"../scripts\")\n",
    "\n",
    "import preprocess, train, inference, interpret"
   ]
  },
  {
   "cell_type": "code",
   "execution_count": 2,
   "metadata": {},
   "outputs": [],
   "source": [
    "pd.set_option('display.max_rows', 30)"
   ]
  },
  {
   "cell_type": "code",
   "execution_count": 3,
   "metadata": {},
   "outputs": [],
   "source": [
    "with open(\"../model/params.yaml\", \"r\") as params_file:\n",
    "    params = yaml.safe_load(params_file)\n",
    "\n",
    "data_dir = params['data_dir']"
   ]
  },
  {
   "cell_type": "markdown",
   "metadata": {},
   "source": [
    "### Load and Prepare the Data"
   ]
  },
  {
   "cell_type": "code",
   "execution_count": 42,
   "metadata": {},
   "outputs": [
    {
     "data": {
      "text/html": [
       "<div>\n",
       "<style scoped>\n",
       "    .dataframe tbody tr th:only-of-type {\n",
       "        vertical-align: middle;\n",
       "    }\n",
       "\n",
       "    .dataframe tbody tr th {\n",
       "        vertical-align: top;\n",
       "    }\n",
       "\n",
       "    .dataframe thead th {\n",
       "        text-align: right;\n",
       "    }\n",
       "</style>\n",
       "<table border=\"1\" class=\"dataframe\">\n",
       "  <thead>\n",
       "    <tr style=\"text-align: right;\">\n",
       "      <th></th>\n",
       "      <th>MedianListingPrice_AllHomes</th>\n",
       "      <th>InventorySeasonallyAdjusted_AllHomes</th>\n",
       "      <th>MedianListingPrice_AllHomes</th>\n",
       "    </tr>\n",
       "  </thead>\n",
       "  <tbody>\n",
       "    <tr>\n",
       "      <th>count</th>\n",
       "      <td>1.288300e+05</td>\n",
       "      <td>128830.000000</td>\n",
       "      <td>1.288300e+05</td>\n",
       "    </tr>\n",
       "    <tr>\n",
       "      <th>mean</th>\n",
       "      <td>1.915846e+05</td>\n",
       "      <td>841.059171</td>\n",
       "      <td>1.915846e+05</td>\n",
       "    </tr>\n",
       "    <tr>\n",
       "      <th>std</th>\n",
       "      <td>1.037281e+05</td>\n",
       "      <td>1471.445778</td>\n",
       "      <td>1.037281e+05</td>\n",
       "    </tr>\n",
       "    <tr>\n",
       "      <th>min</th>\n",
       "      <td>5.000000e+04</td>\n",
       "      <td>19.000000</td>\n",
       "      <td>5.000000e+04</td>\n",
       "    </tr>\n",
       "    <tr>\n",
       "      <th>25%</th>\n",
       "      <td>1.348788e+05</td>\n",
       "      <td>193.000000</td>\n",
       "      <td>1.348788e+05</td>\n",
       "    </tr>\n",
       "    <tr>\n",
       "      <th>50%</th>\n",
       "      <td>1.649000e+05</td>\n",
       "      <td>399.000000</td>\n",
       "      <td>1.649000e+05</td>\n",
       "    </tr>\n",
       "    <tr>\n",
       "      <th>75%</th>\n",
       "      <td>2.250000e+05</td>\n",
       "      <td>879.000000</td>\n",
       "      <td>2.250000e+05</td>\n",
       "    </tr>\n",
       "    <tr>\n",
       "      <th>max</th>\n",
       "      <td>2.595000e+06</td>\n",
       "      <td>29177.000000</td>\n",
       "      <td>2.595000e+06</td>\n",
       "    </tr>\n",
       "  </tbody>\n",
       "</table>\n",
       "</div>"
      ],
      "text/plain": [
       "       MedianListingPrice_AllHomes  InventorySeasonallyAdjusted_AllHomes  \\\n",
       "count                 1.288300e+05                         128830.000000   \n",
       "mean                  1.915846e+05                            841.059171   \n",
       "std                   1.037281e+05                           1471.445778   \n",
       "min                   5.000000e+04                             19.000000   \n",
       "25%                   1.348788e+05                            193.000000   \n",
       "50%                   1.649000e+05                            399.000000   \n",
       "75%                   2.250000e+05                            879.000000   \n",
       "max                   2.595000e+06                          29177.000000   \n",
       "\n",
       "       MedianListingPrice_AllHomes  \n",
       "count                 1.288300e+05  \n",
       "mean                  1.915846e+05  \n",
       "std                   1.037281e+05  \n",
       "min                   5.000000e+04  \n",
       "25%                   1.348788e+05  \n",
       "50%                   1.649000e+05  \n",
       "75%                   2.250000e+05  \n",
       "max                   2.595000e+06  "
      ]
     },
     "execution_count": 42,
     "metadata": {},
     "output_type": "execute_result"
    }
   ],
   "source": [
    "'''Zillow data'''\n",
    "\n",
    "data = pd.read_csv('~/Downloads/zillow_data/County_time_series.csv')\n",
    "# data.head()\n",
    "data = data.loc[:, ['Date', 'MedianListingPrice_AllHomes', 'InventorySeasonallyAdjusted_AllHomes', 'MedianListingPrice_AllHomes']]\n",
    "data = data.dropna(axis='rows')\n",
    "data.describe()"
   ]
  },
  {
   "cell_type": "code",
   "execution_count": 55,
   "metadata": {},
   "outputs": [
    {
     "data": {
      "text/plain": [
       "array(['2010-01-31', '2010-02-28', '2010-03-31', '2010-04-30',\n",
       "       '2010-05-31', '2010-06-30', '2010-07-31', '2010-08-31',\n",
       "       '2010-09-30', '2010-10-31', '2010-11-30', '2010-12-31',\n",
       "       '2011-01-31', '2011-02-28', '2011-03-31', '2011-04-30',\n",
       "       '2011-05-31', '2011-06-30', '2011-07-31', '2011-08-31',\n",
       "       '2011-09-30', '2011-10-31', '2011-11-30', '2011-12-31',\n",
       "       '2012-01-31', '2012-02-29', '2012-03-31', '2012-04-30',\n",
       "       '2012-05-31', '2012-06-30', '2012-07-31', '2012-08-31',\n",
       "       '2012-09-30', '2012-10-31', '2012-11-30', '2012-12-31',\n",
       "       '2013-01-31', '2013-02-28', '2013-03-31', '2013-04-30',\n",
       "       '2013-05-31', '2013-06-30', '2013-07-31', '2013-08-31',\n",
       "       '2013-09-30', '2013-10-31', '2013-11-30', '2013-12-31',\n",
       "       '2014-01-31', '2014-02-28', '2014-03-31', '2014-04-30',\n",
       "       '2014-05-31', '2014-06-30', '2014-07-31', '2014-08-31',\n",
       "       '2014-09-30', '2014-10-31', '2014-11-30', '2014-12-31',\n",
       "       '2015-01-31', '2015-02-28', '2015-03-31', '2015-04-30',\n",
       "       '2015-05-31', '2015-06-30', '2015-07-31', '2015-08-31',\n",
       "       '2015-09-30', '2015-10-31', '2015-11-30', '2015-12-31',\n",
       "       '2016-01-31', '2016-02-29', '2016-03-31', '2016-04-30',\n",
       "       '2016-05-31', '2016-06-30', '2016-07-31', '2016-08-31',\n",
       "       '2016-09-30', '2016-10-31', '2016-11-30', '2016-12-31',\n",
       "       '2017-01-31', '2017-02-28', '2017-03-31', '2017-04-30',\n",
       "       '2017-05-31', '2017-06-30', '2017-07-31', '2017-08-31',\n",
       "       '2017-09-30', '2017-10-31', '2017-11-30', '2017-12-31'],\n",
       "      dtype=object)"
      ]
     },
     "execution_count": 55,
     "metadata": {},
     "output_type": "execute_result"
    }
   ],
   "source": [
    "data.Date.unique()"
   ]
  },
  {
   "cell_type": "code",
   "execution_count": null,
   "metadata": {},
   "outputs": [],
   "source": []
  },
  {
   "cell_type": "code",
   "execution_count": null,
   "metadata": {},
   "outputs": [],
   "source": []
  },
  {
   "cell_type": "code",
   "execution_count": 23,
   "metadata": {},
   "outputs": [
    {
     "data": {
      "text/html": [
       "<div>\n",
       "<style scoped>\n",
       "    .dataframe tbody tr th:only-of-type {\n",
       "        vertical-align: middle;\n",
       "    }\n",
       "\n",
       "    .dataframe tbody tr th {\n",
       "        vertical-align: top;\n",
       "    }\n",
       "\n",
       "    .dataframe thead th {\n",
       "        text-align: right;\n",
       "    }\n",
       "</style>\n",
       "<table border=\"1\" class=\"dataframe\">\n",
       "  <thead>\n",
       "    <tr style=\"text-align: right;\">\n",
       "      <th></th>\n",
       "      <th>datesold</th>\n",
       "      <th>postcode</th>\n",
       "      <th>price</th>\n",
       "      <th>propertyType</th>\n",
       "      <th>bedrooms</th>\n",
       "    </tr>\n",
       "  </thead>\n",
       "  <tbody>\n",
       "    <tr>\n",
       "      <th>0</th>\n",
       "      <td>2/7/07 0:00</td>\n",
       "      <td>2607</td>\n",
       "      <td>525000</td>\n",
       "      <td>house</td>\n",
       "      <td>4</td>\n",
       "    </tr>\n",
       "    <tr>\n",
       "      <th>1</th>\n",
       "      <td>2/27/07 0:00</td>\n",
       "      <td>2906</td>\n",
       "      <td>290000</td>\n",
       "      <td>house</td>\n",
       "      <td>3</td>\n",
       "    </tr>\n",
       "    <tr>\n",
       "      <th>2</th>\n",
       "      <td>3/7/07 0:00</td>\n",
       "      <td>2905</td>\n",
       "      <td>328000</td>\n",
       "      <td>house</td>\n",
       "      <td>3</td>\n",
       "    </tr>\n",
       "    <tr>\n",
       "      <th>3</th>\n",
       "      <td>3/9/07 0:00</td>\n",
       "      <td>2905</td>\n",
       "      <td>380000</td>\n",
       "      <td>house</td>\n",
       "      <td>4</td>\n",
       "    </tr>\n",
       "    <tr>\n",
       "      <th>4</th>\n",
       "      <td>3/21/07 0:00</td>\n",
       "      <td>2906</td>\n",
       "      <td>310000</td>\n",
       "      <td>house</td>\n",
       "      <td>3</td>\n",
       "    </tr>\n",
       "    <tr>\n",
       "      <th>...</th>\n",
       "      <td>...</td>\n",
       "      <td>...</td>\n",
       "      <td>...</td>\n",
       "      <td>...</td>\n",
       "      <td>...</td>\n",
       "    </tr>\n",
       "    <tr>\n",
       "      <th>29575</th>\n",
       "      <td>7/25/19 0:00</td>\n",
       "      <td>2900</td>\n",
       "      <td>500000</td>\n",
       "      <td>unit</td>\n",
       "      <td>3</td>\n",
       "    </tr>\n",
       "    <tr>\n",
       "      <th>29576</th>\n",
       "      <td>7/25/19 0:00</td>\n",
       "      <td>2612</td>\n",
       "      <td>560000</td>\n",
       "      <td>unit</td>\n",
       "      <td>2</td>\n",
       "    </tr>\n",
       "    <tr>\n",
       "      <th>29577</th>\n",
       "      <td>7/26/19 0:00</td>\n",
       "      <td>2912</td>\n",
       "      <td>464950</td>\n",
       "      <td>unit</td>\n",
       "      <td>2</td>\n",
       "    </tr>\n",
       "    <tr>\n",
       "      <th>29578</th>\n",
       "      <td>7/26/19 0:00</td>\n",
       "      <td>2601</td>\n",
       "      <td>589000</td>\n",
       "      <td>unit</td>\n",
       "      <td>2</td>\n",
       "    </tr>\n",
       "    <tr>\n",
       "      <th>29579</th>\n",
       "      <td>7/26/19 0:00</td>\n",
       "      <td>2612</td>\n",
       "      <td>775000</td>\n",
       "      <td>unit</td>\n",
       "      <td>2</td>\n",
       "    </tr>\n",
       "  </tbody>\n",
       "</table>\n",
       "<p>29580 rows × 5 columns</p>\n",
       "</div>"
      ],
      "text/plain": [
       "           datesold  postcode   price propertyType  bedrooms\n",
       "0       2/7/07 0:00      2607  525000        house         4\n",
       "1      2/27/07 0:00      2906  290000        house         3\n",
       "2       3/7/07 0:00      2905  328000        house         3\n",
       "3       3/9/07 0:00      2905  380000        house         4\n",
       "4      3/21/07 0:00      2906  310000        house         3\n",
       "...             ...       ...     ...          ...       ...\n",
       "29575  7/25/19 0:00      2900  500000         unit         3\n",
       "29576  7/25/19 0:00      2612  560000         unit         2\n",
       "29577  7/26/19 0:00      2912  464950         unit         2\n",
       "29578  7/26/19 0:00      2601  589000         unit         2\n",
       "29579  7/26/19 0:00      2612  775000         unit         2\n",
       "\n",
       "[29580 rows x 5 columns]"
      ]
     },
     "execution_count": 23,
     "metadata": {},
     "output_type": "execute_result"
    }
   ],
   "source": [
    "'''Kaggle_house_property_sales'''\n",
    "\n",
    "# data = pd.read_csv('~/Downloads/Kaggle_house_property_sales/raw_sales.csv')\n",
    "# data"
   ]
  },
  {
   "cell_type": "code",
   "execution_count": 22,
   "metadata": {},
   "outputs": [
    {
     "data": {
      "text/html": [
       "<div>\n",
       "<style scoped>\n",
       "    .dataframe tbody tr th:only-of-type {\n",
       "        vertical-align: middle;\n",
       "    }\n",
       "\n",
       "    .dataframe tbody tr th {\n",
       "        vertical-align: top;\n",
       "    }\n",
       "\n",
       "    .dataframe thead th {\n",
       "        text-align: right;\n",
       "    }\n",
       "</style>\n",
       "<table border=\"1\" class=\"dataframe\">\n",
       "  <thead>\n",
       "    <tr style=\"text-align: right;\">\n",
       "      <th></th>\n",
       "      <th>postcode</th>\n",
       "      <th>price</th>\n",
       "      <th>bedrooms</th>\n",
       "    </tr>\n",
       "    <tr>\n",
       "      <th>datesold</th>\n",
       "      <th></th>\n",
       "      <th></th>\n",
       "      <th></th>\n",
       "    </tr>\n",
       "  </thead>\n",
       "  <tbody>\n",
       "    <tr>\n",
       "      <th>1/1/16 0:00</th>\n",
       "      <td>2612.000000</td>\n",
       "      <td>4.200000e+05</td>\n",
       "      <td>1.000000</td>\n",
       "    </tr>\n",
       "    <tr>\n",
       "      <th>1/1/17 0:00</th>\n",
       "      <td>2602.000000</td>\n",
       "      <td>1.095000e+06</td>\n",
       "      <td>4.000000</td>\n",
       "    </tr>\n",
       "    <tr>\n",
       "      <th>1/1/19 0:00</th>\n",
       "      <td>2904.000000</td>\n",
       "      <td>5.912000e+05</td>\n",
       "      <td>4.000000</td>\n",
       "    </tr>\n",
       "    <tr>\n",
       "      <th>1/10/09 0:00</th>\n",
       "      <td>2913.500000</td>\n",
       "      <td>5.875000e+05</td>\n",
       "      <td>4.000000</td>\n",
       "    </tr>\n",
       "    <tr>\n",
       "      <th>1/10/11 0:00</th>\n",
       "      <td>2835.250000</td>\n",
       "      <td>5.570000e+05</td>\n",
       "      <td>3.750000</td>\n",
       "    </tr>\n",
       "    <tr>\n",
       "      <th>...</th>\n",
       "      <td>...</td>\n",
       "      <td>...</td>\n",
       "      <td>...</td>\n",
       "    </tr>\n",
       "    <tr>\n",
       "      <th>9/9/14 0:00</th>\n",
       "      <td>2727.600000</td>\n",
       "      <td>4.870000e+05</td>\n",
       "      <td>3.200000</td>\n",
       "    </tr>\n",
       "    <tr>\n",
       "      <th>9/9/15 0:00</th>\n",
       "      <td>2694.714286</td>\n",
       "      <td>5.256393e+05</td>\n",
       "      <td>2.857143</td>\n",
       "    </tr>\n",
       "    <tr>\n",
       "      <th>9/9/16 0:00</th>\n",
       "      <td>2774.090909</td>\n",
       "      <td>5.210455e+05</td>\n",
       "      <td>2.909091</td>\n",
       "    </tr>\n",
       "    <tr>\n",
       "      <th>9/9/17 0:00</th>\n",
       "      <td>2685.032258</td>\n",
       "      <td>8.669516e+05</td>\n",
       "      <td>3.419355</td>\n",
       "    </tr>\n",
       "    <tr>\n",
       "      <th>9/9/18 0:00</th>\n",
       "      <td>2904.500000</td>\n",
       "      <td>5.950000e+05</td>\n",
       "      <td>3.500000</td>\n",
       "    </tr>\n",
       "  </tbody>\n",
       "</table>\n",
       "<p>3582 rows × 3 columns</p>\n",
       "</div>"
      ],
      "text/plain": [
       "                 postcode         price  bedrooms\n",
       "datesold                                         \n",
       "1/1/16 0:00   2612.000000  4.200000e+05  1.000000\n",
       "1/1/17 0:00   2602.000000  1.095000e+06  4.000000\n",
       "1/1/19 0:00   2904.000000  5.912000e+05  4.000000\n",
       "1/10/09 0:00  2913.500000  5.875000e+05  4.000000\n",
       "1/10/11 0:00  2835.250000  5.570000e+05  3.750000\n",
       "...                   ...           ...       ...\n",
       "9/9/14 0:00   2727.600000  4.870000e+05  3.200000\n",
       "9/9/15 0:00   2694.714286  5.256393e+05  2.857143\n",
       "9/9/16 0:00   2774.090909  5.210455e+05  2.909091\n",
       "9/9/17 0:00   2685.032258  8.669516e+05  3.419355\n",
       "9/9/18 0:00   2904.500000  5.950000e+05  3.500000\n",
       "\n",
       "[3582 rows x 3 columns]"
      ]
     },
     "execution_count": 22,
     "metadata": {},
     "output_type": "execute_result"
    }
   ],
   "source": [
    "# data = data.groupby('datesold').agg('mean')\n",
    "# data"
   ]
  },
  {
   "cell_type": "code",
   "execution_count": null,
   "metadata": {},
   "outputs": [],
   "source": []
  },
  {
   "cell_type": "code",
   "execution_count": null,
   "metadata": {},
   "outputs": [],
   "source": [
    "'''Realtor.com data'''"
   ]
  },
  {
   "cell_type": "code",
   "execution_count": 5,
   "metadata": {},
   "outputs": [
    {
     "data": {
      "text/html": [
       "<div>\n",
       "<style scoped>\n",
       "    .dataframe tbody tr th:only-of-type {\n",
       "        vertical-align: middle;\n",
       "    }\n",
       "\n",
       "    .dataframe tbody tr th {\n",
       "        vertical-align: top;\n",
       "    }\n",
       "\n",
       "    .dataframe thead th {\n",
       "        text-align: right;\n",
       "    }\n",
       "</style>\n",
       "<table border=\"1\" class=\"dataframe\">\n",
       "  <thead>\n",
       "    <tr style=\"text-align: right;\">\n",
       "      <th></th>\n",
       "      <th>Date</th>\n",
       "      <th>median_listing_price</th>\n",
       "      <th>hotness_score</th>\n",
       "      <th>supply_score</th>\n",
       "      <th>demand_score</th>\n",
       "    </tr>\n",
       "  </thead>\n",
       "  <tbody>\n",
       "    <tr>\n",
       "      <th>0</th>\n",
       "      <td>20211001</td>\n",
       "      <td>1388000.0</td>\n",
       "      <td>41.476629</td>\n",
       "      <td>78.086536</td>\n",
       "      <td>4.866722</td>\n",
       "    </tr>\n",
       "    <tr>\n",
       "      <th>1</th>\n",
       "      <td>20210901</td>\n",
       "      <td>1199000.0</td>\n",
       "      <td>42.425163</td>\n",
       "      <td>82.662209</td>\n",
       "      <td>2.188117</td>\n",
       "    </tr>\n",
       "    <tr>\n",
       "      <th>2</th>\n",
       "      <td>20210801</td>\n",
       "      <td>1105750.0</td>\n",
       "      <td>38.637921</td>\n",
       "      <td>73.378749</td>\n",
       "      <td>3.897092</td>\n",
       "    </tr>\n",
       "  </tbody>\n",
       "</table>\n",
       "</div>"
      ],
      "text/plain": [
       "       Date  median_listing_price  hotness_score  supply_score  demand_score\n",
       "0  20211001             1388000.0      41.476629     78.086536      4.866722\n",
       "1  20210901             1199000.0      42.425163     82.662209      2.188117\n",
       "2  20210801             1105750.0      38.637921     73.378749      3.897092"
      ]
     },
     "execution_count": 5,
     "metadata": {},
     "output_type": "execute_result"
    }
   ],
   "source": [
    "file_name = 'san_francisco.csv'\n",
    "data = preprocess.load_data(file_name)\n",
    "data = data.loc[:, ['month_date_yyyymm', 'median_listing_price', 'hotness_score', 'supply_score', 'demand_score']]\n",
    "data.rename({'month_date_yyyymm': 'Date'}, axis=1, inplace=True)\n",
    "data['Date'] = data['Date'].astype(str)\n",
    "data['Date'] = data['Date'] + '01'\n",
    "data.head(3)"
   ]
  },
  {
   "cell_type": "code",
   "execution_count": null,
   "metadata": {},
   "outputs": [],
   "source": []
  },
  {
   "cell_type": "code",
   "execution_count": 19,
   "metadata": {},
   "outputs": [
    {
     "data": {
      "text/html": [
       "<div>\n",
       "<style scoped>\n",
       "    .dataframe tbody tr th:only-of-type {\n",
       "        vertical-align: middle;\n",
       "    }\n",
       "\n",
       "    .dataframe tbody tr th {\n",
       "        vertical-align: top;\n",
       "    }\n",
       "\n",
       "    .dataframe thead th {\n",
       "        text-align: right;\n",
       "    }\n",
       "</style>\n",
       "<table border=\"1\" class=\"dataframe\">\n",
       "  <thead>\n",
       "    <tr style=\"text-align: right;\">\n",
       "      <th></th>\n",
       "      <th>Date</th>\n",
       "      <th>Open</th>\n",
       "      <th>High</th>\n",
       "      <th>Low</th>\n",
       "      <th>Close</th>\n",
       "      <th>Adj Close</th>\n",
       "      <th>Volume</th>\n",
       "    </tr>\n",
       "  </thead>\n",
       "  <tbody>\n",
       "    <tr>\n",
       "      <th>0</th>\n",
       "      <td>2021-04-13</td>\n",
       "      <td>59890.019531</td>\n",
       "      <td>63742.285156</td>\n",
       "      <td>59869.957031</td>\n",
       "      <td>63503.457031</td>\n",
       "      <td>63503.457031</td>\n",
       "      <td>69983454362</td>\n",
       "    </tr>\n",
       "    <tr>\n",
       "      <th>1</th>\n",
       "      <td>2021-04-14</td>\n",
       "      <td>63523.753906</td>\n",
       "      <td>64863.097656</td>\n",
       "      <td>61554.796875</td>\n",
       "      <td>63109.695313</td>\n",
       "      <td>63109.695313</td>\n",
       "      <td>77451779687</td>\n",
       "    </tr>\n",
       "    <tr>\n",
       "      <th>2</th>\n",
       "      <td>2021-04-15</td>\n",
       "      <td>63075.195313</td>\n",
       "      <td>63821.671875</td>\n",
       "      <td>62208.964844</td>\n",
       "      <td>63314.011719</td>\n",
       "      <td>63314.011719</td>\n",
       "      <td>60954381579</td>\n",
       "    </tr>\n",
       "  </tbody>\n",
       "</table>\n",
       "</div>"
      ],
      "text/plain": [
       "         Date          Open          High           Low         Close  \\\n",
       "0  2021-04-13  59890.019531  63742.285156  59869.957031  63503.457031   \n",
       "1  2021-04-14  63523.753906  64863.097656  61554.796875  63109.695313   \n",
       "2  2021-04-15  63075.195313  63821.671875  62208.964844  63314.011719   \n",
       "\n",
       "      Adj Close       Volume  \n",
       "0  63503.457031  69983454362  \n",
       "1  63109.695313  77451779687  \n",
       "2  63314.011719  60954381579  "
      ]
     },
     "execution_count": 19,
     "metadata": {},
     "output_type": "execute_result"
    }
   ],
   "source": [
    "# file_name = \"BTC-USD.csv\"\n",
    "# data = preprocess.load_data(file_name)\n",
    "# data.head(3)"
   ]
  },
  {
   "cell_type": "code",
   "execution_count": 6,
   "metadata": {},
   "outputs": [
    {
     "name": "stdout",
     "output_type": "stream",
     "text": [
      "Starting with data preparation...\n",
      "Completed.\n"
     ]
    }
   ],
   "source": [
    "train_df, test_df = preprocess.prep_data(df=data, train_frac=0.8, plot_df=True)"
   ]
  },
  {
   "cell_type": "code",
   "execution_count": 7,
   "metadata": {},
   "outputs": [
    {
     "data": {
      "text/plain": [
       "((2816, 7), (705, 7))"
      ]
     },
     "execution_count": 7,
     "metadata": {},
     "output_type": "execute_result"
    }
   ],
   "source": [
    "train_df.shape, test_df.shape"
   ]
  },
  {
   "cell_type": "code",
   "execution_count": 8,
   "metadata": {},
   "outputs": [
    {
     "data": {
      "text/html": [
       "<div>\n",
       "<style scoped>\n",
       "    .dataframe tbody tr th:only-of-type {\n",
       "        vertical-align: middle;\n",
       "    }\n",
       "\n",
       "    .dataframe tbody tr th {\n",
       "        vertical-align: top;\n",
       "    }\n",
       "\n",
       "    .dataframe thead th {\n",
       "        text-align: right;\n",
       "    }\n",
       "</style>\n",
       "<table border=\"1\" class=\"dataframe\">\n",
       "  <thead>\n",
       "    <tr style=\"text-align: right;\">\n",
       "      <th></th>\n",
       "      <th>demand_score</th>\n",
       "      <th>hotness_score</th>\n",
       "      <th>median_listing_price</th>\n",
       "      <th>supply_score</th>\n",
       "      <th>Day_Of_Week</th>\n",
       "      <th>Month_Of_Year</th>\n",
       "      <th>Quarter_Of_Year</th>\n",
       "    </tr>\n",
       "  </thead>\n",
       "  <tbody>\n",
       "    <tr>\n",
       "      <th>0</th>\n",
       "      <td>0.959264</td>\n",
       "      <td>0.958517</td>\n",
       "      <td>0.069455</td>\n",
       "      <td>0.946690</td>\n",
       "      <td>0.166667</td>\n",
       "      <td>0.636364</td>\n",
       "      <td>0.666667</td>\n",
       "    </tr>\n",
       "    <tr>\n",
       "      <th>1</th>\n",
       "      <td>0.970640</td>\n",
       "      <td>0.912845</td>\n",
       "      <td>0.097769</td>\n",
       "      <td>0.828666</td>\n",
       "      <td>0.166667</td>\n",
       "      <td>0.636364</td>\n",
       "      <td>0.666667</td>\n",
       "    </tr>\n",
       "    <tr>\n",
       "      <th>2</th>\n",
       "      <td>0.989825</td>\n",
       "      <td>0.995051</td>\n",
       "      <td>0.000000</td>\n",
       "      <td>0.986581</td>\n",
       "      <td>0.166667</td>\n",
       "      <td>0.636364</td>\n",
       "      <td>0.666667</td>\n",
       "    </tr>\n",
       "    <tr>\n",
       "      <th>3</th>\n",
       "      <td>0.955584</td>\n",
       "      <td>0.923665</td>\n",
       "      <td>0.005246</td>\n",
       "      <td>0.873615</td>\n",
       "      <td>0.166667</td>\n",
       "      <td>0.636364</td>\n",
       "      <td>0.666667</td>\n",
       "    </tr>\n",
       "    <tr>\n",
       "      <th>4</th>\n",
       "      <td>0.874487</td>\n",
       "      <td>0.902739</td>\n",
       "      <td>0.016692</td>\n",
       "      <td>0.938175</td>\n",
       "      <td>0.166667</td>\n",
       "      <td>0.636364</td>\n",
       "      <td>0.666667</td>\n",
       "    </tr>\n",
       "    <tr>\n",
       "      <th>...</th>\n",
       "      <td>...</td>\n",
       "      <td>...</td>\n",
       "      <td>...</td>\n",
       "      <td>...</td>\n",
       "      <td>...</td>\n",
       "      <td>...</td>\n",
       "      <td>...</td>\n",
       "    </tr>\n",
       "    <tr>\n",
       "      <th>2811</th>\n",
       "      <td>0.290593</td>\n",
       "      <td>0.526660</td>\n",
       "      <td>0.103485</td>\n",
       "      <td>0.897666</td>\n",
       "      <td>0.000000</td>\n",
       "      <td>0.090909</td>\n",
       "      <td>0.000000</td>\n",
       "    </tr>\n",
       "    <tr>\n",
       "      <th>2812</th>\n",
       "      <td>0.524534</td>\n",
       "      <td>0.651447</td>\n",
       "      <td>0.043032</td>\n",
       "      <td>0.855853</td>\n",
       "      <td>0.000000</td>\n",
       "      <td>0.090909</td>\n",
       "      <td>0.000000</td>\n",
       "    </tr>\n",
       "    <tr>\n",
       "      <th>2813</th>\n",
       "      <td>0.131319</td>\n",
       "      <td>0.331787</td>\n",
       "      <td>0.100988</td>\n",
       "      <td>0.679731</td>\n",
       "      <td>0.000000</td>\n",
       "      <td>0.090909</td>\n",
       "      <td>0.000000</td>\n",
       "    </tr>\n",
       "    <tr>\n",
       "      <th>2814</th>\n",
       "      <td>0.456480</td>\n",
       "      <td>0.602520</td>\n",
       "      <td>0.073985</td>\n",
       "      <td>0.839712</td>\n",
       "      <td>0.000000</td>\n",
       "      <td>0.090909</td>\n",
       "      <td>0.000000</td>\n",
       "    </tr>\n",
       "    <tr>\n",
       "      <th>2815</th>\n",
       "      <td>0.424777</td>\n",
       "      <td>0.500881</td>\n",
       "      <td>0.039425</td>\n",
       "      <td>0.655436</td>\n",
       "      <td>0.000000</td>\n",
       "      <td>0.090909</td>\n",
       "      <td>0.000000</td>\n",
       "    </tr>\n",
       "  </tbody>\n",
       "</table>\n",
       "<p>2816 rows × 7 columns</p>\n",
       "</div>"
      ],
      "text/plain": [
       "      demand_score  hotness_score  median_listing_price  supply_score  \\\n",
       "0         0.959264       0.958517              0.069455      0.946690   \n",
       "1         0.970640       0.912845              0.097769      0.828666   \n",
       "2         0.989825       0.995051              0.000000      0.986581   \n",
       "3         0.955584       0.923665              0.005246      0.873615   \n",
       "4         0.874487       0.902739              0.016692      0.938175   \n",
       "...            ...            ...                   ...           ...   \n",
       "2811      0.290593       0.526660              0.103485      0.897666   \n",
       "2812      0.524534       0.651447              0.043032      0.855853   \n",
       "2813      0.131319       0.331787              0.100988      0.679731   \n",
       "2814      0.456480       0.602520              0.073985      0.839712   \n",
       "2815      0.424777       0.500881              0.039425      0.655436   \n",
       "\n",
       "      Day_Of_Week  Month_Of_Year  Quarter_Of_Year  \n",
       "0        0.166667       0.636364         0.666667  \n",
       "1        0.166667       0.636364         0.666667  \n",
       "2        0.166667       0.636364         0.666667  \n",
       "3        0.166667       0.636364         0.666667  \n",
       "4        0.166667       0.636364         0.666667  \n",
       "...           ...            ...              ...  \n",
       "2811     0.000000       0.090909         0.000000  \n",
       "2812     0.000000       0.090909         0.000000  \n",
       "2813     0.000000       0.090909         0.000000  \n",
       "2814     0.000000       0.090909         0.000000  \n",
       "2815     0.000000       0.090909         0.000000  \n",
       "\n",
       "[2816 rows x 7 columns]"
      ]
     },
     "execution_count": 8,
     "metadata": {},
     "output_type": "execute_result"
    }
   ],
   "source": [
    "train_df"
   ]
  },
  {
   "cell_type": "markdown",
   "metadata": {},
   "source": [
    "### Explore the Data"
   ]
  },
  {
   "cell_type": "code",
   "execution_count": 9,
   "metadata": {},
   "outputs": [
    {
     "ename": "AttributeError",
     "evalue": "'DataFrame' object has no attribute 'Close'",
     "output_type": "error",
     "traceback": [
      "\u001b[0;31m---------------------------------------------------------------------------\u001b[0m",
      "\u001b[0;31mAttributeError\u001b[0m                            Traceback (most recent call last)",
      "\u001b[1;32m/Users/evantilu/My Drive (tl3098@columbia.edu)/Spring 2022/6998 AdvDL/6998_Adv_DL_project/reference project/notebook/forecast.ipynb Cell 12'\u001b[0m in \u001b[0;36m<cell line: 2>\u001b[0;34m()\u001b[0m\n\u001b[1;32m      <a href='vscode-notebook-cell:/Users/evantilu/My%20Drive%20%28tl3098%40columbia.edu%29/Spring%202022/6998%20AdvDL/6998_Adv_DL_project/reference%20project/notebook/forecast.ipynb#ch0000010?line=0'>1</a>\u001b[0m plot_df \u001b[39m=\u001b[39m pd\u001b[39m.\u001b[39mread_csv(Path(data_dir, \u001b[39m'\u001b[39m\u001b[39mplot_df.csv\u001b[39m\u001b[39m'\u001b[39m))\n\u001b[0;32m----> <a href='vscode-notebook-cell:/Users/evantilu/My%20Drive%20%28tl3098%40columbia.edu%29/Spring%202022/6998%20AdvDL/6998_Adv_DL_project/reference%20project/notebook/forecast.ipynb#ch0000010?line=1'>2</a>\u001b[0m plot_df[\u001b[39m'\u001b[39m\u001b[39mClose_Change\u001b[39m\u001b[39m'\u001b[39m] \u001b[39m=\u001b[39m plot_df\u001b[39m.\u001b[39;49mClose\u001b[39m.\u001b[39mpct_change(\u001b[39m1\u001b[39m)\n\u001b[1;32m      <a href='vscode-notebook-cell:/Users/evantilu/My%20Drive%20%28tl3098%40columbia.edu%29/Spring%202022/6998%20AdvDL/6998_Adv_DL_project/reference%20project/notebook/forecast.ipynb#ch0000010?line=2'>3</a>\u001b[0m plot_df \u001b[39m=\u001b[39m plot_df\u001b[39m.\u001b[39mdropna()\n",
      "File \u001b[0;32m~/miniconda3/envs/6998_DL_torch/lib/python3.9/site-packages/pandas/core/generic.py:5583\u001b[0m, in \u001b[0;36mNDFrame.__getattr__\u001b[0;34m(self, name)\u001b[0m\n\u001b[1;32m   <a href='file:///Users/evantilu/miniconda3/envs/6998_DL_torch/lib/python3.9/site-packages/pandas/core/generic.py?line=5575'>5576</a>\u001b[0m \u001b[39mif\u001b[39;00m (\n\u001b[1;32m   <a href='file:///Users/evantilu/miniconda3/envs/6998_DL_torch/lib/python3.9/site-packages/pandas/core/generic.py?line=5576'>5577</a>\u001b[0m     name \u001b[39mnot\u001b[39;00m \u001b[39min\u001b[39;00m \u001b[39mself\u001b[39m\u001b[39m.\u001b[39m_internal_names_set\n\u001b[1;32m   <a href='file:///Users/evantilu/miniconda3/envs/6998_DL_torch/lib/python3.9/site-packages/pandas/core/generic.py?line=5577'>5578</a>\u001b[0m     \u001b[39mand\u001b[39;00m name \u001b[39mnot\u001b[39;00m \u001b[39min\u001b[39;00m \u001b[39mself\u001b[39m\u001b[39m.\u001b[39m_metadata\n\u001b[1;32m   <a href='file:///Users/evantilu/miniconda3/envs/6998_DL_torch/lib/python3.9/site-packages/pandas/core/generic.py?line=5578'>5579</a>\u001b[0m     \u001b[39mand\u001b[39;00m name \u001b[39mnot\u001b[39;00m \u001b[39min\u001b[39;00m \u001b[39mself\u001b[39m\u001b[39m.\u001b[39m_accessors\n\u001b[1;32m   <a href='file:///Users/evantilu/miniconda3/envs/6998_DL_torch/lib/python3.9/site-packages/pandas/core/generic.py?line=5579'>5580</a>\u001b[0m     \u001b[39mand\u001b[39;00m \u001b[39mself\u001b[39m\u001b[39m.\u001b[39m_info_axis\u001b[39m.\u001b[39m_can_hold_identifiers_and_holds_name(name)\n\u001b[1;32m   <a href='file:///Users/evantilu/miniconda3/envs/6998_DL_torch/lib/python3.9/site-packages/pandas/core/generic.py?line=5580'>5581</a>\u001b[0m ):\n\u001b[1;32m   <a href='file:///Users/evantilu/miniconda3/envs/6998_DL_torch/lib/python3.9/site-packages/pandas/core/generic.py?line=5581'>5582</a>\u001b[0m     \u001b[39mreturn\u001b[39;00m \u001b[39mself\u001b[39m[name]\n\u001b[0;32m-> <a href='file:///Users/evantilu/miniconda3/envs/6998_DL_torch/lib/python3.9/site-packages/pandas/core/generic.py?line=5582'>5583</a>\u001b[0m \u001b[39mreturn\u001b[39;00m \u001b[39mobject\u001b[39;49m\u001b[39m.\u001b[39;49m\u001b[39m__getattribute__\u001b[39;49m(\u001b[39mself\u001b[39;49m, name)\n",
      "\u001b[0;31mAttributeError\u001b[0m: 'DataFrame' object has no attribute 'Close'"
     ]
    }
   ],
   "source": [
    "plot_df = pd.read_csv(Path(data_dir, 'plot_df.csv'))\n",
    "plot_df['Close_Change'] = plot_df.Close.pct_change(1)\n",
    "plot_df = plot_df.dropna()"
   ]
  },
  {
   "cell_type": "code",
   "execution_count": null,
   "metadata": {},
   "outputs": [
    {
     "data": {
      "image/png": "[encoded data removed]",
      "text/plain": [
       "<Figure size 864x432 with 1 Axes>"
      ]
     },
     "metadata": {},
     "output_type": "display_data"
    }
   ],
   "source": [
    "plot_df['Close'].plot(figsize=(12,6), rot=45, cmap='viridis')\n",
    "plt.title('Daily Price (Close)')\n",
    "plt.show()"
   ]
  },
  {
   "cell_type": "code",
   "execution_count": 10,
   "metadata": {},
   "outputs": [
    {
     "ename": "KeyError",
     "evalue": "'Close_Change'",
     "output_type": "error",
     "traceback": [
      "\u001b[0;31m---------------------------------------------------------------------------\u001b[0m",
      "\u001b[0;31mKeyError\u001b[0m                                  Traceback (most recent call last)",
      "File \u001b[0;32m~/miniconda3/envs/6998_DL_torch/lib/python3.9/site-packages/pandas/core/indexes/base.py:3621\u001b[0m, in \u001b[0;36mIndex.get_loc\u001b[0;34m(self, key, method, tolerance)\u001b[0m\n\u001b[1;32m   <a href='file:///Users/evantilu/miniconda3/envs/6998_DL_torch/lib/python3.9/site-packages/pandas/core/indexes/base.py?line=3619'>3620</a>\u001b[0m \u001b[39mtry\u001b[39;00m:\n\u001b[0;32m-> <a href='file:///Users/evantilu/miniconda3/envs/6998_DL_torch/lib/python3.9/site-packages/pandas/core/indexes/base.py?line=3620'>3621</a>\u001b[0m     \u001b[39mreturn\u001b[39;00m \u001b[39mself\u001b[39;49m\u001b[39m.\u001b[39;49m_engine\u001b[39m.\u001b[39;49mget_loc(casted_key)\n\u001b[1;32m   <a href='file:///Users/evantilu/miniconda3/envs/6998_DL_torch/lib/python3.9/site-packages/pandas/core/indexes/base.py?line=3621'>3622</a>\u001b[0m \u001b[39mexcept\u001b[39;00m \u001b[39mKeyError\u001b[39;00m \u001b[39mas\u001b[39;00m err:\n",
      "File \u001b[0;32m~/miniconda3/envs/6998_DL_torch/lib/python3.9/site-packages/pandas/_libs/index.pyx:136\u001b[0m, in \u001b[0;36mpandas._libs.index.IndexEngine.get_loc\u001b[0;34m()\u001b[0m\n",
      "File \u001b[0;32m~/miniconda3/envs/6998_DL_torch/lib/python3.9/site-packages/pandas/_libs/index.pyx:163\u001b[0m, in \u001b[0;36mpandas._libs.index.IndexEngine.get_loc\u001b[0;34m()\u001b[0m\n",
      "File \u001b[0;32mpandas/_libs/hashtable_class_helper.pxi:5198\u001b[0m, in \u001b[0;36mpandas._libs.hashtable.PyObjectHashTable.get_item\u001b[0;34m()\u001b[0m\n",
      "File \u001b[0;32mpandas/_libs/hashtable_class_helper.pxi:5206\u001b[0m, in \u001b[0;36mpandas._libs.hashtable.PyObjectHashTable.get_item\u001b[0;34m()\u001b[0m\n",
      "\u001b[0;31mKeyError\u001b[0m: 'Close_Change'",
      "\nThe above exception was the direct cause of the following exception:\n",
      "\u001b[0;31mKeyError\u001b[0m                                  Traceback (most recent call last)",
      "\u001b[1;32m/Users/evantilu/My Drive (tl3098@columbia.edu)/Spring 2022/6998 AdvDL/6998_Adv_DL_project/reference project/notebook/forecast.ipynb Cell 14'\u001b[0m in \u001b[0;36m<cell line: 2>\u001b[0;34m()\u001b[0m\n\u001b[1;32m      <a href='vscode-notebook-cell:/Users/evantilu/My%20Drive%20%28tl3098%40columbia.edu%29/Spring%202022/6998%20AdvDL/6998_Adv_DL_project/reference%20project/notebook/forecast.ipynb#ch0000012?line=0'>1</a>\u001b[0m fig, axes \u001b[39m=\u001b[39m plt\u001b[39m.\u001b[39msubplots(nrows\u001b[39m=\u001b[39m\u001b[39m3\u001b[39m, ncols\u001b[39m=\u001b[39m\u001b[39m1\u001b[39m)\n\u001b[0;32m----> <a href='vscode-notebook-cell:/Users/evantilu/My%20Drive%20%28tl3098%40columbia.edu%29/Spring%202022/6998%20AdvDL/6998_Adv_DL_project/reference%20project/notebook/forecast.ipynb#ch0000012?line=1'>2</a>\u001b[0m plot_df[\u001b[39m'\u001b[39;49m\u001b[39mClose_Change\u001b[39;49m\u001b[39m'\u001b[39;49m]\u001b[39m.\u001b[39mplot(ax\u001b[39m=\u001b[39maxes[\u001b[39m0\u001b[39m], figsize\u001b[39m=\u001b[39m(\u001b[39m12\u001b[39m,\u001b[39m6\u001b[39m), rot\u001b[39m=\u001b[39m\u001b[39m90\u001b[39m, title\u001b[39m=\u001b[39m\u001b[39m'\u001b[39m\u001b[39ma. Daily Price Change\u001b[39m\u001b[39m'\u001b[39m, sharex\u001b[39m=\u001b[39m\u001b[39mTrue\u001b[39;00m)\n\u001b[1;32m      <a href='vscode-notebook-cell:/Users/evantilu/My%20Drive%20%28tl3098%40columbia.edu%29/Spring%202022/6998%20AdvDL/6998_Adv_DL_project/reference%20project/notebook/forecast.ipynb#ch0000012?line=2'>3</a>\u001b[0m plot_df[\u001b[39m'\u001b[39m\u001b[39mClose_Change\u001b[39m\u001b[39m'\u001b[39m]\u001b[39m.\u001b[39mrolling(\u001b[39m90\u001b[39m)\u001b[39m.\u001b[39mmean()\u001b[39m.\u001b[39mplot(ax\u001b[39m=\u001b[39maxes[\u001b[39m1\u001b[39m], figsize\u001b[39m=\u001b[39m(\u001b[39m12\u001b[39m,\u001b[39m6\u001b[39m), rot\u001b[39m=\u001b[39m\u001b[39m90\u001b[39m, title\u001b[39m=\u001b[39m\u001b[39m'\u001b[39m\u001b[39mb. Rolling Mean\u001b[39m\u001b[39m'\u001b[39m, color\u001b[39m=\u001b[39m\u001b[39m'\u001b[39m\u001b[39morange\u001b[39m\u001b[39m'\u001b[39m)\n\u001b[1;32m      <a href='vscode-notebook-cell:/Users/evantilu/My%20Drive%20%28tl3098%40columbia.edu%29/Spring%202022/6998%20AdvDL/6998_Adv_DL_project/reference%20project/notebook/forecast.ipynb#ch0000012?line=3'>4</a>\u001b[0m plot_df[\u001b[39m'\u001b[39m\u001b[39mClose_Change\u001b[39m\u001b[39m'\u001b[39m]\u001b[39m.\u001b[39mrolling(\u001b[39m90\u001b[39m)\u001b[39m.\u001b[39mstd()\u001b[39m.\u001b[39mplot(ax\u001b[39m=\u001b[39maxes[\u001b[39m2\u001b[39m], figsize\u001b[39m=\u001b[39m(\u001b[39m12\u001b[39m,\u001b[39m6\u001b[39m), rot\u001b[39m=\u001b[39m\u001b[39m0\u001b[39m, title\u001b[39m=\u001b[39m\u001b[39m'\u001b[39m\u001b[39mc. Rolling Standard Deviation\u001b[39m\u001b[39m'\u001b[39m, color\u001b[39m=\u001b[39m\u001b[39m'\u001b[39m\u001b[39mpurple\u001b[39m\u001b[39m'\u001b[39m)\n",
      "File \u001b[0;32m~/miniconda3/envs/6998_DL_torch/lib/python3.9/site-packages/pandas/core/frame.py:3505\u001b[0m, in \u001b[0;36mDataFrame.__getitem__\u001b[0;34m(self, key)\u001b[0m\n\u001b[1;32m   <a href='file:///Users/evantilu/miniconda3/envs/6998_DL_torch/lib/python3.9/site-packages/pandas/core/frame.py?line=3502'>3503</a>\u001b[0m \u001b[39mif\u001b[39;00m \u001b[39mself\u001b[39m\u001b[39m.\u001b[39mcolumns\u001b[39m.\u001b[39mnlevels \u001b[39m>\u001b[39m \u001b[39m1\u001b[39m:\n\u001b[1;32m   <a href='file:///Users/evantilu/miniconda3/envs/6998_DL_torch/lib/python3.9/site-packages/pandas/core/frame.py?line=3503'>3504</a>\u001b[0m     \u001b[39mreturn\u001b[39;00m \u001b[39mself\u001b[39m\u001b[39m.\u001b[39m_getitem_multilevel(key)\n\u001b[0;32m-> <a href='file:///Users/evantilu/miniconda3/envs/6998_DL_torch/lib/python3.9/site-packages/pandas/core/frame.py?line=3504'>3505</a>\u001b[0m indexer \u001b[39m=\u001b[39m \u001b[39mself\u001b[39;49m\u001b[39m.\u001b[39;49mcolumns\u001b[39m.\u001b[39;49mget_loc(key)\n\u001b[1;32m   <a href='file:///Users/evantilu/miniconda3/envs/6998_DL_torch/lib/python3.9/site-packages/pandas/core/frame.py?line=3505'>3506</a>\u001b[0m \u001b[39mif\u001b[39;00m is_integer(indexer):\n\u001b[1;32m   <a href='file:///Users/evantilu/miniconda3/envs/6998_DL_torch/lib/python3.9/site-packages/pandas/core/frame.py?line=3506'>3507</a>\u001b[0m     indexer \u001b[39m=\u001b[39m [indexer]\n",
      "File \u001b[0;32m~/miniconda3/envs/6998_DL_torch/lib/python3.9/site-packages/pandas/core/indexes/base.py:3623\u001b[0m, in \u001b[0;36mIndex.get_loc\u001b[0;34m(self, key, method, tolerance)\u001b[0m\n\u001b[1;32m   <a href='file:///Users/evantilu/miniconda3/envs/6998_DL_torch/lib/python3.9/site-packages/pandas/core/indexes/base.py?line=3620'>3621</a>\u001b[0m     \u001b[39mreturn\u001b[39;00m \u001b[39mself\u001b[39m\u001b[39m.\u001b[39m_engine\u001b[39m.\u001b[39mget_loc(casted_key)\n\u001b[1;32m   <a href='file:///Users/evantilu/miniconda3/envs/6998_DL_torch/lib/python3.9/site-packages/pandas/core/indexes/base.py?line=3621'>3622</a>\u001b[0m \u001b[39mexcept\u001b[39;00m \u001b[39mKeyError\u001b[39;00m \u001b[39mas\u001b[39;00m err:\n\u001b[0;32m-> <a href='file:///Users/evantilu/miniconda3/envs/6998_DL_torch/lib/python3.9/site-packages/pandas/core/indexes/base.py?line=3622'>3623</a>\u001b[0m     \u001b[39mraise\u001b[39;00m \u001b[39mKeyError\u001b[39;00m(key) \u001b[39mfrom\u001b[39;00m \u001b[39merr\u001b[39;00m\n\u001b[1;32m   <a href='file:///Users/evantilu/miniconda3/envs/6998_DL_torch/lib/python3.9/site-packages/pandas/core/indexes/base.py?line=3623'>3624</a>\u001b[0m \u001b[39mexcept\u001b[39;00m \u001b[39mTypeError\u001b[39;00m:\n\u001b[1;32m   <a href='file:///Users/evantilu/miniconda3/envs/6998_DL_torch/lib/python3.9/site-packages/pandas/core/indexes/base.py?line=3624'>3625</a>\u001b[0m     \u001b[39m# If we have a listlike key, _check_indexing_error will raise\u001b[39;00m\n\u001b[1;32m   <a href='file:///Users/evantilu/miniconda3/envs/6998_DL_torch/lib/python3.9/site-packages/pandas/core/indexes/base.py?line=3625'>3626</a>\u001b[0m     \u001b[39m#  InvalidIndexError. Otherwise we fall through and re-raise\u001b[39;00m\n\u001b[1;32m   <a href='file:///Users/evantilu/miniconda3/envs/6998_DL_torch/lib/python3.9/site-packages/pandas/core/indexes/base.py?line=3626'>3627</a>\u001b[0m     \u001b[39m#  the TypeError.\u001b[39;00m\n\u001b[1;32m   <a href='file:///Users/evantilu/miniconda3/envs/6998_DL_torch/lib/python3.9/site-packages/pandas/core/indexes/base.py?line=3627'>3628</a>\u001b[0m     \u001b[39mself\u001b[39m\u001b[39m.\u001b[39m_check_indexing_error(key)\n",
      "\u001b[0;31mKeyError\u001b[0m: 'Close_Change'"
     ]
    },
    {
     "data": {
      "image/png": "[encoded data removed]",
      "text/plain": [
       "<Figure size 432x288 with 3 Axes>"
      ]
     },
     "metadata": {},
     "output_type": "display_data"
    }
   ],
   "source": [
    "fig, axes = plt.subplots(nrows=3, ncols=1)\n",
    "plot_df['Close_Change'].plot(ax=axes[0], figsize=(12,6), rot=90, title='a. Daily Price Change', sharex=True)\n",
    "plot_df['Close_Change'].rolling(90).mean().plot(ax=axes[1], figsize=(12,6), rot=90, title='b. Rolling Mean', color='orange')\n",
    "plot_df['Close_Change'].rolling(90).std().plot(ax=axes[2], figsize=(12,6), rot=0, title='c. Rolling Standard Deviation', color='purple')\n",
    "plt.show()"
   ]
  },
  {
   "cell_type": "markdown",
   "metadata": {},
   "source": [
    "### Train the LSTM model"
   ]
  },
  {
   "cell_type": "code",
   "execution_count": 14,
   "metadata": {
    "collapsed": true
   },
   "outputs": [],
   "source": [
    "sequence_length = 30\n",
    "batch_size = 64\n",
    "n_epochs = 100\n",
    "n_epochs_stop = 10\n",
    "label_name = 'median_listing_price'"
   ]
  },
  {
   "cell_type": "code",
   "execution_count": 15,
   "metadata": {},
   "outputs": [
    {
     "name": "stdout",
     "output_type": "stream",
     "text": [
      "Starting with model training...\n",
      "Epoch 1 train loss: 0.0074 test loss: 0.0085\n",
      "Epoch 2 train loss: 0.0071 test loss: 0.0085\n",
      "Epoch 3 train loss: 0.0071 test loss: 0.0085\n",
      "Epoch 4 train loss: 0.007 test loss: 0.0085\n",
      "Epoch 5 train loss: 0.0071 test loss: 0.0085\n",
      "Epoch 6 train loss: 0.0071 test loss: 0.0085\n",
      "Epoch 7 train loss: 0.007 test loss: 0.0085\n",
      "Epoch 8 train loss: 0.007 test loss: 0.0085\n",
      "Epoch 9 train loss: 0.007 test loss: 0.0085\n",
      "Epoch 10 train loss: 0.0071 test loss: 0.0085\n",
      "Early stopping.\n",
      "Completed.\n"
     ]
    }
   ],
   "source": [
    "hist = train.train_model(train_df, test_df, label_name, sequence_length, batch_size, n_epochs, n_epochs_stop)"
   ]
  },
  {
   "cell_type": "code",
   "execution_count": 16,
   "metadata": {},
   "outputs": [
    {
     "data": {
      "image/png": "[encoded data removed]",
      "text/plain": [
       "<Figure size 864x432 with 1 Axes>"
      ]
     },
     "metadata": {},
     "output_type": "display_data"
    }
   ],
   "source": [
    "hist.plot(figsize=(12,6), cmap='viridis')\n",
    "plt.show()"
   ]
  },
  {
   "cell_type": "markdown",
   "metadata": {},
   "source": [
    "### Evaluate the model"
   ]
  },
  {
   "cell_type": "code",
   "execution_count": 23,
   "metadata": {},
   "outputs": [
    {
     "data": {
      "text/plain": [
       "((881,), (881,))"
      ]
     },
     "execution_count": 23,
     "metadata": {},
     "output_type": "execute_result"
    }
   ],
   "source": [
    "predictions_descaled, labels_descaled = inference.predict(df=test_df,\n",
    "                                                          label_name='Close',\n",
    "                                                          sequence_length=sequence_length)\n",
    "\n",
    "predictions_descaled.shape, predictions_descaled.shape"
   ]
  },
  {
   "cell_type": "code",
   "execution_count": 24,
   "metadata": {},
   "outputs": [
    {
     "name": "stdout",
     "output_type": "stream",
     "text": [
      "Error on all test data:\n",
      "RMSE:  9452.15\n",
      "MAE:  6107.52\n",
      "\n",
      "\n",
      "Error on partial test data:\n",
      "RMSE:  781.31\n",
      "MAE:  728.72\n"
     ]
    }
   ],
   "source": [
    "print('Error on all test data:')\n",
    "inference.print_loss_metrics(labels_descaled, predictions_descaled)\n",
    "print('\\n')\n",
    "print('Error on partial test data:')\n",
    "inference.print_loss_metrics(labels_descaled[:30], predictions_descaled[:30])"
   ]
  },
  {
   "cell_type": "code",
   "execution_count": 25,
   "metadata": {},
   "outputs": [
    {
     "data": {
      "image/png": "[encoded data removed]",
      "text/plain": [
       "<Figure size 864x432 with 1 Axes>"
      ]
     },
     "metadata": {},
     "output_type": "display_data"
    }
   ],
   "source": [
    "# plot predictions vs true values\n",
    "df_pred = pd.DataFrame()\n",
    "df_pred['predicted'] = predictions_descaled\n",
    "df_pred['true'] = labels_descaled\n",
    "df_pred['residual'] = labels_descaled - predictions_descaled\n",
    "df_pred.plot(figsize=(12,6), cmap='viridis')\n",
    "plt.xticks(rotation=45)\n",
    "#plt.xlim(0,300)\n",
    "plt.xlabel('days')\n",
    "plt.ylabel('price')\n",
    "plt.legend()\n",
    "plt.show()"
   ]
  },
  {
   "cell_type": "markdown",
   "metadata": {},
   "source": [
    "### Find important features"
   ]
  },
  {
   "cell_type": "code",
   "execution_count": null,
   "metadata": {
    "collapsed": true
   },
   "outputs": [],
   "source": [
    "from train import TimeSeriesDataset, TSModel\n",
    "from torch.utils.data import DataLoader\n",
    "import torch\n",
    "import shap"
   ]
  },
  {
   "cell_type": "code",
   "execution_count": 26,
   "metadata": {
    "collapsed": true
   },
   "outputs": [],
   "source": [
    "background_data_size = 900\n",
    "test_sample_size = 100\n",
    "sequence_length = 30"
   ]
  },
  {
   "cell_type": "code",
   "execution_count": 27,
   "metadata": {},
   "outputs": [
    {
     "name": "stderr",
     "output_type": "stream",
     "text": [
      "Using non-full backward hooks on a Module that does not return a single Tensor or a tuple of Tensors is deprecated and will be removed in future versions. This hook will be missing some of the grad_output. Please use register_full_backward_hook to get the documented behavior.\n",
      "Using a non-full backward hook when the forward contains multiple autograd Nodes is deprecated and will be removed in future versions. This hook will be missing some grad_input. Please use register_full_backward_hook to get the documented behavior.\n"
     ]
    }
   ],
   "source": [
    "shap_values = interpret.get_important_features(\n",
    "    background_data_size,\n",
    "    test_sample_size,\n",
    "    sequence_length\n",
    ")"
   ]
  },
  {
   "cell_type": "code",
   "execution_count": 28,
   "metadata": {},
   "outputs": [
    {
     "data": {
      "text/html": [
       "<div>\n",
       "<style scoped>\n",
       "    .dataframe tbody tr th:only-of-type {\n",
       "        vertical-align: middle;\n",
       "    }\n",
       "\n",
       "    .dataframe tbody tr th {\n",
       "        vertical-align: top;\n",
       "    }\n",
       "\n",
       "    .dataframe thead th {\n",
       "        text-align: right;\n",
       "    }\n",
       "</style>\n",
       "<table border=\"1\" class=\"dataframe\">\n",
       "  <thead>\n",
       "    <tr style=\"text-align: right;\">\n",
       "      <th></th>\n",
       "      <th>Close</th>\n",
       "      <th>Volume</th>\n",
       "      <th>High_Low_Pct</th>\n",
       "      <th>Open_Close_Pct</th>\n",
       "      <th>Day_Of_Week</th>\n",
       "      <th>Month_Of_Year</th>\n",
       "      <th>Quarter_Of_Year</th>\n",
       "      <th>days</th>\n",
       "    </tr>\n",
       "  </thead>\n",
       "  <tbody>\n",
       "    <tr>\n",
       "      <th>0</th>\n",
       "      <td>4.536464e-09</td>\n",
       "      <td>1.308553e-09</td>\n",
       "      <td>3.733840e-09</td>\n",
       "      <td>2.277841e-10</td>\n",
       "      <td>5.855153e-09</td>\n",
       "      <td>5.049538e-09</td>\n",
       "      <td>1.111705e-08</td>\n",
       "      <td>-30</td>\n",
       "    </tr>\n",
       "    <tr>\n",
       "      <th>1</th>\n",
       "      <td>1.299062e-08</td>\n",
       "      <td>3.230439e-09</td>\n",
       "      <td>7.978107e-09</td>\n",
       "      <td>3.186419e-10</td>\n",
       "      <td>1.103054e-08</td>\n",
       "      <td>1.230902e-08</td>\n",
       "      <td>2.207379e-08</td>\n",
       "      <td>-29</td>\n",
       "    </tr>\n",
       "    <tr>\n",
       "      <th>2</th>\n",
       "      <td>2.942053e-08</td>\n",
       "      <td>6.724776e-09</td>\n",
       "      <td>1.539174e-08</td>\n",
       "      <td>3.841993e-10</td>\n",
       "      <td>1.985690e-08</td>\n",
       "      <td>2.498790e-08</td>\n",
       "      <td>4.195253e-08</td>\n",
       "      <td>-28</td>\n",
       "    </tr>\n",
       "    <tr>\n",
       "      <th>3</th>\n",
       "      <td>6.048772e-08</td>\n",
       "      <td>1.322252e-08</td>\n",
       "      <td>2.852340e-08</td>\n",
       "      <td>4.409924e-10</td>\n",
       "      <td>3.434911e-08</td>\n",
       "      <td>4.608339e-08</td>\n",
       "      <td>7.675932e-08</td>\n",
       "      <td>-27</td>\n",
       "    </tr>\n",
       "    <tr>\n",
       "      <th>4</th>\n",
       "      <td>1.182631e-07</td>\n",
       "      <td>2.511822e-08</td>\n",
       "      <td>5.172206e-08</td>\n",
       "      <td>7.218557e-10</td>\n",
       "      <td>5.741765e-08</td>\n",
       "      <td>8.004698e-08</td>\n",
       "      <td>1.358695e-07</td>\n",
       "      <td>-26</td>\n",
       "    </tr>\n",
       "  </tbody>\n",
       "</table>\n",
       "</div>"
      ],
      "text/plain": [
       "          Close        Volume  High_Low_Pct  Open_Close_Pct   Day_Of_Week  \\\n",
       "0  4.536464e-09  1.308553e-09  3.733840e-09    2.277841e-10  5.855153e-09   \n",
       "1  1.299062e-08  3.230439e-09  7.978107e-09    3.186419e-10  1.103054e-08   \n",
       "2  2.942053e-08  6.724776e-09  1.539174e-08    3.841993e-10  1.985690e-08   \n",
       "3  6.048772e-08  1.322252e-08  2.852340e-08    4.409924e-10  3.434911e-08   \n",
       "4  1.182631e-07  2.511822e-08  5.172206e-08    7.218557e-10  5.741765e-08   \n",
       "\n",
       "   Month_Of_Year  Quarter_Of_Year  days  \n",
       "0   5.049538e-09     1.111705e-08   -30  \n",
       "1   1.230902e-08     2.207379e-08   -29  \n",
       "2   2.498790e-08     4.195253e-08   -28  \n",
       "3   4.608339e-08     7.675932e-08   -27  \n",
       "4   8.004698e-08     1.358695e-07   -26  "
      ]
     },
     "execution_count": 28,
     "metadata": {},
     "output_type": "execute_result"
    }
   ],
   "source": [
    "shap_plot = pd.DataFrame(shap_values, columns=train_df.columns.tolist())\n",
    "shap_plot['days'] = [i-31 for i in list(range(1,31))]\n",
    "shap_plot.head()"
   ]
  },
  {
   "cell_type": "code",
   "execution_count": 29,
   "metadata": {},
   "outputs": [
    {
     "data": {
      "image/png": "[encoded data removed]",
      "text/plain": [
       "<Figure size 720x432 with 1 Axes>"
      ]
     },
     "metadata": {},
     "output_type": "display_data"
    }
   ],
   "source": [
    "shap_plot.plot.area(x='days',figsize=(10, 6), cmap='viridis')\n",
    "plt.title(\"Deep SHAP - Feature Importance\")\n",
    "plt.show()"
   ]
  },
  {
   "cell_type": "code",
   "execution_count": null,
   "metadata": {
    "collapsed": true
   },
   "outputs": [],
   "source": []
  }
 ],
 "metadata": {
  "kernelspec": {
   "display_name": "Python 3",
   "language": "python",
   "name": "python3"
  },
  "language_info": {
   "codemirror_mode": {
    "name": "ipython",
    "version": 3
   },
   "file_extension": ".py",
   "mimetype": "text/x-python",
   "name": "python",
   "nbconvert_exporter": "python",
   "pygments_lexer": "ipython3",
   "version": "3.9.12"
  }
 },
 "nbformat": 4,
 "nbformat_minor": 4
}
