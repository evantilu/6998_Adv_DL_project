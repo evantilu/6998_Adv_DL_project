{
 "cells": [
  {
   "cell_type": "markdown",
   "metadata": {},
   "source": [
    "## Baseline model test\n",
    "#### Trivial DNN\n",
    "Followed this: https://www.tensorflow.org/tutorials/load_data/numpy\n",
    "&nbsp;\n",
    "\n",
    "and some part of this: https://www.tensorflow.org/tutorials/images/classification\n"
   ]
  },
  {
   "cell_type": "code",
   "execution_count": 1,
   "metadata": {},
   "outputs": [],
   "source": [
    "import numpy as np\n",
    "import tensorflow as tf\n",
    "import pandas as pd\n",
    "from matplotlib import pyplot as plt"
   ]
  },
  {
   "cell_type": "code",
   "execution_count": 2,
   "metadata": {},
   "outputs": [
    {
     "data": {
      "text/html": [
       "<div>\n",
       "<style scoped>\n",
       "    .dataframe tbody tr th:only-of-type {\n",
       "        vertical-align: middle;\n",
       "    }\n",
       "\n",
       "    .dataframe tbody tr th {\n",
       "        vertical-align: top;\n",
       "    }\n",
       "\n",
       "    .dataframe thead th {\n",
       "        text-align: right;\n",
       "    }\n",
       "</style>\n",
       "<table border=\"1\" class=\"dataframe\">\n",
       "  <thead>\n",
       "    <tr style=\"text-align: right;\">\n",
       "      <th></th>\n",
       "      <th>OverallQual</th>\n",
       "      <th>GrLivArea</th>\n",
       "      <th>GarageCars</th>\n",
       "      <th>Total_Bathrooms</th>\n",
       "      <th>GarageArea</th>\n",
       "      <th>YrBltAndRemod</th>\n",
       "      <th>TotalBsmtSF</th>\n",
       "      <th>1stFlrSF</th>\n",
       "      <th>YearBuilt</th>\n",
       "      <th>FullBath</th>\n",
       "      <th>...</th>\n",
       "      <th>MSZoning_RM</th>\n",
       "      <th>HeatingQC_TA</th>\n",
       "      <th>CentralAir_N</th>\n",
       "      <th>GarageType_Detchd</th>\n",
       "      <th>MasVnrType_None</th>\n",
       "      <th>GarageFinish_Unf</th>\n",
       "      <th>BsmtQual_TA</th>\n",
       "      <th>FireplaceQu_None</th>\n",
       "      <th>KitchenQual_TA</th>\n",
       "      <th>ExterQual_TA</th>\n",
       "    </tr>\n",
       "  </thead>\n",
       "  <tbody>\n",
       "    <tr>\n",
       "      <th>0</th>\n",
       "      <td>0.650999</td>\n",
       "      <td>0.569871</td>\n",
       "      <td>0.307827</td>\n",
       "      <td>1.611715</td>\n",
       "      <td>0.354247</td>\n",
       "      <td>1.094212</td>\n",
       "      <td>-0.428194</td>\n",
       "      <td>-0.778576</td>\n",
       "      <td>1.047388</td>\n",
       "      <td>0.782852</td>\n",
       "      <td>...</td>\n",
       "      <td>-0.434337</td>\n",
       "      <td>-0.644335</td>\n",
       "      <td>-0.267212</td>\n",
       "      <td>-0.603411</td>\n",
       "      <td>-1.239239</td>\n",
       "      <td>-0.854195</td>\n",
       "      <td>-0.885269</td>\n",
       "      <td>1.026105</td>\n",
       "      <td>-1.023991</td>\n",
       "      <td>-1.268236</td>\n",
       "    </tr>\n",
       "    <tr>\n",
       "      <th>1</th>\n",
       "      <td>-0.061429</td>\n",
       "      <td>-0.372791</td>\n",
       "      <td>0.307827</td>\n",
       "      <td>0.174120</td>\n",
       "      <td>-0.056586</td>\n",
       "      <td>-0.077091</td>\n",
       "      <td>0.521274</td>\n",
       "      <td>0.435860</td>\n",
       "      <td>0.155274</td>\n",
       "      <td>0.782852</td>\n",
       "      <td>...</td>\n",
       "      <td>-0.434337</td>\n",
       "      <td>-0.644335</td>\n",
       "      <td>-0.267212</td>\n",
       "      <td>-0.603411</td>\n",
       "      <td>0.806947</td>\n",
       "      <td>-0.854195</td>\n",
       "      <td>-0.885269</td>\n",
       "      <td>-0.974559</td>\n",
       "      <td>0.976571</td>\n",
       "      <td>0.788497</td>\n",
       "    </tr>\n",
       "    <tr>\n",
       "      <th>2</th>\n",
       "      <td>0.650999</td>\n",
       "      <td>0.705404</td>\n",
       "      <td>0.307827</td>\n",
       "      <td>1.611715</td>\n",
       "      <td>0.634360</td>\n",
       "      <td>1.029140</td>\n",
       "      <td>-0.275823</td>\n",
       "      <td>-0.552213</td>\n",
       "      <td>0.981305</td>\n",
       "      <td>0.782852</td>\n",
       "      <td>...</td>\n",
       "      <td>-0.434337</td>\n",
       "      <td>-0.644335</td>\n",
       "      <td>-0.267212</td>\n",
       "      <td>-0.603411</td>\n",
       "      <td>-1.239239</td>\n",
       "      <td>-0.854195</td>\n",
       "      <td>-0.885269</td>\n",
       "      <td>-0.974559</td>\n",
       "      <td>-1.023991</td>\n",
       "      <td>-1.268236</td>\n",
       "    </tr>\n",
       "    <tr>\n",
       "      <th>3</th>\n",
       "      <td>0.650999</td>\n",
       "      <td>0.582597</td>\n",
       "      <td>1.621732</td>\n",
       "      <td>-0.279060</td>\n",
       "      <td>0.793091</td>\n",
       "      <td>-1.530375</td>\n",
       "      <td>-0.668731</td>\n",
       "      <td>-0.415506</td>\n",
       "      <td>-1.860240</td>\n",
       "      <td>-1.027221</td>\n",
       "      <td>...</td>\n",
       "      <td>-0.434337</td>\n",
       "      <td>-0.644335</td>\n",
       "      <td>-0.267212</td>\n",
       "      <td>1.657245</td>\n",
       "      <td>0.806947</td>\n",
       "      <td>1.170693</td>\n",
       "      <td>1.129600</td>\n",
       "      <td>-0.974559</td>\n",
       "      <td>-1.023991</td>\n",
       "      <td>0.788497</td>\n",
       "    </tr>\n",
       "    <tr>\n",
       "      <th>4</th>\n",
       "      <td>1.363427</td>\n",
       "      <td>1.354429</td>\n",
       "      <td>1.621732</td>\n",
       "      <td>1.611715</td>\n",
       "      <td>1.698790</td>\n",
       "      <td>0.964067</td>\n",
       "      <td>0.251510</td>\n",
       "      <td>0.132455</td>\n",
       "      <td>0.948264</td>\n",
       "      <td>0.782852</td>\n",
       "      <td>...</td>\n",
       "      <td>-0.434337</td>\n",
       "      <td>-0.644335</td>\n",
       "      <td>-0.267212</td>\n",
       "      <td>-0.603411</td>\n",
       "      <td>-1.239239</td>\n",
       "      <td>-0.854195</td>\n",
       "      <td>-0.885269</td>\n",
       "      <td>-0.974559</td>\n",
       "      <td>-1.023991</td>\n",
       "      <td>-1.268236</td>\n",
       "    </tr>\n",
       "    <tr>\n",
       "      <th>...</th>\n",
       "      <td>...</td>\n",
       "      <td>...</td>\n",
       "      <td>...</td>\n",
       "      <td>...</td>\n",
       "      <td>...</td>\n",
       "      <td>...</td>\n",
       "      <td>...</td>\n",
       "      <td>...</td>\n",
       "      <td>...</td>\n",
       "      <td>...</td>\n",
       "      <td>...</td>\n",
       "      <td>...</td>\n",
       "      <td>...</td>\n",
       "      <td>...</td>\n",
       "      <td>...</td>\n",
       "      <td>...</td>\n",
       "      <td>...</td>\n",
       "      <td>...</td>\n",
       "      <td>...</td>\n",
       "      <td>...</td>\n",
       "      <td>...</td>\n",
       "    </tr>\n",
       "    <tr>\n",
       "      <th>2906</th>\n",
       "      <td>-1.486284</td>\n",
       "      <td>-0.819162</td>\n",
       "      <td>-2.319985</td>\n",
       "      <td>-0.844079</td>\n",
       "      <td>-2.204119</td>\n",
       "      <td>-0.337381</td>\n",
       "      <td>-1.185593</td>\n",
       "      <td>-2.198241</td>\n",
       "      <td>-0.042973</td>\n",
       "      <td>-1.027221</td>\n",
       "      <td>...</td>\n",
       "      <td>2.302361</td>\n",
       "      <td>-0.644335</td>\n",
       "      <td>-0.267212</td>\n",
       "      <td>-0.603411</td>\n",
       "      <td>0.806947</td>\n",
       "      <td>-0.854195</td>\n",
       "      <td>1.129600</td>\n",
       "      <td>1.026105</td>\n",
       "      <td>0.976571</td>\n",
       "      <td>0.788497</td>\n",
       "    </tr>\n",
       "    <tr>\n",
       "      <th>2907</th>\n",
       "      <td>-1.486284</td>\n",
       "      <td>-0.819162</td>\n",
       "      <td>-1.006079</td>\n",
       "      <td>-0.844079</td>\n",
       "      <td>-0.868913</td>\n",
       "      <td>-0.337381</td>\n",
       "      <td>-1.185593</td>\n",
       "      <td>-2.198241</td>\n",
       "      <td>-0.042973</td>\n",
       "      <td>-1.027221</td>\n",
       "      <td>...</td>\n",
       "      <td>2.302361</td>\n",
       "      <td>1.551987</td>\n",
       "      <td>-0.267212</td>\n",
       "      <td>-0.603411</td>\n",
       "      <td>0.806947</td>\n",
       "      <td>1.170693</td>\n",
       "      <td>1.129600</td>\n",
       "      <td>1.026105</td>\n",
       "      <td>0.976571</td>\n",
       "      <td>0.788497</td>\n",
       "    </tr>\n",
       "    <tr>\n",
       "      <th>2908</th>\n",
       "      <td>-0.773857</td>\n",
       "      <td>-0.467252</td>\n",
       "      <td>0.307827</td>\n",
       "      <td>-0.279060</td>\n",
       "      <td>0.484966</td>\n",
       "      <td>0.009672</td>\n",
       "      <td>0.433960</td>\n",
       "      <td>0.340588</td>\n",
       "      <td>-0.373385</td>\n",
       "      <td>-1.027221</td>\n",
       "      <td>...</td>\n",
       "      <td>-0.434337</td>\n",
       "      <td>-0.644335</td>\n",
       "      <td>-0.267212</td>\n",
       "      <td>1.657245</td>\n",
       "      <td>0.806947</td>\n",
       "      <td>1.170693</td>\n",
       "      <td>1.129600</td>\n",
       "      <td>-0.974559</td>\n",
       "      <td>0.976571</td>\n",
       "      <td>0.788497</td>\n",
       "    </tr>\n",
       "    <tr>\n",
       "      <th>2909</th>\n",
       "      <td>-0.773857</td>\n",
       "      <td>-1.183409</td>\n",
       "      <td>-2.319985</td>\n",
       "      <td>-1.058431</td>\n",
       "      <td>-2.204119</td>\n",
       "      <td>0.617014</td>\n",
       "      <td>-0.294807</td>\n",
       "      <td>-0.386295</td>\n",
       "      <td>0.683934</td>\n",
       "      <td>-1.027221</td>\n",
       "      <td>...</td>\n",
       "      <td>-0.434337</td>\n",
       "      <td>1.551987</td>\n",
       "      <td>-0.267212</td>\n",
       "      <td>-0.603411</td>\n",
       "      <td>0.806947</td>\n",
       "      <td>-0.854195</td>\n",
       "      <td>-0.885269</td>\n",
       "      <td>1.026105</td>\n",
       "      <td>0.976571</td>\n",
       "      <td>0.788497</td>\n",
       "    </tr>\n",
       "    <tr>\n",
       "      <th>2910</th>\n",
       "      <td>0.650999</td>\n",
       "      <td>1.058833</td>\n",
       "      <td>1.621732</td>\n",
       "      <td>0.388472</td>\n",
       "      <td>0.830439</td>\n",
       "      <td>0.682087</td>\n",
       "      <td>-0.096324</td>\n",
       "      <td>-0.303440</td>\n",
       "      <td>0.716975</td>\n",
       "      <td>0.782852</td>\n",
       "      <td>...</td>\n",
       "      <td>-0.434337</td>\n",
       "      <td>-0.644335</td>\n",
       "      <td>-0.267212</td>\n",
       "      <td>-0.603411</td>\n",
       "      <td>-1.239239</td>\n",
       "      <td>-0.854195</td>\n",
       "      <td>-0.885269</td>\n",
       "      <td>-0.974559</td>\n",
       "      <td>0.976571</td>\n",
       "      <td>0.788497</td>\n",
       "    </tr>\n",
       "  </tbody>\n",
       "</table>\n",
       "<p>2911 rows × 320 columns</p>\n",
       "</div>"
      ],
      "text/plain": [
       "      OverallQual  GrLivArea  GarageCars  Total_Bathrooms  GarageArea  \\\n",
       "0        0.650999   0.569871    0.307827         1.611715    0.354247   \n",
       "1       -0.061429  -0.372791    0.307827         0.174120   -0.056586   \n",
       "2        0.650999   0.705404    0.307827         1.611715    0.634360   \n",
       "3        0.650999   0.582597    1.621732        -0.279060    0.793091   \n",
       "4        1.363427   1.354429    1.621732         1.611715    1.698790   \n",
       "...           ...        ...         ...              ...         ...   \n",
       "2906    -1.486284  -0.819162   -2.319985        -0.844079   -2.204119   \n",
       "2907    -1.486284  -0.819162   -1.006079        -0.844079   -0.868913   \n",
       "2908    -0.773857  -0.467252    0.307827        -0.279060    0.484966   \n",
       "2909    -0.773857  -1.183409   -2.319985        -1.058431   -2.204119   \n",
       "2910     0.650999   1.058833    1.621732         0.388472    0.830439   \n",
       "\n",
       "      YrBltAndRemod  TotalBsmtSF  1stFlrSF  YearBuilt  FullBath  ...  \\\n",
       "0          1.094212    -0.428194 -0.778576   1.047388  0.782852  ...   \n",
       "1         -0.077091     0.521274  0.435860   0.155274  0.782852  ...   \n",
       "2          1.029140    -0.275823 -0.552213   0.981305  0.782852  ...   \n",
       "3         -1.530375    -0.668731 -0.415506  -1.860240 -1.027221  ...   \n",
       "4          0.964067     0.251510  0.132455   0.948264  0.782852  ...   \n",
       "...             ...          ...       ...        ...       ...  ...   \n",
       "2906      -0.337381    -1.185593 -2.198241  -0.042973 -1.027221  ...   \n",
       "2907      -0.337381    -1.185593 -2.198241  -0.042973 -1.027221  ...   \n",
       "2908       0.009672     0.433960  0.340588  -0.373385 -1.027221  ...   \n",
       "2909       0.617014    -0.294807 -0.386295   0.683934 -1.027221  ...   \n",
       "2910       0.682087    -0.096324 -0.303440   0.716975  0.782852  ...   \n",
       "\n",
       "      MSZoning_RM  HeatingQC_TA  CentralAir_N  GarageType_Detchd  \\\n",
       "0       -0.434337     -0.644335     -0.267212          -0.603411   \n",
       "1       -0.434337     -0.644335     -0.267212          -0.603411   \n",
       "2       -0.434337     -0.644335     -0.267212          -0.603411   \n",
       "3       -0.434337     -0.644335     -0.267212           1.657245   \n",
       "4       -0.434337     -0.644335     -0.267212          -0.603411   \n",
       "...           ...           ...           ...                ...   \n",
       "2906     2.302361     -0.644335     -0.267212          -0.603411   \n",
       "2907     2.302361      1.551987     -0.267212          -0.603411   \n",
       "2908    -0.434337     -0.644335     -0.267212           1.657245   \n",
       "2909    -0.434337      1.551987     -0.267212          -0.603411   \n",
       "2910    -0.434337     -0.644335     -0.267212          -0.603411   \n",
       "\n",
       "      MasVnrType_None  GarageFinish_Unf  BsmtQual_TA  FireplaceQu_None  \\\n",
       "0           -1.239239         -0.854195    -0.885269          1.026105   \n",
       "1            0.806947         -0.854195    -0.885269         -0.974559   \n",
       "2           -1.239239         -0.854195    -0.885269         -0.974559   \n",
       "3            0.806947          1.170693     1.129600         -0.974559   \n",
       "4           -1.239239         -0.854195    -0.885269         -0.974559   \n",
       "...               ...               ...          ...               ...   \n",
       "2906         0.806947         -0.854195     1.129600          1.026105   \n",
       "2907         0.806947          1.170693     1.129600          1.026105   \n",
       "2908         0.806947          1.170693     1.129600         -0.974559   \n",
       "2909         0.806947         -0.854195    -0.885269          1.026105   \n",
       "2910        -1.239239         -0.854195    -0.885269         -0.974559   \n",
       "\n",
       "      KitchenQual_TA  ExterQual_TA  \n",
       "0          -1.023991     -1.268236  \n",
       "1           0.976571      0.788497  \n",
       "2          -1.023991     -1.268236  \n",
       "3          -1.023991      0.788497  \n",
       "4          -1.023991     -1.268236  \n",
       "...              ...           ...  \n",
       "2906        0.976571      0.788497  \n",
       "2907        0.976571      0.788497  \n",
       "2908        0.976571      0.788497  \n",
       "2909        0.976571      0.788497  \n",
       "2910        0.976571      0.788497  \n",
       "\n",
       "[2911 rows x 320 columns]"
      ]
     },
     "execution_count": 2,
     "metadata": {},
     "output_type": "execute_result"
    }
   ],
   "source": [
    "file = '../data/home_sale_data_320.csv'\n",
    "\n",
    "data = pd.read_csv(file)\n",
    "train_labels = data['label']\n",
    "data.drop(['label'], axis=1, inplace=True)\n",
    "data"
   ]
  },
  {
   "cell_type": "code",
   "execution_count": 3,
   "metadata": {},
   "outputs": [
    {
     "data": {
      "text/plain": [
       "array([[[ 1,  2],\n",
       "        [ 3,  4]],\n",
       "\n",
       "       [[ 5,  6],\n",
       "        [ 7,  8]],\n",
       "\n",
       "       [[ 9, 10],\n",
       "        [11, 12]]])"
      ]
     },
     "execution_count": 3,
     "metadata": {},
     "output_type": "execute_result"
    }
   ],
   "source": [
    "'''test reshape'''\n",
    "tmp = [[1,2,3,4], [5,6, 7,8], [9,10,11,12]]\n",
    "tmp = np.array(tmp)\n",
    "tmp.shape\n",
    "tmp.reshape(3,2,2)\n"
   ]
  },
  {
   "cell_type": "code",
   "execution_count": 4,
   "metadata": {},
   "outputs": [
    {
     "data": {
      "text/plain": [
       "(2911, 20, 16)"
      ]
     },
     "execution_count": 4,
     "metadata": {},
     "output_type": "execute_result"
    }
   ],
   "source": [
    "data_np = data.to_numpy()\n",
    "data_np.shape\n",
    "data_np = data_np.reshape(len(data), 20, 16)\n",
    "data_np.shape"
   ]
  },
  {
   "cell_type": "code",
   "execution_count": 5,
   "metadata": {},
   "outputs": [
    {
     "data": {
      "image/png": "[encoded data removed]",
      "text/plain": [
       "<Figure size 432x288 with 2 Axes>"
      ]
     },
     "metadata": {
      "needs_background": "light"
     },
     "output_type": "display_data"
    }
   ],
   "source": [
    "# data_np[0].shape\n",
    "\n",
    "nArray = np.array(data_np[99])\n",
    "\n",
    "\n",
    "a11=nArray.reshape(20,16)\n",
    "plt.imshow(a11, cmap='hot')\n",
    "plt.colorbar()\n",
    "plt.show()"
   ]
  },
  {
   "cell_type": "code",
   "execution_count": 6,
   "metadata": {},
   "outputs": [
    {
     "data": {
      "text/plain": [
       "(2911,)"
      ]
     },
     "execution_count": 6,
     "metadata": {},
     "output_type": "execute_result"
    }
   ],
   "source": [
    "train_labels.shape"
   ]
  },
  {
   "cell_type": "code",
   "execution_count": 7,
   "metadata": {},
   "outputs": [
    {
     "data": {
      "text/plain": [
       "(2911, 20, 16)"
      ]
     },
     "execution_count": 7,
     "metadata": {},
     "output_type": "execute_result"
    }
   ],
   "source": [
    "train_examples = data_np\n",
    "train_examples.shape"
   ]
  },
  {
   "cell_type": "code",
   "execution_count": 8,
   "metadata": {},
   "outputs": [
    {
     "name": "stdout",
     "output_type": "stream",
     "text": [
      "Metal device set to: Apple M1 Pro\n",
      "\n",
      "systemMemory: 16.00 GB\n",
      "maxCacheSize: 5.33 GB\n",
      "\n"
     ]
    },
    {
     "name": "stderr",
     "output_type": "stream",
     "text": [
      "2022-04-17 00:21:51.059237: I tensorflow/core/common_runtime/pluggable_device/pluggable_device_factory.cc:305] Could not identify NUMA node of platform GPU ID 0, defaulting to 0. Your kernel may not have been built with NUMA support.\n",
      "2022-04-17 00:21:51.059391: I tensorflow/core/common_runtime/pluggable_device/pluggable_device_factory.cc:271] Created TensorFlow device (/job:localhost/replica:0/task:0/device:GPU:0 with 0 MB memory) -> physical PluggableDevice (device: 0, name: METAL, pci bus id: <undefined>)\n"
     ]
    }
   ],
   "source": [
    "val_examples = train_examples[-291:]\n",
    "train_examples = train_examples[:-291]\n",
    "val_labels = train_labels[-291:]\n",
    "train_labels = train_labels[:-291]\n",
    "\n",
    "train_dataset = tf.data.Dataset.from_tensor_slices((train_examples, train_labels))\n",
    "val_dataset = tf.data.Dataset.from_tensor_slices((val_examples, val_labels))\n",
    "# test_dataset = tf.data.Dataset.from_tensor_slices((test_examples, test_labels))"
   ]
  },
  {
   "cell_type": "code",
   "execution_count": 9,
   "metadata": {},
   "outputs": [
    {
     "data": {
      "text/plain": [
       "<TensorSliceDataset element_spec=(TensorSpec(shape=(20, 16), dtype=tf.float64, name=None), TensorSpec(shape=(), dtype=tf.int64, name=None))>"
      ]
     },
     "execution_count": 9,
     "metadata": {},
     "output_type": "execute_result"
    }
   ],
   "source": [
    "train_dataset"
   ]
  },
  {
   "cell_type": "code",
   "execution_count": 10,
   "metadata": {},
   "outputs": [
    {
     "name": "stdout",
     "output_type": "stream",
     "text": [
      "Num GPUs Available:  1\n"
     ]
    },
    {
     "data": {
      "text/plain": [
       "[PhysicalDevice(name='/physical_device:GPU:0', device_type='GPU')]"
      ]
     },
     "execution_count": 10,
     "metadata": {},
     "output_type": "execute_result"
    }
   ],
   "source": [
    "print(\"Num GPUs Available: \", len(tf.config.experimental.list_physical_devices('GPU')))\n",
    "tf.config.list_physical_devices('GPU')"
   ]
  },
  {
   "cell_type": "code",
   "execution_count": 11,
   "metadata": {},
   "outputs": [],
   "source": [
    "BATCH_SIZE = 16\n",
    "SHUFFLE_BUFFER_SIZE = 64\n",
    "\n",
    "train_dataset = train_dataset.shuffle(SHUFFLE_BUFFER_SIZE).batch(BATCH_SIZE)\n",
    "# test_dataset = test_dataset.batch(BATCH_SIZE)\n",
    "\n",
    "model = tf.keras.Sequential([\n",
    "    tf.keras.layers.Flatten(input_shape=(20, 16)),\n",
    "    tf.keras.layers.Dense(128, activation='relu'),\n",
    "    tf.keras.layers.Dense(10)\n",
    "])\n",
    "\n",
    "model.compile(optimizer=tf.keras.optimizers.RMSprop(),\n",
    "              loss=tf.keras.losses.SparseCategoricalCrossentropy(from_logits=True),\n",
    "              metrics=['sparse_categorical_accuracy'])\n",
    "\n",
    "\n"
   ]
  },
  {
   "cell_type": "code",
   "execution_count": 12,
   "metadata": {},
   "outputs": [
    {
     "name": "stdout",
     "output_type": "stream",
     "text": [
      "Model: \"sequential\"\n",
      "_________________________________________________________________\n",
      " Layer (type)                Output Shape              Param #   \n",
      "=================================================================\n",
      " flatten (Flatten)           (None, 320)               0         \n",
      "                                                                 \n",
      " dense (Dense)               (None, 128)               41088     \n",
      "                                                                 \n",
      " dense_1 (Dense)             (None, 10)                1290      \n",
      "                                                                 \n",
      "=================================================================\n",
      "Total params: 42,378\n",
      "Trainable params: 42,378\n",
      "Non-trainable params: 0\n",
      "_________________________________________________________________\n"
     ]
    }
   ],
   "source": [
    "model.summary()"
   ]
  },
  {
   "cell_type": "code",
   "execution_count": 13,
   "metadata": {},
   "outputs": [
    {
     "name": "stdout",
     "output_type": "stream",
     "text": [
      "Epoch 1/10\n"
     ]
    },
    {
     "name": "stderr",
     "output_type": "stream",
     "text": [
      "2022-04-17 00:21:54.617268: W tensorflow/core/platform/profile_utils/cpu_utils.cc:128] Failed to get CPU frequency: 0 Hz\n",
      "2022-04-17 00:21:54.617894: I tensorflow/core/grappler/optimizers/custom_graph_optimizer_registry.cc:113] Plugin optimizer for device_type GPU is enabled.\n"
     ]
    },
    {
     "name": "stdout",
     "output_type": "stream",
     "text": [
      "164/164 [==============================] - 2s 7ms/step - loss: 1.6470 - sparse_categorical_accuracy: 0.3214 - val_loss: 1.3888 - val_sparse_categorical_accuracy: 0.3505\n",
      "Epoch 2/10\n",
      "  1/164 [..............................] - ETA: 0s - loss: 0.9940 - sparse_categorical_accuracy: 0.5625"
     ]
    },
    {
     "name": "stderr",
     "output_type": "stream",
     "text": [
      "2022-04-17 00:21:55.957243: I tensorflow/core/grappler/optimizers/custom_graph_optimizer_registry.cc:113] Plugin optimizer for device_type GPU is enabled.\n"
     ]
    },
    {
     "name": "stdout",
     "output_type": "stream",
     "text": [
      "164/164 [==============================] - 1s 5ms/step - loss: 1.2671 - sparse_categorical_accuracy: 0.4454 - val_loss: 1.4085 - val_sparse_categorical_accuracy: 0.3883\n",
      "Epoch 3/10\n",
      "164/164 [==============================] - 1s 5ms/step - loss: 1.1414 - sparse_categorical_accuracy: 0.5042 - val_loss: 1.4169 - val_sparse_categorical_accuracy: 0.4089\n",
      "Epoch 4/10\n",
      "164/164 [==============================] - 1s 7ms/step - loss: 1.0507 - sparse_categorical_accuracy: 0.5637 - val_loss: 1.4681 - val_sparse_categorical_accuracy: 0.4055\n",
      "Epoch 5/10\n",
      "164/164 [==============================] - 1s 6ms/step - loss: 0.9676 - sparse_categorical_accuracy: 0.6073 - val_loss: 1.5074 - val_sparse_categorical_accuracy: 0.4089\n",
      "Epoch 6/10\n",
      "164/164 [==============================] - 1s 5ms/step - loss: 0.8857 - sparse_categorical_accuracy: 0.6599 - val_loss: 1.5721 - val_sparse_categorical_accuracy: 0.4124\n",
      "Epoch 7/10\n",
      "164/164 [==============================] - 1s 5ms/step - loss: 0.8130 - sparse_categorical_accuracy: 0.7015 - val_loss: 1.6157 - val_sparse_categorical_accuracy: 0.4192\n",
      "Epoch 8/10\n",
      "164/164 [==============================] - 1s 6ms/step - loss: 0.7419 - sparse_categorical_accuracy: 0.7279 - val_loss: 1.6719 - val_sparse_categorical_accuracy: 0.4124\n",
      "Epoch 9/10\n",
      "164/164 [==============================] - 1s 6ms/step - loss: 0.6731 - sparse_categorical_accuracy: 0.7653 - val_loss: 1.7547 - val_sparse_categorical_accuracy: 0.4261\n",
      "Epoch 10/10\n",
      "164/164 [==============================] - 1s 6ms/step - loss: 0.6093 - sparse_categorical_accuracy: 0.7905 - val_loss: 1.8269 - val_sparse_categorical_accuracy: 0.4124\n"
     ]
    }
   ],
   "source": [
    "epochs = 10\n",
    "history = model.fit(train_dataset, epochs=epochs, validation_data=(val_examples, val_labels))\n"
   ]
  },
  {
   "cell_type": "code",
   "execution_count": 14,
   "metadata": {},
   "outputs": [],
   "source": [
    "# history.history"
   ]
  },
  {
   "cell_type": "code",
   "execution_count": 15,
   "metadata": {},
   "outputs": [
    {
     "data": {
      "image/png": "[encoded data removed]",
      "text/plain": [
       "<Figure size 576x576 with 2 Axes>"
      ]
     },
     "metadata": {
      "needs_background": "light"
     },
     "output_type": "display_data"
    }
   ],
   "source": [
    "from matplotlib import pyplot as plt\n",
    "\n",
    "acc = history.history['sparse_categorical_accuracy']\n",
    "val_acc = history.history['val_sparse_categorical_accuracy']\n",
    "\n",
    "loss = history.history['loss']\n",
    "val_loss = history.history['val_loss']\n",
    "\n",
    "epochs_range = range(epochs)\n",
    "\n",
    "plt.figure(figsize=(8, 8))\n",
    "plt.subplot(1, 2, 1)\n",
    "plt.plot(epochs_range, acc, label='Training Accuracy')\n",
    "plt.plot(epochs_range, val_acc, label='Validation Accuracy')\n",
    "plt.legend(loc='lower right')\n",
    "plt.title('Training and Validation Accuracy')\n",
    "\n",
    "plt.subplot(1, 2, 2)\n",
    "plt.plot(epochs_range, loss, label='Training Loss')\n",
    "plt.plot(epochs_range, val_loss, label='Validation Loss')\n",
    "plt.legend(loc='upper right')\n",
    "plt.title('Training and Validation Loss')\n",
    "plt.show()"
   ]
  },
  {
   "cell_type": "code",
   "execution_count": 72,
   "metadata": {},
   "outputs": [
    {
     "name": "stdout",
     "output_type": "stream",
     "text": [
      "157/157 [==============================] - 1s 4ms/step - loss: 0.6444 - sparse_categorical_accuracy: 0.9575\n"
     ]
    },
    {
     "data": {
      "text/plain": [
       "[0.6444269418716431, 0.9575000405311584]"
      ]
     },
     "execution_count": 72,
     "metadata": {},
     "output_type": "execute_result"
    }
   ],
   "source": [
    "model.evaluate(test_dataset)"
   ]
  },
  {
   "cell_type": "code",
   "execution_count": null,
   "metadata": {},
   "outputs": [],
   "source": [
    "#  model = tf.keras.models.Sequential([\n",
    "#    tf.keras.layers.Conv2D(32, kernel_size=(3, 3),\n",
    "#                   activation='relu'),\n",
    "#    tf.keras.layers.Conv2D(64, kernel_size=(3, 3),\n",
    "#                   activation='relu'),\n",
    "#    tf.keras.layers.MaxPooling2D(pool_size=(2, 2)),\n",
    "#  #   tf.keras.layers.Dropout(0.25),\n",
    "#    tf.keras.layers.Flatten(),\n",
    "#    tf.keras.layers.Dense(128, activation='relu'),\n",
    "#  #   tf.keras.layers.Dropout(0.5),\n",
    "#    tf.keras.layers.Dense(10, activation='softmax')\n",
    "#  ])\n",
    "# model.compile(\n",
    "#     loss='sparse_categorical_crossentropy',\n",
    "#     optimizer=tf.keras.optimizers.Adam(0.001),\n",
    "#     metrics=['accuracy'],\n",
    "# )\n",
    "# model.fit(\n",
    "#     train_dataset,\n",
    "#     epochs=12,\n",
    "    \n",
    "# )"
   ]
  }
 ],
 "metadata": {
  "interpreter": {
   "hash": "29cc21816e506614f017a9125cfdb1f5dc655865e499c52ef5f5406a40d25695"
  },
  "kernelspec": {
   "display_name": "Python 3.9.12",
   "language": "python",
   "name": "python3"
  },
  "language_info": {
   "codemirror_mode": {
    "name": "ipython",
    "version": 3
   },
   "file_extension": ".py",
   "mimetype": "text/x-python",
   "name": "python",
   "nbconvert_exporter": "python",
   "pygments_lexer": "ipython3",
   "version": "3.8.9"
  },
  "orig_nbformat": 4
 },
 "nbformat": 4,
 "nbformat_minor": 2
}
