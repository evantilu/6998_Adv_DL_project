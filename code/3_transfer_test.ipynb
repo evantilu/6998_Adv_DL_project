{
 "cells": [
  {
   "cell_type": "markdown",
   "metadata": {},
   "source": [
    "## Test transfer learning \n",
    "#### follow tutorial\n",
    "https://www.tensorflow.org/hub/tutorials/tf2_image_retraining\n",
    " "
   ]
  },
  {
   "cell_type": "code",
   "execution_count": 1,
   "metadata": {},
   "outputs": [],
   "source": [
    "import numpy as np\n",
    "import tensorflow as tf\n",
    "import pandas as pd\n",
    "from matplotlib import pyplot as plt\n",
    "import tensorflow_hub as hub\n",
    "\n",
    "from sklearn.preprocessing import OneHotEncoder\n",
    "from sklearn.preprocessing import LabelEncoder"
   ]
  },
  {
   "cell_type": "code",
   "execution_count": 158,
   "metadata": {},
   "outputs": [
    {
     "data": {
      "text/html": [
       "<div>\n",
       "<style scoped>\n",
       "    .dataframe tbody tr th:only-of-type {\n",
       "        vertical-align: middle;\n",
       "    }\n",
       "\n",
       "    .dataframe tbody tr th {\n",
       "        vertical-align: top;\n",
       "    }\n",
       "\n",
       "    .dataframe thead th {\n",
       "        text-align: right;\n",
       "    }\n",
       "</style>\n",
       "<table border=\"1\" class=\"dataframe\">\n",
       "  <thead>\n",
       "    <tr style=\"text-align: right;\">\n",
       "      <th></th>\n",
       "      <th>OverallQual</th>\n",
       "      <th>GrLivArea</th>\n",
       "      <th>GarageCars</th>\n",
       "      <th>Total_Bathrooms</th>\n",
       "      <th>GarageArea</th>\n",
       "      <th>YrBltAndRemod</th>\n",
       "      <th>TotalBsmtSF</th>\n",
       "      <th>1stFlrSF</th>\n",
       "      <th>YearBuilt</th>\n",
       "      <th>FullBath</th>\n",
       "      <th>...</th>\n",
       "      <th>GarageType_Detchd</th>\n",
       "      <th>MasVnrType_None</th>\n",
       "      <th>GarageFinish_Unf</th>\n",
       "      <th>BsmtQual_TA</th>\n",
       "      <th>FireplaceQu_None</th>\n",
       "      <th>KitchenQual_TA</th>\n",
       "      <th>ExterQual_TA</th>\n",
       "      <th>dummy_1</th>\n",
       "      <th>dummy_2</th>\n",
       "      <th>dummy_3</th>\n",
       "    </tr>\n",
       "  </thead>\n",
       "  <tbody>\n",
       "    <tr>\n",
       "      <th>0</th>\n",
       "      <td>0.666667</td>\n",
       "      <td>0.621404</td>\n",
       "      <td>0.4</td>\n",
       "      <td>0.415447</td>\n",
       "      <td>0.368280</td>\n",
       "      <td>0.926316</td>\n",
       "      <td>0.306690</td>\n",
       "      <td>0.392556</td>\n",
       "      <td>0.949275</td>\n",
       "      <td>0.50</td>\n",
       "      <td>...</td>\n",
       "      <td>0.0</td>\n",
       "      <td>0.0</td>\n",
       "      <td>0.0</td>\n",
       "      <td>0.0</td>\n",
       "      <td>1.0</td>\n",
       "      <td>0.0</td>\n",
       "      <td>0.0</td>\n",
       "      <td>0.0</td>\n",
       "      <td>0.0</td>\n",
       "      <td>0.0</td>\n",
       "    </tr>\n",
       "    <tr>\n",
       "      <th>1</th>\n",
       "      <td>0.555556</td>\n",
       "      <td>0.503789</td>\n",
       "      <td>0.4</td>\n",
       "      <td>0.224226</td>\n",
       "      <td>0.309140</td>\n",
       "      <td>0.642105</td>\n",
       "      <td>0.434147</td>\n",
       "      <td>0.552164</td>\n",
       "      <td>0.753623</td>\n",
       "      <td>0.50</td>\n",
       "      <td>...</td>\n",
       "      <td>0.0</td>\n",
       "      <td>1.0</td>\n",
       "      <td>0.0</td>\n",
       "      <td>0.0</td>\n",
       "      <td>0.0</td>\n",
       "      <td>1.0</td>\n",
       "      <td>1.0</td>\n",
       "      <td>0.0</td>\n",
       "      <td>0.0</td>\n",
       "      <td>0.0</td>\n",
       "    </tr>\n",
       "    <tr>\n",
       "      <th>2</th>\n",
       "      <td>0.666667</td>\n",
       "      <td>0.638314</td>\n",
       "      <td>0.4</td>\n",
       "      <td>0.415447</td>\n",
       "      <td>0.408602</td>\n",
       "      <td>0.910526</td>\n",
       "      <td>0.327145</td>\n",
       "      <td>0.422306</td>\n",
       "      <td>0.934783</td>\n",
       "      <td>0.50</td>\n",
       "      <td>...</td>\n",
       "      <td>0.0</td>\n",
       "      <td>0.0</td>\n",
       "      <td>0.0</td>\n",
       "      <td>0.0</td>\n",
       "      <td>0.0</td>\n",
       "      <td>0.0</td>\n",
       "      <td>0.0</td>\n",
       "      <td>0.0</td>\n",
       "      <td>0.0</td>\n",
       "      <td>0.0</td>\n",
       "    </tr>\n",
       "    <tr>\n",
       "      <th>3</th>\n",
       "      <td>0.666667</td>\n",
       "      <td>0.622991</td>\n",
       "      <td>0.6</td>\n",
       "      <td>0.163947</td>\n",
       "      <td>0.431452</td>\n",
       "      <td>0.289474</td>\n",
       "      <td>0.274401</td>\n",
       "      <td>0.440273</td>\n",
       "      <td>0.311594</td>\n",
       "      <td>0.25</td>\n",
       "      <td>...</td>\n",
       "      <td>1.0</td>\n",
       "      <td>1.0</td>\n",
       "      <td>1.0</td>\n",
       "      <td>1.0</td>\n",
       "      <td>0.0</td>\n",
       "      <td>0.0</td>\n",
       "      <td>1.0</td>\n",
       "      <td>0.0</td>\n",
       "      <td>0.0</td>\n",
       "      <td>0.0</td>\n",
       "    </tr>\n",
       "    <tr>\n",
       "      <th>4</th>\n",
       "      <td>0.777778</td>\n",
       "      <td>0.719292</td>\n",
       "      <td>0.6</td>\n",
       "      <td>0.415447</td>\n",
       "      <td>0.561828</td>\n",
       "      <td>0.894737</td>\n",
       "      <td>0.397934</td>\n",
       "      <td>0.512289</td>\n",
       "      <td>0.927536</td>\n",
       "      <td>0.50</td>\n",
       "      <td>...</td>\n",
       "      <td>0.0</td>\n",
       "      <td>0.0</td>\n",
       "      <td>0.0</td>\n",
       "      <td>0.0</td>\n",
       "      <td>0.0</td>\n",
       "      <td>0.0</td>\n",
       "      <td>0.0</td>\n",
       "      <td>0.0</td>\n",
       "      <td>0.0</td>\n",
       "      <td>0.0</td>\n",
       "    </tr>\n",
       "    <tr>\n",
       "      <th>...</th>\n",
       "      <td>...</td>\n",
       "      <td>...</td>\n",
       "      <td>...</td>\n",
       "      <td>...</td>\n",
       "      <td>...</td>\n",
       "      <td>...</td>\n",
       "      <td>...</td>\n",
       "      <td>...</td>\n",
       "      <td>...</td>\n",
       "      <td>...</td>\n",
       "      <td>...</td>\n",
       "      <td>...</td>\n",
       "      <td>...</td>\n",
       "      <td>...</td>\n",
       "      <td>...</td>\n",
       "      <td>...</td>\n",
       "      <td>...</td>\n",
       "      <td>...</td>\n",
       "      <td>...</td>\n",
       "      <td>...</td>\n",
       "      <td>...</td>\n",
       "    </tr>\n",
       "    <tr>\n",
       "      <th>2906</th>\n",
       "      <td>0.333333</td>\n",
       "      <td>0.448096</td>\n",
       "      <td>0.0</td>\n",
       "      <td>0.088791</td>\n",
       "      <td>0.000000</td>\n",
       "      <td>0.578947</td>\n",
       "      <td>0.205017</td>\n",
       "      <td>0.205975</td>\n",
       "      <td>0.710145</td>\n",
       "      <td>0.25</td>\n",
       "      <td>...</td>\n",
       "      <td>0.0</td>\n",
       "      <td>1.0</td>\n",
       "      <td>0.0</td>\n",
       "      <td>1.0</td>\n",
       "      <td>1.0</td>\n",
       "      <td>1.0</td>\n",
       "      <td>1.0</td>\n",
       "      <td>0.0</td>\n",
       "      <td>0.0</td>\n",
       "      <td>0.0</td>\n",
       "    </tr>\n",
       "    <tr>\n",
       "      <th>2907</th>\n",
       "      <td>0.333333</td>\n",
       "      <td>0.448096</td>\n",
       "      <td>0.2</td>\n",
       "      <td>0.088791</td>\n",
       "      <td>0.192204</td>\n",
       "      <td>0.578947</td>\n",
       "      <td>0.205017</td>\n",
       "      <td>0.205975</td>\n",
       "      <td>0.710145</td>\n",
       "      <td>0.25</td>\n",
       "      <td>...</td>\n",
       "      <td>0.0</td>\n",
       "      <td>1.0</td>\n",
       "      <td>1.0</td>\n",
       "      <td>1.0</td>\n",
       "      <td>1.0</td>\n",
       "      <td>1.0</td>\n",
       "      <td>1.0</td>\n",
       "      <td>0.0</td>\n",
       "      <td>0.0</td>\n",
       "      <td>0.0</td>\n",
       "    </tr>\n",
       "    <tr>\n",
       "      <th>2908</th>\n",
       "      <td>0.444444</td>\n",
       "      <td>0.492003</td>\n",
       "      <td>0.4</td>\n",
       "      <td>0.163947</td>\n",
       "      <td>0.387097</td>\n",
       "      <td>0.663158</td>\n",
       "      <td>0.422426</td>\n",
       "      <td>0.539643</td>\n",
       "      <td>0.637681</td>\n",
       "      <td>0.25</td>\n",
       "      <td>...</td>\n",
       "      <td>1.0</td>\n",
       "      <td>1.0</td>\n",
       "      <td>1.0</td>\n",
       "      <td>1.0</td>\n",
       "      <td>0.0</td>\n",
       "      <td>1.0</td>\n",
       "      <td>1.0</td>\n",
       "      <td>0.0</td>\n",
       "      <td>0.0</td>\n",
       "      <td>0.0</td>\n",
       "    </tr>\n",
       "    <tr>\n",
       "      <th>2909</th>\n",
       "      <td>0.444444</td>\n",
       "      <td>0.402649</td>\n",
       "      <td>0.0</td>\n",
       "      <td>0.060279</td>\n",
       "      <td>0.000000</td>\n",
       "      <td>0.810526</td>\n",
       "      <td>0.324596</td>\n",
       "      <td>0.444112</td>\n",
       "      <td>0.869565</td>\n",
       "      <td>0.25</td>\n",
       "      <td>...</td>\n",
       "      <td>0.0</td>\n",
       "      <td>1.0</td>\n",
       "      <td>0.0</td>\n",
       "      <td>0.0</td>\n",
       "      <td>1.0</td>\n",
       "      <td>1.0</td>\n",
       "      <td>1.0</td>\n",
       "      <td>0.0</td>\n",
       "      <td>0.0</td>\n",
       "      <td>0.0</td>\n",
       "    </tr>\n",
       "    <tr>\n",
       "      <th>2910</th>\n",
       "      <td>0.666667</td>\n",
       "      <td>0.682411</td>\n",
       "      <td>0.6</td>\n",
       "      <td>0.252738</td>\n",
       "      <td>0.436828</td>\n",
       "      <td>0.826316</td>\n",
       "      <td>0.351241</td>\n",
       "      <td>0.455001</td>\n",
       "      <td>0.876812</td>\n",
       "      <td>0.50</td>\n",
       "      <td>...</td>\n",
       "      <td>0.0</td>\n",
       "      <td>0.0</td>\n",
       "      <td>0.0</td>\n",
       "      <td>0.0</td>\n",
       "      <td>0.0</td>\n",
       "      <td>1.0</td>\n",
       "      <td>1.0</td>\n",
       "      <td>0.0</td>\n",
       "      <td>0.0</td>\n",
       "      <td>0.0</td>\n",
       "    </tr>\n",
       "  </tbody>\n",
       "</table>\n",
       "<p>2911 rows × 324 columns</p>\n",
       "</div>"
      ],
      "text/plain": [
       "      OverallQual  GrLivArea  GarageCars  Total_Bathrooms  GarageArea  \\\n",
       "0        0.666667   0.621404         0.4         0.415447    0.368280   \n",
       "1        0.555556   0.503789         0.4         0.224226    0.309140   \n",
       "2        0.666667   0.638314         0.4         0.415447    0.408602   \n",
       "3        0.666667   0.622991         0.6         0.163947    0.431452   \n",
       "4        0.777778   0.719292         0.6         0.415447    0.561828   \n",
       "...           ...        ...         ...              ...         ...   \n",
       "2906     0.333333   0.448096         0.0         0.088791    0.000000   \n",
       "2907     0.333333   0.448096         0.2         0.088791    0.192204   \n",
       "2908     0.444444   0.492003         0.4         0.163947    0.387097   \n",
       "2909     0.444444   0.402649         0.0         0.060279    0.000000   \n",
       "2910     0.666667   0.682411         0.6         0.252738    0.436828   \n",
       "\n",
       "      YrBltAndRemod  TotalBsmtSF  1stFlrSF  YearBuilt  FullBath  ...  \\\n",
       "0          0.926316     0.306690  0.392556   0.949275      0.50  ...   \n",
       "1          0.642105     0.434147  0.552164   0.753623      0.50  ...   \n",
       "2          0.910526     0.327145  0.422306   0.934783      0.50  ...   \n",
       "3          0.289474     0.274401  0.440273   0.311594      0.25  ...   \n",
       "4          0.894737     0.397934  0.512289   0.927536      0.50  ...   \n",
       "...             ...          ...       ...        ...       ...  ...   \n",
       "2906       0.578947     0.205017  0.205975   0.710145      0.25  ...   \n",
       "2907       0.578947     0.205017  0.205975   0.710145      0.25  ...   \n",
       "2908       0.663158     0.422426  0.539643   0.637681      0.25  ...   \n",
       "2909       0.810526     0.324596  0.444112   0.869565      0.25  ...   \n",
       "2910       0.826316     0.351241  0.455001   0.876812      0.50  ...   \n",
       "\n",
       "      GarageType_Detchd  MasVnrType_None  GarageFinish_Unf  BsmtQual_TA  \\\n",
       "0                   0.0              0.0               0.0          0.0   \n",
       "1                   0.0              1.0               0.0          0.0   \n",
       "2                   0.0              0.0               0.0          0.0   \n",
       "3                   1.0              1.0               1.0          1.0   \n",
       "4                   0.0              0.0               0.0          0.0   \n",
       "...                 ...              ...               ...          ...   \n",
       "2906                0.0              1.0               0.0          1.0   \n",
       "2907                0.0              1.0               1.0          1.0   \n",
       "2908                1.0              1.0               1.0          1.0   \n",
       "2909                0.0              1.0               0.0          0.0   \n",
       "2910                0.0              0.0               0.0          0.0   \n",
       "\n",
       "      FireplaceQu_None  KitchenQual_TA  ExterQual_TA  dummy_1  dummy_2  \\\n",
       "0                  1.0             0.0           0.0      0.0      0.0   \n",
       "1                  0.0             1.0           1.0      0.0      0.0   \n",
       "2                  0.0             0.0           0.0      0.0      0.0   \n",
       "3                  0.0             0.0           1.0      0.0      0.0   \n",
       "4                  0.0             0.0           0.0      0.0      0.0   \n",
       "...                ...             ...           ...      ...      ...   \n",
       "2906               1.0             1.0           1.0      0.0      0.0   \n",
       "2907               1.0             1.0           1.0      0.0      0.0   \n",
       "2908               0.0             1.0           1.0      0.0      0.0   \n",
       "2909               1.0             1.0           1.0      0.0      0.0   \n",
       "2910               0.0             1.0           1.0      0.0      0.0   \n",
       "\n",
       "      dummy_3  \n",
       "0         0.0  \n",
       "1         0.0  \n",
       "2         0.0  \n",
       "3         0.0  \n",
       "4         0.0  \n",
       "...       ...  \n",
       "2906      0.0  \n",
       "2907      0.0  \n",
       "2908      0.0  \n",
       "2909      0.0  \n",
       "2910      0.0  \n",
       "\n",
       "[2911 rows x 324 columns]"
      ]
     },
     "execution_count": 158,
     "metadata": {},
     "output_type": "execute_result"
    }
   ],
   "source": [
    "file = '../data/home_sale_data_324.csv'\n",
    "\n",
    "data = pd.read_csv(file)\n",
    "labels = data['label']\n",
    "data.drop(['label'], axis=1, inplace=True)\n",
    "data"
   ]
  },
  {
   "cell_type": "code",
   "execution_count": 159,
   "metadata": {},
   "outputs": [
    {
     "name": "stdout",
     "output_type": "stream",
     "text": [
      "[[0. 0. 0. 1.]\n",
      " [0. 0. 0. 1.]\n",
      " [1. 0. 0. 0.]\n",
      " ...\n",
      " [0. 0. 1. 0.]\n",
      " [0. 1. 0. 0.]\n",
      " [0. 1. 0. 0.]]\n"
     ]
    }
   ],
   "source": [
    "'''one-hot encode the labels'''\n",
    "\n",
    "# integer encode\n",
    "label_encoder = LabelEncoder()\n",
    "integer_encoded = label_encoder.fit_transform(labels)\n",
    "# print(list(integer_encoded))\n",
    "# binary encode\n",
    "onehot_encoder = OneHotEncoder(sparse=False)\n",
    "integer_encoded = integer_encoded.reshape(len(integer_encoded), 1)\n",
    "labels = onehot_encoder.fit_transform(integer_encoded)\n",
    "print(labels)\n",
    "\n",
    "\n"
   ]
  },
  {
   "cell_type": "code",
   "execution_count": 160,
   "metadata": {},
   "outputs": [
    {
     "data": {
      "text/plain": [
       "array([[[ 1,  2],\n",
       "        [ 3,  4]],\n",
       "\n",
       "       [[ 5,  6],\n",
       "        [ 7,  8]],\n",
       "\n",
       "       [[ 9, 10],\n",
       "        [11, 12]]])"
      ]
     },
     "execution_count": 160,
     "metadata": {},
     "output_type": "execute_result"
    }
   ],
   "source": [
    "'''test reshape'''\n",
    "tmp = [[1,2,3,4], [5,6, 7,8], [9,10,11,12]]\n",
    "tmp = np.array(tmp)\n",
    "tmp.shape\n",
    "tmp.reshape(3,2,2)\n"
   ]
  },
  {
   "cell_type": "code",
   "execution_count": 161,
   "metadata": {},
   "outputs": [
    {
     "data": {
      "text/plain": [
       "(2911, 18, 18)"
      ]
     },
     "execution_count": 161,
     "metadata": {},
     "output_type": "execute_result"
    }
   ],
   "source": [
    "data_np = data.to_numpy()\n",
    "data_np.shape\n",
    "data_np = data_np.reshape(len(data), 18, 18)\n",
    "data_np.shape"
   ]
  },
  {
   "cell_type": "code",
   "execution_count": 162,
   "metadata": {},
   "outputs": [
    {
     "data": {
      "image/png": "[encoded data removed]",
      "text/plain": [
       "<Figure size 432x288 with 2 Axes>"
      ]
     },
     "metadata": {
      "needs_background": "light"
     },
     "output_type": "display_data"
    }
   ],
   "source": [
    "# data_np[0].shape\n",
    "\n",
    "nArray = np.array(data_np[99])\n",
    "\n",
    "\n",
    "a11=nArray.reshape(18,18)\n",
    "plt.imshow(a11)\n",
    "plt.colorbar()\n",
    "plt.show()"
   ]
  },
  {
   "cell_type": "code",
   "execution_count": 163,
   "metadata": {},
   "outputs": [
    {
     "data": {
      "text/plain": [
       "(2911, 4)"
      ]
     },
     "execution_count": 163,
     "metadata": {},
     "output_type": "execute_result"
    }
   ],
   "source": [
    "labels.shape"
   ]
  },
  {
   "cell_type": "code",
   "execution_count": 164,
   "metadata": {},
   "outputs": [
    {
     "data": {
      "text/plain": [
       "(2911, 18, 18)"
      ]
     },
     "execution_count": 164,
     "metadata": {},
     "output_type": "execute_result"
    }
   ],
   "source": [
    "train_examples = data_np\n",
    "train_examples.shape"
   ]
  },
  {
   "cell_type": "code",
   "execution_count": 165,
   "metadata": {},
   "outputs": [],
   "source": [
    "val_examples = train_examples[-291:]\n",
    "train_examples = train_examples[:-291]\n",
    "val_labels = labels[-291:]\n",
    "train_labels = labels[:-291]\n",
    "\n",
    "train_dataset = tf.data.Dataset.from_tensor_slices((train_examples, train_labels))\n",
    "val_dataset = tf.data.Dataset.from_tensor_slices((val_examples, val_labels))\n",
    "# test_dataset = tf.data.Dataset.from_tensor_slices((test_examples, test_labels))"
   ]
  },
  {
   "cell_type": "code",
   "execution_count": 166,
   "metadata": {},
   "outputs": [
    {
     "data": {
      "text/plain": [
       "<TensorSliceDataset element_spec=(TensorSpec(shape=(18, 18), dtype=tf.float64, name=None), TensorSpec(shape=(4,), dtype=tf.float64, name=None))>"
      ]
     },
     "execution_count": 166,
     "metadata": {},
     "output_type": "execute_result"
    }
   ],
   "source": [
    "train_dataset"
   ]
  },
  {
   "cell_type": "code",
   "execution_count": null,
   "metadata": {},
   "outputs": [],
   "source": []
  },
  {
   "cell_type": "code",
   "execution_count": 167,
   "metadata": {},
   "outputs": [
    {
     "data": {
      "text/plain": [
       "(291, 18, 18)"
      ]
     },
     "execution_count": 167,
     "metadata": {},
     "output_type": "execute_result"
    }
   ],
   "source": [
    "train_examples.shape\n",
    "val_examples.shape"
   ]
  },
  {
   "cell_type": "code",
   "execution_count": 168,
   "metadata": {},
   "outputs": [],
   "source": [
    "trainX = train_examples.reshape(2620, 18,18,1)\n",
    "trainY = train_labels\n",
    "\n",
    "testX = val_examples.reshape(291, 18,18,1)\n",
    "testY = val_labels\n"
   ]
  },
  {
   "cell_type": "code",
   "execution_count": 169,
   "metadata": {},
   "outputs": [
    {
     "name": "stdout",
     "output_type": "stream",
     "text": [
      "Num GPUs Available:  1\n"
     ]
    },
    {
     "data": {
      "text/plain": [
       "[PhysicalDevice(name='/physical_device:GPU:0', device_type='GPU')]"
      ]
     },
     "execution_count": 169,
     "metadata": {},
     "output_type": "execute_result"
    }
   ],
   "source": [
    "print(\"Num GPUs Available: \", len(tf.config.experimental.list_physical_devices('GPU')))\n",
    "tf.config.list_physical_devices('GPU')"
   ]
  },
  {
   "cell_type": "code",
   "execution_count": 174,
   "metadata": {},
   "outputs": [
    {
     "name": "stderr",
     "output_type": "stream",
     "text": [
      "/Users/evantilu/miniforge3/envs/6998_DL_tf/lib/python3.8/site-packages/keras/optimizer_v2/adam.py:105: UserWarning: The `lr` argument is deprecated, use `learning_rate` instead.\n",
      "  super(Adam, self).__init__(name, **kwargs)\n"
     ]
    }
   ],
   "source": [
    "BATCH_SIZE = 16\n",
    "SHUFFLE_BUFFER_SIZE = 64\n",
    "epochs = 25\n",
    "\n",
    "train_dataset = train_dataset.shuffle(SHUFFLE_BUFFER_SIZE).batch(BATCH_SIZE)\n",
    "# test_dataset = test_dataset.batch(BATCH_SIZE)\n",
    "\n",
    "num_classes = 4\n",
    "\n",
    "# model = tf.keras.Sequential([\n",
    "#   tf.keras.layers.Conv2D(1, 3, padding='same', activation='relu', input_shape=(18, 18, 1)),\n",
    "#   tf.keras.layers.MaxPooling2D(),\n",
    "#   tf.keras.layers.Conv2D(32, 3, padding='same', activation='relu'),\n",
    "#   tf.keras.layers.MaxPooling2D(),\n",
    "#   tf.keras.layers.Conv2D(64, 3, padding='same', activation='relu'),\n",
    "#   tf.keras.layers.MaxPooling2D(),\n",
    "#   tf.keras.layers.Flatten(),\n",
    "#   tf.keras.layers.Dense(128, activation='relu'),\n",
    "#   tf.keras.layers.Dense(num_classes, activation='softmax')\n",
    "# ])\n",
    "\n",
    "# model.compile(optimizer='adam',\n",
    "#               loss=tf.keras.losses.SparseCategoricalCrossentropy(from_logits=True),\n",
    "#               metrics=['accuracy'])\n",
    "\n",
    "\n",
    "# '''anotehr ver'''\n",
    "\n",
    "data_augmentation = tf.keras.Sequential(\n",
    "  [\n",
    "    tf.keras.layers.RandomFlip(\"horizontal\", input_shape=(18, 18, 1)),\n",
    "    tf.keras.layers.RandomRotation(0.1),\n",
    "    tf.keras.layers.RandomZoom(0.1),\n",
    "  ]\n",
    ")\n",
    "\n",
    "model = tf.keras.Sequential([\n",
    "  tf.keras.layers.Conv2D(16, (3, 3), padding='same', activation='relu', input_shape=(18, 18, 1)),\n",
    "\ttf.keras.layers.MaxPooling2D((2, 2)),\n",
    "\ttf.keras.layers.Conv2D(32, 3, padding='same', activation='relu'),\n",
    "  \ttf.keras.layers.MaxPooling2D(),\n",
    "  \ttf.keras.layers.Conv2D(64, 3, padding='same', activation='relu'),\n",
    "  \ttf.keras.layers.MaxPooling2D(),\n",
    "\ttf.keras.layers.Dropout(0.2),\n",
    "\ttf.keras.layers.Flatten(),\n",
    "\ttf.keras.layers.Dense(128, activation='relu'),\n",
    "\ttf.keras.layers.Dense(4, activation='softmax')\n",
    "])\n",
    "\n",
    "# opt = tf.keras.optimizers.SGD(lr=0.005, momentum=0.9)\n",
    "opt = tf.keras.optimizers.Adam(lr=0.001)\n",
    "model.compile(optimizer=opt, loss='categorical_crossentropy', metrics=['accuracy'])\n"
   ]
  },
  {
   "cell_type": "code",
   "execution_count": 175,
   "metadata": {},
   "outputs": [
    {
     "name": "stdout",
     "output_type": "stream",
     "text": [
      "Model: \"sequential_20\"\n",
      "_________________________________________________________________\n",
      " Layer (type)                Output Shape              Param #   \n",
      "=================================================================\n",
      " conv2d_57 (Conv2D)          (None, 18, 18, 16)        160       \n",
      "                                                                 \n",
      " max_pooling2d_57 (MaxPoolin  (None, 9, 9, 16)         0         \n",
      " g2D)                                                            \n",
      "                                                                 \n",
      " conv2d_58 (Conv2D)          (None, 9, 9, 32)          4640      \n",
      "                                                                 \n",
      " max_pooling2d_58 (MaxPoolin  (None, 4, 4, 32)         0         \n",
      " g2D)                                                            \n",
      "                                                                 \n",
      " conv2d_59 (Conv2D)          (None, 4, 4, 64)          18496     \n",
      "                                                                 \n",
      " max_pooling2d_59 (MaxPoolin  (None, 2, 2, 64)         0         \n",
      " g2D)                                                            \n",
      "                                                                 \n",
      " dropout (Dropout)           (None, 2, 2, 64)          0         \n",
      "                                                                 \n",
      " flatten_19 (Flatten)        (None, 256)               0         \n",
      "                                                                 \n",
      " dense_38 (Dense)            (None, 128)               32896     \n",
      "                                                                 \n",
      " dense_39 (Dense)            (None, 4)                 516       \n",
      "                                                                 \n",
      "=================================================================\n",
      "Total params: 56,708\n",
      "Trainable params: 56,708\n",
      "Non-trainable params: 0\n",
      "_________________________________________________________________\n"
     ]
    }
   ],
   "source": [
    "model.summary()"
   ]
  },
  {
   "cell_type": "code",
   "execution_count": 176,
   "metadata": {},
   "outputs": [
    {
     "name": "stdout",
     "output_type": "stream",
     "text": [
      "Epoch 1/25\n"
     ]
    },
    {
     "name": "stderr",
     "output_type": "stream",
     "text": [
      "2022-04-18 23:20:06.589883: I tensorflow/core/grappler/optimizers/custom_graph_optimizer_registry.cc:113] Plugin optimizer for device_type GPU is enabled.\n"
     ]
    },
    {
     "name": "stdout",
     "output_type": "stream",
     "text": [
      "41/41 [==============================] - 1s 16ms/step - loss: 1.3867 - accuracy: 0.2550 - val_loss: 1.3770 - val_accuracy: 0.2818\n",
      "Epoch 2/25\n",
      " 6/41 [===>..........................] - ETA: 0s - loss: 1.3901 - accuracy: 0.2552"
     ]
    },
    {
     "name": "stderr",
     "output_type": "stream",
     "text": [
      "2022-04-18 23:20:07.550189: I tensorflow/core/grappler/optimizers/custom_graph_optimizer_registry.cc:113] Plugin optimizer for device_type GPU is enabled.\n"
     ]
    },
    {
     "name": "stdout",
     "output_type": "stream",
     "text": [
      "41/41 [==============================] - 0s 11ms/step - loss: 1.3776 - accuracy: 0.3038 - val_loss: 1.3422 - val_accuracy: 0.4055\n",
      "Epoch 3/25\n",
      "41/41 [==============================] - 0s 11ms/step - loss: 1.3674 - accuracy: 0.3092 - val_loss: 1.3146 - val_accuracy: 0.4055\n",
      "Epoch 4/25\n",
      "41/41 [==============================] - 1s 13ms/step - loss: 1.3596 - accuracy: 0.3263 - val_loss: 1.2971 - val_accuracy: 0.4089\n",
      "Epoch 5/25\n",
      "41/41 [==============================] - 0s 11ms/step - loss: 1.3518 - accuracy: 0.3195 - val_loss: 1.3049 - val_accuracy: 0.3574\n",
      "Epoch 6/25\n",
      "41/41 [==============================] - 0s 11ms/step - loss: 1.3500 - accuracy: 0.3431 - val_loss: 1.3098 - val_accuracy: 0.3711\n",
      "Epoch 7/25\n",
      "41/41 [==============================] - 0s 11ms/step - loss: 1.3362 - accuracy: 0.3584 - val_loss: 1.3117 - val_accuracy: 0.4089\n",
      "Epoch 8/25\n",
      "41/41 [==============================] - 0s 11ms/step - loss: 1.3216 - accuracy: 0.3714 - val_loss: 1.3169 - val_accuracy: 0.3333\n",
      "Epoch 9/25\n",
      "41/41 [==============================] - 0s 11ms/step - loss: 1.3123 - accuracy: 0.3809 - val_loss: 1.2904 - val_accuracy: 0.3505\n",
      "Epoch 10/25\n",
      "41/41 [==============================] - 0s 11ms/step - loss: 1.2977 - accuracy: 0.3996 - val_loss: 1.3296 - val_accuracy: 0.3024\n",
      "Epoch 11/25\n",
      "41/41 [==============================] - 0s 11ms/step - loss: 1.2777 - accuracy: 0.4107 - val_loss: 1.3197 - val_accuracy: 0.3677\n",
      "Epoch 12/25\n",
      "41/41 [==============================] - 0s 11ms/step - loss: 1.2479 - accuracy: 0.4279 - val_loss: 1.3248 - val_accuracy: 0.3643\n",
      "Epoch 13/25\n",
      "41/41 [==============================] - 0s 12ms/step - loss: 1.2400 - accuracy: 0.4313 - val_loss: 1.3002 - val_accuracy: 0.3574\n",
      "Epoch 14/25\n",
      "41/41 [==============================] - 0s 11ms/step - loss: 1.2008 - accuracy: 0.4656 - val_loss: 1.3511 - val_accuracy: 0.3058\n",
      "Epoch 15/25\n",
      "41/41 [==============================] - 0s 10ms/step - loss: 1.1824 - accuracy: 0.4809 - val_loss: 1.3472 - val_accuracy: 0.3436\n",
      "Epoch 16/25\n",
      "41/41 [==============================] - 0s 11ms/step - loss: 1.1382 - accuracy: 0.5023 - val_loss: 1.3767 - val_accuracy: 0.3024\n",
      "Epoch 17/25\n",
      "41/41 [==============================] - 1s 13ms/step - loss: 1.1103 - accuracy: 0.5160 - val_loss: 1.3479 - val_accuracy: 0.3436\n",
      "Epoch 18/25\n",
      "41/41 [==============================] - 0s 12ms/step - loss: 1.0742 - accuracy: 0.5557 - val_loss: 1.3952 - val_accuracy: 0.3299\n",
      "Epoch 19/25\n",
      "41/41 [==============================] - 0s 11ms/step - loss: 1.0265 - accuracy: 0.5607 - val_loss: 1.4417 - val_accuracy: 0.3127\n",
      "Epoch 20/25\n",
      "41/41 [==============================] - 0s 12ms/step - loss: 0.9870 - accuracy: 0.5901 - val_loss: 1.5253 - val_accuracy: 0.2852\n",
      "Epoch 21/25\n",
      "41/41 [==============================] - 0s 11ms/step - loss: 0.9563 - accuracy: 0.6050 - val_loss: 1.5154 - val_accuracy: 0.3230\n",
      "Epoch 22/25\n",
      "41/41 [==============================] - 0s 11ms/step - loss: 0.8889 - accuracy: 0.6469 - val_loss: 1.5632 - val_accuracy: 0.3333\n",
      "Epoch 23/25\n",
      "41/41 [==============================] - 0s 12ms/step - loss: 0.8653 - accuracy: 0.6489 - val_loss: 1.5481 - val_accuracy: 0.3230\n",
      "Epoch 24/25\n",
      "41/41 [==============================] - 0s 11ms/step - loss: 0.8435 - accuracy: 0.6546 - val_loss: 1.5557 - val_accuracy: 0.3265\n",
      "Epoch 25/25\n",
      "41/41 [==============================] - 0s 12ms/step - loss: 0.7720 - accuracy: 0.7034 - val_loss: 1.7379 - val_accuracy: 0.3093\n"
     ]
    }
   ],
   "source": [
    "# train_examples.reshape(-1, 18,18,1)\n",
    "history = model.fit(trainX, trainY, epochs=25,validation_data=(testX, testY), batch_size=64)\n"
   ]
  },
  {
   "cell_type": "code",
   "execution_count": 177,
   "metadata": {},
   "outputs": [
    {
     "data": {
      "image/png": "[encoded data removed]",
      "text/plain": [
       "<Figure size 576x576 with 2 Axes>"
      ]
     },
     "metadata": {
      "needs_background": "light"
     },
     "output_type": "display_data"
    }
   ],
   "source": [
    "from matplotlib import pyplot as plt\n",
    "\n",
    "acc = history.history['accuracy']\n",
    "val_acc = history.history['val_accuracy']\n",
    "\n",
    "loss = history.history['loss']\n",
    "val_loss = history.history['val_loss']\n",
    "\n",
    "epochs_range = range(epochs)\n",
    "\n",
    "plt.figure(figsize=(8, 8))\n",
    "plt.subplot(1, 2, 1)\n",
    "plt.plot(epochs_range, acc, label='Training Accuracy')\n",
    "plt.plot(epochs_range, val_acc, label='Validation Accuracy')\n",
    "plt.legend(loc='lower right')\n",
    "plt.title('Training and Validation Accuracy')\n",
    "plt.ylim([0, 1])\n",
    "\n",
    "plt.subplot(1, 2, 2)\n",
    "plt.plot(epochs_range, loss, label='Training Loss')\n",
    "plt.plot(epochs_range, val_loss, label='Validation Loss')\n",
    "plt.legend(loc='upper right')\n",
    "plt.title('Training and Validation Loss')\n",
    "plt.show()"
   ]
  },
  {
   "cell_type": "code",
   "execution_count": 151,
   "metadata": {},
   "outputs": [],
   "source": [
    "%reset -f"
   ]
  },
  {
   "cell_type": "code",
   "execution_count": 72,
   "metadata": {},
   "outputs": [
    {
     "name": "stdout",
     "output_type": "stream",
     "text": [
      "157/157 [==============================] - 1s 4ms/step - loss: 0.6444 - sparse_categorical_accuracy: 0.9575\n"
     ]
    },
    {
     "data": {
      "text/plain": [
       "[0.6444269418716431, 0.9575000405311584]"
      ]
     },
     "execution_count": 72,
     "metadata": {},
     "output_type": "execute_result"
    }
   ],
   "source": [
    "model.evaluate(test_dataset)"
   ]
  },
  {
   "cell_type": "code",
   "execution_count": null,
   "metadata": {},
   "outputs": [],
   "source": []
  },
  {
   "cell_type": "code",
   "execution_count": null,
   "metadata": {},
   "outputs": [],
   "source": []
  },
  {
   "cell_type": "code",
   "execution_count": null,
   "metadata": {},
   "outputs": [],
   "source": []
  },
  {
   "cell_type": "code",
   "execution_count": null,
   "metadata": {},
   "outputs": [],
   "source": [
    "# epochs = 25\n",
    "# # history = model.fit(train_dataset, epochs=epochs, validation_data=(val_examples, val_labels))\n",
    "# history = model.fit(train_dataset, epochs=epochs)\n"
   ]
  }
 ],
 "metadata": {
  "interpreter": {
   "hash": "29cc21816e506614f017a9125cfdb1f5dc655865e499c52ef5f5406a40d25695"
  },
  "kernelspec": {
   "display_name": "Python 3.9.12",
   "language": "python",
   "name": "python3"
  },
  "language_info": {
   "codemirror_mode": {
    "name": "ipython",
    "version": 3
   },
   "file_extension": ".py",
   "mimetype": "text/x-python",
   "name": "python",
   "nbconvert_exporter": "python",
   "pygments_lexer": "ipython3",
   "version": "3.8.13"
  },
  "orig_nbformat": 4
 },
 "nbformat": 4,
 "nbformat_minor": 2
}
