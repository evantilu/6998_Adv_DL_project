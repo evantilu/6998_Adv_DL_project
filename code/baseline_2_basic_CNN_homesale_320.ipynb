{
 "cells": [
  {
   "cell_type": "markdown",
   "metadata": {},
   "source": [
    "## Baseline 2\n",
    "#### Simple CNN network using tensorflow img classification tutorial\n",
    "https://www.tensorflow.org/tutorials/images/classification"
   ]
  },
  {
   "cell_type": "code",
   "execution_count": 2,
   "metadata": {},
   "outputs": [],
   "source": [
    "import numpy as np\n",
    "import tensorflow as tf\n",
    "import pandas as pd\n",
    "from matplotlib import pyplot as plt\n",
    "\n",
    "from sklearn.preprocessing import OneHotEncoder\n",
    "from sklearn.preprocessing import LabelEncoder"
   ]
  },
  {
   "cell_type": "code",
   "execution_count": 3,
   "metadata": {},
   "outputs": [
    {
     "data": {
      "text/html": [
       "<div>\n",
       "<style scoped>\n",
       "    .dataframe tbody tr th:only-of-type {\n",
       "        vertical-align: middle;\n",
       "    }\n",
       "\n",
       "    .dataframe tbody tr th {\n",
       "        vertical-align: top;\n",
       "    }\n",
       "\n",
       "    .dataframe thead th {\n",
       "        text-align: right;\n",
       "    }\n",
       "</style>\n",
       "<table border=\"1\" class=\"dataframe\">\n",
       "  <thead>\n",
       "    <tr style=\"text-align: right;\">\n",
       "      <th></th>\n",
       "      <th>OverallQual</th>\n",
       "      <th>GrLivArea</th>\n",
       "      <th>GarageCars</th>\n",
       "      <th>Total_Bathrooms</th>\n",
       "      <th>GarageArea</th>\n",
       "      <th>YrBltAndRemod</th>\n",
       "      <th>TotalBsmtSF</th>\n",
       "      <th>1stFlrSF</th>\n",
       "      <th>YearBuilt</th>\n",
       "      <th>FullBath</th>\n",
       "      <th>...</th>\n",
       "      <th>GarageType_Detchd</th>\n",
       "      <th>MasVnrType_None</th>\n",
       "      <th>GarageFinish_Unf</th>\n",
       "      <th>BsmtQual_TA</th>\n",
       "      <th>FireplaceQu_None</th>\n",
       "      <th>KitchenQual_TA</th>\n",
       "      <th>ExterQual_TA</th>\n",
       "      <th>dummy_1</th>\n",
       "      <th>dummy_2</th>\n",
       "      <th>dummy_3</th>\n",
       "    </tr>\n",
       "  </thead>\n",
       "  <tbody>\n",
       "    <tr>\n",
       "      <th>0</th>\n",
       "      <td>170.000000</td>\n",
       "      <td>158.457928</td>\n",
       "      <td>102.0</td>\n",
       "      <td>105.939007</td>\n",
       "      <td>93.911290</td>\n",
       "      <td>236.210526</td>\n",
       "      <td>78.206067</td>\n",
       "      <td>100.101743</td>\n",
       "      <td>242.065217</td>\n",
       "      <td>127.50</td>\n",
       "      <td>...</td>\n",
       "      <td>0.0</td>\n",
       "      <td>0.0</td>\n",
       "      <td>0.0</td>\n",
       "      <td>0.0</td>\n",
       "      <td>255.0</td>\n",
       "      <td>0.0</td>\n",
       "      <td>0.0</td>\n",
       "      <td>0.0</td>\n",
       "      <td>0.0</td>\n",
       "      <td>0.0</td>\n",
       "    </tr>\n",
       "    <tr>\n",
       "      <th>1</th>\n",
       "      <td>141.666667</td>\n",
       "      <td>128.466198</td>\n",
       "      <td>102.0</td>\n",
       "      <td>57.177727</td>\n",
       "      <td>78.830645</td>\n",
       "      <td>163.736842</td>\n",
       "      <td>110.707476</td>\n",
       "      <td>140.801846</td>\n",
       "      <td>192.173913</td>\n",
       "      <td>127.50</td>\n",
       "      <td>...</td>\n",
       "      <td>0.0</td>\n",
       "      <td>255.0</td>\n",
       "      <td>0.0</td>\n",
       "      <td>0.0</td>\n",
       "      <td>0.0</td>\n",
       "      <td>255.0</td>\n",
       "      <td>255.0</td>\n",
       "      <td>0.0</td>\n",
       "      <td>0.0</td>\n",
       "      <td>0.0</td>\n",
       "    </tr>\n",
       "    <tr>\n",
       "      <th>2</th>\n",
       "      <td>170.000000</td>\n",
       "      <td>162.770063</td>\n",
       "      <td>102.0</td>\n",
       "      <td>105.939007</td>\n",
       "      <td>104.193548</td>\n",
       "      <td>232.184211</td>\n",
       "      <td>83.421900</td>\n",
       "      <td>107.687970</td>\n",
       "      <td>238.369565</td>\n",
       "      <td>127.50</td>\n",
       "      <td>...</td>\n",
       "      <td>0.0</td>\n",
       "      <td>0.0</td>\n",
       "      <td>0.0</td>\n",
       "      <td>0.0</td>\n",
       "      <td>0.0</td>\n",
       "      <td>0.0</td>\n",
       "      <td>0.0</td>\n",
       "      <td>0.0</td>\n",
       "      <td>0.0</td>\n",
       "      <td>0.0</td>\n",
       "    </tr>\n",
       "    <tr>\n",
       "      <th>3</th>\n",
       "      <td>170.000000</td>\n",
       "      <td>158.862827</td>\n",
       "      <td>153.0</td>\n",
       "      <td>41.806467</td>\n",
       "      <td>110.020161</td>\n",
       "      <td>73.815789</td>\n",
       "      <td>69.972189</td>\n",
       "      <td>112.269528</td>\n",
       "      <td>79.456522</td>\n",
       "      <td>63.75</td>\n",
       "      <td>...</td>\n",
       "      <td>255.0</td>\n",
       "      <td>255.0</td>\n",
       "      <td>255.0</td>\n",
       "      <td>255.0</td>\n",
       "      <td>0.0</td>\n",
       "      <td>0.0</td>\n",
       "      <td>255.0</td>\n",
       "      <td>0.0</td>\n",
       "      <td>0.0</td>\n",
       "      <td>0.0</td>\n",
       "    </tr>\n",
       "    <tr>\n",
       "      <th>4</th>\n",
       "      <td>198.333333</td>\n",
       "      <td>183.419443</td>\n",
       "      <td>153.0</td>\n",
       "      <td>105.939007</td>\n",
       "      <td>143.266129</td>\n",
       "      <td>228.157895</td>\n",
       "      <td>101.473134</td>\n",
       "      <td>130.633656</td>\n",
       "      <td>236.521739</td>\n",
       "      <td>127.50</td>\n",
       "      <td>...</td>\n",
       "      <td>0.0</td>\n",
       "      <td>0.0</td>\n",
       "      <td>0.0</td>\n",
       "      <td>0.0</td>\n",
       "      <td>0.0</td>\n",
       "      <td>0.0</td>\n",
       "      <td>0.0</td>\n",
       "      <td>0.0</td>\n",
       "      <td>0.0</td>\n",
       "      <td>0.0</td>\n",
       "    </tr>\n",
       "    <tr>\n",
       "      <th>...</th>\n",
       "      <td>...</td>\n",
       "      <td>...</td>\n",
       "      <td>...</td>\n",
       "      <td>...</td>\n",
       "      <td>...</td>\n",
       "      <td>...</td>\n",
       "      <td>...</td>\n",
       "      <td>...</td>\n",
       "      <td>...</td>\n",
       "      <td>...</td>\n",
       "      <td>...</td>\n",
       "      <td>...</td>\n",
       "      <td>...</td>\n",
       "      <td>...</td>\n",
       "      <td>...</td>\n",
       "      <td>...</td>\n",
       "      <td>...</td>\n",
       "      <td>...</td>\n",
       "      <td>...</td>\n",
       "      <td>...</td>\n",
       "      <td>...</td>\n",
       "    </tr>\n",
       "    <tr>\n",
       "      <th>2906</th>\n",
       "      <td>85.000000</td>\n",
       "      <td>114.264465</td>\n",
       "      <td>0.0</td>\n",
       "      <td>22.641785</td>\n",
       "      <td>0.000000</td>\n",
       "      <td>147.631579</td>\n",
       "      <td>52.279413</td>\n",
       "      <td>52.523624</td>\n",
       "      <td>181.086957</td>\n",
       "      <td>63.75</td>\n",
       "      <td>...</td>\n",
       "      <td>0.0</td>\n",
       "      <td>255.0</td>\n",
       "      <td>0.0</td>\n",
       "      <td>255.0</td>\n",
       "      <td>255.0</td>\n",
       "      <td>255.0</td>\n",
       "      <td>255.0</td>\n",
       "      <td>0.0</td>\n",
       "      <td>0.0</td>\n",
       "      <td>0.0</td>\n",
       "    </tr>\n",
       "    <tr>\n",
       "      <th>2907</th>\n",
       "      <td>85.000000</td>\n",
       "      <td>114.264465</td>\n",
       "      <td>51.0</td>\n",
       "      <td>22.641785</td>\n",
       "      <td>49.012097</td>\n",
       "      <td>147.631579</td>\n",
       "      <td>52.279413</td>\n",
       "      <td>52.523624</td>\n",
       "      <td>181.086957</td>\n",
       "      <td>63.75</td>\n",
       "      <td>...</td>\n",
       "      <td>0.0</td>\n",
       "      <td>255.0</td>\n",
       "      <td>255.0</td>\n",
       "      <td>255.0</td>\n",
       "      <td>255.0</td>\n",
       "      <td>255.0</td>\n",
       "      <td>255.0</td>\n",
       "      <td>0.0</td>\n",
       "      <td>0.0</td>\n",
       "      <td>0.0</td>\n",
       "    </tr>\n",
       "    <tr>\n",
       "      <th>2908</th>\n",
       "      <td>113.333333</td>\n",
       "      <td>125.460827</td>\n",
       "      <td>102.0</td>\n",
       "      <td>41.806467</td>\n",
       "      <td>98.709677</td>\n",
       "      <td>169.105263</td>\n",
       "      <td>107.718617</td>\n",
       "      <td>137.608942</td>\n",
       "      <td>162.608696</td>\n",
       "      <td>63.75</td>\n",
       "      <td>...</td>\n",
       "      <td>255.0</td>\n",
       "      <td>255.0</td>\n",
       "      <td>255.0</td>\n",
       "      <td>255.0</td>\n",
       "      <td>0.0</td>\n",
       "      <td>255.0</td>\n",
       "      <td>255.0</td>\n",
       "      <td>0.0</td>\n",
       "      <td>0.0</td>\n",
       "      <td>0.0</td>\n",
       "    </tr>\n",
       "    <tr>\n",
       "      <th>2909</th>\n",
       "      <td>113.333333</td>\n",
       "      <td>102.675592</td>\n",
       "      <td>0.0</td>\n",
       "      <td>15.371260</td>\n",
       "      <td>0.000000</td>\n",
       "      <td>206.684211</td>\n",
       "      <td>82.772069</td>\n",
       "      <td>113.248477</td>\n",
       "      <td>221.739130</td>\n",
       "      <td>63.75</td>\n",
       "      <td>...</td>\n",
       "      <td>0.0</td>\n",
       "      <td>255.0</td>\n",
       "      <td>0.0</td>\n",
       "      <td>0.0</td>\n",
       "      <td>255.0</td>\n",
       "      <td>255.0</td>\n",
       "      <td>255.0</td>\n",
       "      <td>0.0</td>\n",
       "      <td>0.0</td>\n",
       "      <td>0.0</td>\n",
       "    </tr>\n",
       "    <tr>\n",
       "      <th>2910</th>\n",
       "      <td>170.000000</td>\n",
       "      <td>174.014741</td>\n",
       "      <td>153.0</td>\n",
       "      <td>64.448252</td>\n",
       "      <td>111.391129</td>\n",
       "      <td>210.710526</td>\n",
       "      <td>89.566345</td>\n",
       "      <td>116.025252</td>\n",
       "      <td>223.586957</td>\n",
       "      <td>127.50</td>\n",
       "      <td>...</td>\n",
       "      <td>0.0</td>\n",
       "      <td>0.0</td>\n",
       "      <td>0.0</td>\n",
       "      <td>0.0</td>\n",
       "      <td>0.0</td>\n",
       "      <td>255.0</td>\n",
       "      <td>255.0</td>\n",
       "      <td>0.0</td>\n",
       "      <td>0.0</td>\n",
       "      <td>0.0</td>\n",
       "    </tr>\n",
       "  </tbody>\n",
       "</table>\n",
       "<p>2911 rows × 324 columns</p>\n",
       "</div>"
      ],
      "text/plain": [
       "      OverallQual   GrLivArea  GarageCars  Total_Bathrooms  GarageArea  \\\n",
       "0      170.000000  158.457928       102.0       105.939007   93.911290   \n",
       "1      141.666667  128.466198       102.0        57.177727   78.830645   \n",
       "2      170.000000  162.770063       102.0       105.939007  104.193548   \n",
       "3      170.000000  158.862827       153.0        41.806467  110.020161   \n",
       "4      198.333333  183.419443       153.0       105.939007  143.266129   \n",
       "...           ...         ...         ...              ...         ...   \n",
       "2906    85.000000  114.264465         0.0        22.641785    0.000000   \n",
       "2907    85.000000  114.264465        51.0        22.641785   49.012097   \n",
       "2908   113.333333  125.460827       102.0        41.806467   98.709677   \n",
       "2909   113.333333  102.675592         0.0        15.371260    0.000000   \n",
       "2910   170.000000  174.014741       153.0        64.448252  111.391129   \n",
       "\n",
       "      YrBltAndRemod  TotalBsmtSF    1stFlrSF   YearBuilt  FullBath  ...  \\\n",
       "0        236.210526    78.206067  100.101743  242.065217    127.50  ...   \n",
       "1        163.736842   110.707476  140.801846  192.173913    127.50  ...   \n",
       "2        232.184211    83.421900  107.687970  238.369565    127.50  ...   \n",
       "3         73.815789    69.972189  112.269528   79.456522     63.75  ...   \n",
       "4        228.157895   101.473134  130.633656  236.521739    127.50  ...   \n",
       "...             ...          ...         ...         ...       ...  ...   \n",
       "2906     147.631579    52.279413   52.523624  181.086957     63.75  ...   \n",
       "2907     147.631579    52.279413   52.523624  181.086957     63.75  ...   \n",
       "2908     169.105263   107.718617  137.608942  162.608696     63.75  ...   \n",
       "2909     206.684211    82.772069  113.248477  221.739130     63.75  ...   \n",
       "2910     210.710526    89.566345  116.025252  223.586957    127.50  ...   \n",
       "\n",
       "      GarageType_Detchd  MasVnrType_None  GarageFinish_Unf  BsmtQual_TA  \\\n",
       "0                   0.0              0.0               0.0          0.0   \n",
       "1                   0.0            255.0               0.0          0.0   \n",
       "2                   0.0              0.0               0.0          0.0   \n",
       "3                 255.0            255.0             255.0        255.0   \n",
       "4                   0.0              0.0               0.0          0.0   \n",
       "...                 ...              ...               ...          ...   \n",
       "2906                0.0            255.0               0.0        255.0   \n",
       "2907                0.0            255.0             255.0        255.0   \n",
       "2908              255.0            255.0             255.0        255.0   \n",
       "2909                0.0            255.0               0.0          0.0   \n",
       "2910                0.0              0.0               0.0          0.0   \n",
       "\n",
       "      FireplaceQu_None  KitchenQual_TA  ExterQual_TA  dummy_1  dummy_2  \\\n",
       "0                255.0             0.0           0.0      0.0      0.0   \n",
       "1                  0.0           255.0         255.0      0.0      0.0   \n",
       "2                  0.0             0.0           0.0      0.0      0.0   \n",
       "3                  0.0             0.0         255.0      0.0      0.0   \n",
       "4                  0.0             0.0           0.0      0.0      0.0   \n",
       "...                ...             ...           ...      ...      ...   \n",
       "2906             255.0           255.0         255.0      0.0      0.0   \n",
       "2907             255.0           255.0         255.0      0.0      0.0   \n",
       "2908               0.0           255.0         255.0      0.0      0.0   \n",
       "2909             255.0           255.0         255.0      0.0      0.0   \n",
       "2910               0.0           255.0         255.0      0.0      0.0   \n",
       "\n",
       "      dummy_3  \n",
       "0         0.0  \n",
       "1         0.0  \n",
       "2         0.0  \n",
       "3         0.0  \n",
       "4         0.0  \n",
       "...       ...  \n",
       "2906      0.0  \n",
       "2907      0.0  \n",
       "2908      0.0  \n",
       "2909      0.0  \n",
       "2910      0.0  \n",
       "\n",
       "[2911 rows x 324 columns]"
      ]
     },
     "execution_count": 3,
     "metadata": {},
     "output_type": "execute_result"
    }
   ],
   "source": [
    "file = '../data/home_sale_data_324.csv'\n",
    "\n",
    "data = pd.read_csv(file)\n",
    "labels = data['label']\n",
    "data.drop(['label'], axis=1, inplace=True)\n",
    "data"
   ]
  },
  {
   "cell_type": "code",
   "execution_count": 4,
   "metadata": {},
   "outputs": [
    {
     "name": "stdout",
     "output_type": "stream",
     "text": [
      "[[0. 0. 0. 1.]\n",
      " [0. 0. 0. 1.]\n",
      " [1. 0. 0. 0.]\n",
      " ...\n",
      " [0. 0. 1. 0.]\n",
      " [0. 1. 0. 0.]\n",
      " [0. 1. 0. 0.]]\n"
     ]
    }
   ],
   "source": [
    "'''one-hot encode the labels'''\n",
    "\n",
    "# integer encode\n",
    "label_encoder = LabelEncoder()\n",
    "integer_encoded = label_encoder.fit_transform(labels)\n",
    "# print(list(integer_encoded))\n",
    "# binary encode\n",
    "onehot_encoder = OneHotEncoder(sparse=False)\n",
    "integer_encoded = integer_encoded.reshape(len(integer_encoded), 1)\n",
    "labels = onehot_encoder.fit_transform(integer_encoded)\n",
    "print(labels)\n",
    "\n",
    "\n"
   ]
  },
  {
   "cell_type": "code",
   "execution_count": 5,
   "metadata": {},
   "outputs": [
    {
     "data": {
      "text/plain": [
       "array([[[ 1,  2],\n",
       "        [ 3,  4]],\n",
       "\n",
       "       [[ 5,  6],\n",
       "        [ 7,  8]],\n",
       "\n",
       "       [[ 9, 10],\n",
       "        [11, 12]]])"
      ]
     },
     "execution_count": 5,
     "metadata": {},
     "output_type": "execute_result"
    }
   ],
   "source": [
    "'''test reshape'''\n",
    "tmp = [[1,2,3,4], [5,6, 7,8], [9,10,11,12]]\n",
    "tmp = np.array(tmp)\n",
    "tmp.shape\n",
    "tmp.reshape(3,2,2)\n"
   ]
  },
  {
   "cell_type": "code",
   "execution_count": 6,
   "metadata": {},
   "outputs": [
    {
     "data": {
      "text/plain": [
       "(2911, 18, 18)"
      ]
     },
     "execution_count": 6,
     "metadata": {},
     "output_type": "execute_result"
    }
   ],
   "source": [
    "data_np = data.to_numpy()\n",
    "data_np.shape\n",
    "data_np = data_np.reshape(len(data), 18, 18)\n",
    "data_np.shape"
   ]
  },
  {
   "cell_type": "code",
   "execution_count": 7,
   "metadata": {},
   "outputs": [
    {
     "data": {
      "image/png": "[encoded data removed]",
      "text/plain": [
       "<Figure size 432x288 with 2 Axes>"
      ]
     },
     "metadata": {
      "needs_background": "light"
     },
     "output_type": "display_data"
    }
   ],
   "source": [
    "# data_np[0].shape\n",
    "\n",
    "nArray = np.array(data_np[99])\n",
    "\n",
    "\n",
    "a11=nArray.reshape(18,18)\n",
    "plt.imshow(a11)\n",
    "plt.colorbar()\n",
    "plt.show()"
   ]
  },
  {
   "cell_type": "code",
   "execution_count": 8,
   "metadata": {},
   "outputs": [
    {
     "data": {
      "text/plain": [
       "(2911, 4)"
      ]
     },
     "execution_count": 8,
     "metadata": {},
     "output_type": "execute_result"
    }
   ],
   "source": [
    "labels.shape"
   ]
  },
  {
   "cell_type": "code",
   "execution_count": 9,
   "metadata": {},
   "outputs": [
    {
     "data": {
      "text/plain": [
       "(2911, 18, 18)"
      ]
     },
     "execution_count": 9,
     "metadata": {},
     "output_type": "execute_result"
    }
   ],
   "source": [
    "train_examples = data_np\n",
    "train_examples.shape"
   ]
  },
  {
   "cell_type": "code",
   "execution_count": 10,
   "metadata": {},
   "outputs": [
    {
     "name": "stdout",
     "output_type": "stream",
     "text": [
      "Metal device set to: Apple M1 Pro\n",
      "\n",
      "systemMemory: 16.00 GB\n",
      "maxCacheSize: 5.33 GB\n",
      "\n"
     ]
    },
    {
     "name": "stderr",
     "output_type": "stream",
     "text": [
      "2022-04-19 15:15:46.652872: I tensorflow/core/common_runtime/pluggable_device/pluggable_device_factory.cc:305] Could not identify NUMA node of platform GPU ID 0, defaulting to 0. Your kernel may not have been built with NUMA support.\n",
      "2022-04-19 15:15:46.653257: I tensorflow/core/common_runtime/pluggable_device/pluggable_device_factory.cc:271] Created TensorFlow device (/job:localhost/replica:0/task:0/device:GPU:0 with 0 MB memory) -> physical PluggableDevice (device: 0, name: METAL, pci bus id: <undefined>)\n"
     ]
    }
   ],
   "source": [
    "val_examples = train_examples[-291:]\n",
    "train_examples = train_examples[:-291]\n",
    "val_labels = labels[-291:]\n",
    "train_labels = labels[:-291]\n",
    "\n",
    "train_dataset = tf.data.Dataset.from_tensor_slices((train_examples, train_labels))\n",
    "val_dataset = tf.data.Dataset.from_tensor_slices((val_examples, val_labels))\n",
    "# test_dataset = tf.data.Dataset.from_tensor_slices((test_examples, test_labels))"
   ]
  },
  {
   "cell_type": "code",
   "execution_count": 11,
   "metadata": {},
   "outputs": [
    {
     "data": {
      "text/plain": [
       "<TensorSliceDataset element_spec=(TensorSpec(shape=(18, 18), dtype=tf.float64, name=None), TensorSpec(shape=(4,), dtype=tf.float64, name=None))>"
      ]
     },
     "execution_count": 11,
     "metadata": {},
     "output_type": "execute_result"
    }
   ],
   "source": [
    "train_dataset"
   ]
  },
  {
   "cell_type": "code",
   "execution_count": null,
   "metadata": {},
   "outputs": [],
   "source": []
  },
  {
   "cell_type": "code",
   "execution_count": 12,
   "metadata": {},
   "outputs": [
    {
     "data": {
      "text/plain": [
       "(291, 18, 18)"
      ]
     },
     "execution_count": 12,
     "metadata": {},
     "output_type": "execute_result"
    }
   ],
   "source": [
    "train_examples.shape\n",
    "val_examples.shape"
   ]
  },
  {
   "cell_type": "code",
   "execution_count": 13,
   "metadata": {},
   "outputs": [],
   "source": [
    "trainX = train_examples.reshape(2620, 18,18,1)\n",
    "trainY = train_labels\n",
    "\n",
    "testX = val_examples.reshape(291, 18,18,1)\n",
    "testY = val_labels\n"
   ]
  },
  {
   "cell_type": "code",
   "execution_count": 14,
   "metadata": {},
   "outputs": [
    {
     "name": "stdout",
     "output_type": "stream",
     "text": [
      "Num GPUs Available:  1\n"
     ]
    },
    {
     "data": {
      "text/plain": [
       "[PhysicalDevice(name='/physical_device:GPU:0', device_type='GPU')]"
      ]
     },
     "execution_count": 14,
     "metadata": {},
     "output_type": "execute_result"
    }
   ],
   "source": [
    "print(\"Num GPUs Available: \", len(tf.config.experimental.list_physical_devices('GPU')))\n",
    "tf.config.list_physical_devices('GPU')"
   ]
  },
  {
   "cell_type": "code",
   "execution_count": 19,
   "metadata": {},
   "outputs": [],
   "source": [
    "BATCH_SIZE = 16\n",
    "SHUFFLE_BUFFER_SIZE = 64\n",
    "epochs = 25\n",
    "\n",
    "train_dataset = train_dataset.shuffle(SHUFFLE_BUFFER_SIZE).batch(BATCH_SIZE)\n",
    "# test_dataset = test_dataset.batch(BATCH_SIZE)\n",
    "\n",
    "num_classes = 4\n",
    "\n",
    "# model = tf.keras.Sequential([\n",
    "#   tf.keras.layers.Conv2D(1, 3, padding='same', activation='relu', input_shape=(18, 18, 1)),\n",
    "#   tf.keras.layers.MaxPooling2D(),\n",
    "#   tf.keras.layers.Conv2D(32, 3, padding='same', activation='relu'),\n",
    "#   tf.keras.layers.MaxPooling2D(),\n",
    "#   tf.keras.layers.Conv2D(64, 3, padding='same', activation='relu'),\n",
    "#   tf.keras.layers.MaxPooling2D(),\n",
    "#   tf.keras.layers.Flatten(),\n",
    "#   tf.keras.layers.Dense(128, activation='relu'),\n",
    "#   tf.keras.layers.Dense(num_classes, activation='softmax')\n",
    "# ])\n",
    "\n",
    "# model.compile(optimizer='adam',\n",
    "#               loss=tf.keras.losses.SparseCategoricalCrossentropy(from_logits=True),\n",
    "#               metrics=['accuracy'])\n",
    "\n",
    "\n",
    "# '''anotehr ver'''\n",
    "\n",
    "data_augmentation = tf.keras.Sequential(\n",
    "  [\n",
    "    tf.keras.layers.RandomFlip(\"horizontal\", input_shape=(18, 18, 1)),\n",
    "    tf.keras.layers.RandomRotation(0.1),\n",
    "    tf.keras.layers.RandomZoom(0.1),\n",
    "  ]\n",
    ")\n",
    "\n",
    "model = tf.keras.Sequential([\n",
    "  tf.keras.layers.Conv2D(16, (3, 3), padding='same', activation='relu', input_shape=(18, 18, 1)),\n",
    "\ttf.keras.layers.MaxPooling2D((2, 2)),\n",
    "\ttf.keras.layers.Conv2D(32, 3, padding='same', activation='relu'),\n",
    "  \ttf.keras.layers.MaxPooling2D(),\n",
    "  \ttf.keras.layers.Conv2D(64, 3, padding='same', activation='relu'),\n",
    "  \ttf.keras.layers.MaxPooling2D(),\n",
    "\ttf.keras.layers.Dropout(0.2),\n",
    "\ttf.keras.layers.Flatten(),\n",
    "\ttf.keras.layers.Dense(128, activation='relu'),\n",
    "\ttf.keras.layers.Dense(4, activation='softmax')\n",
    "])\n",
    "\n",
    "# opt = tf.keras.optimizers.SGD(lr=0.005, momentum=0.9)\n",
    "opt = tf.keras.optimizers.Adam(lr=0.005)\n",
    "model.compile(optimizer=opt, loss='categorical_crossentropy', metrics=['accuracy'])\n"
   ]
  },
  {
   "cell_type": "code",
   "execution_count": 20,
   "metadata": {},
   "outputs": [
    {
     "name": "stdout",
     "output_type": "stream",
     "text": [
      "Model: \"sequential_3\"\n",
      "_________________________________________________________________\n",
      " Layer (type)                Output Shape              Param #   \n",
      "=================================================================\n",
      " conv2d_3 (Conv2D)           (None, 18, 18, 16)        160       \n",
      "                                                                 \n",
      " max_pooling2d_3 (MaxPooling  (None, 9, 9, 16)         0         \n",
      " 2D)                                                             \n",
      "                                                                 \n",
      " conv2d_4 (Conv2D)           (None, 9, 9, 32)          4640      \n",
      "                                                                 \n",
      " max_pooling2d_4 (MaxPooling  (None, 4, 4, 32)         0         \n",
      " 2D)                                                             \n",
      "                                                                 \n",
      " conv2d_5 (Conv2D)           (None, 4, 4, 64)          18496     \n",
      "                                                                 \n",
      " max_pooling2d_5 (MaxPooling  (None, 2, 2, 64)         0         \n",
      " 2D)                                                             \n",
      "                                                                 \n",
      " dropout_1 (Dropout)         (None, 2, 2, 64)          0         \n",
      "                                                                 \n",
      " flatten_1 (Flatten)         (None, 256)               0         \n",
      "                                                                 \n",
      " dense_2 (Dense)             (None, 128)               32896     \n",
      "                                                                 \n",
      " dense_3 (Dense)             (None, 4)                 516       \n",
      "                                                                 \n",
      "=================================================================\n",
      "Total params: 56,708\n",
      "Trainable params: 56,708\n",
      "Non-trainable params: 0\n",
      "_________________________________________________________________\n"
     ]
    }
   ],
   "source": [
    "model.summary()"
   ]
  },
  {
   "cell_type": "code",
   "execution_count": 23,
   "metadata": {},
   "outputs": [
    {
     "name": "stdout",
     "output_type": "stream",
     "text": [
      "Epoch 1/100\n",
      "41/41 [==============================] - 1s 12ms/step - loss: 1.2757 - accuracy: 0.3958 - val_loss: 1.4013 - val_accuracy: 0.2921\n",
      "Epoch 2/100\n",
      "41/41 [==============================] - 0s 11ms/step - loss: 1.2574 - accuracy: 0.4107 - val_loss: 1.3689 - val_accuracy: 0.3436\n",
      "Epoch 3/100\n",
      "41/41 [==============================] - 0s 11ms/step - loss: 1.2636 - accuracy: 0.4069 - val_loss: 1.3966 - val_accuracy: 0.3402\n",
      "Epoch 4/100\n",
      "41/41 [==============================] - 0s 11ms/step - loss: 1.2718 - accuracy: 0.4069 - val_loss: 1.3996 - val_accuracy: 0.3162\n",
      "Epoch 5/100\n",
      "41/41 [==============================] - 0s 11ms/step - loss: 1.2877 - accuracy: 0.3893 - val_loss: 1.3432 - val_accuracy: 0.3333\n",
      "Epoch 6/100\n",
      "41/41 [==============================] - 0s 11ms/step - loss: 1.2859 - accuracy: 0.3855 - val_loss: 1.3896 - val_accuracy: 0.3196\n",
      "Epoch 7/100\n",
      "41/41 [==============================] - 0s 12ms/step - loss: 1.2501 - accuracy: 0.4206 - val_loss: 1.4247 - val_accuracy: 0.3402\n",
      "Epoch 8/100\n",
      "41/41 [==============================] - 0s 11ms/step - loss: 1.2665 - accuracy: 0.4134 - val_loss: 1.3809 - val_accuracy: 0.2990\n",
      "Epoch 9/100\n",
      "41/41 [==============================] - 0s 12ms/step - loss: 1.2451 - accuracy: 0.4168 - val_loss: 1.4533 - val_accuracy: 0.2921\n",
      "Epoch 10/100\n",
      "41/41 [==============================] - 0s 11ms/step - loss: 1.2483 - accuracy: 0.4305 - val_loss: 1.3813 - val_accuracy: 0.3230\n",
      "Epoch 11/100\n",
      "41/41 [==============================] - 0s 11ms/step - loss: 1.2405 - accuracy: 0.4080 - val_loss: 1.4434 - val_accuracy: 0.3230\n",
      "Epoch 12/100\n",
      "41/41 [==============================] - 0s 10ms/step - loss: 1.2630 - accuracy: 0.4099 - val_loss: 1.4046 - val_accuracy: 0.3196\n",
      "Epoch 13/100\n",
      "41/41 [==============================] - 0s 11ms/step - loss: 1.2316 - accuracy: 0.4267 - val_loss: 1.4151 - val_accuracy: 0.3436\n",
      "Epoch 14/100\n",
      "41/41 [==============================] - 1s 12ms/step - loss: 1.2110 - accuracy: 0.4401 - val_loss: 1.5187 - val_accuracy: 0.2818\n",
      "Epoch 15/100\n",
      "41/41 [==============================] - 0s 11ms/step - loss: 1.2399 - accuracy: 0.4244 - val_loss: 1.4635 - val_accuracy: 0.2646\n",
      "Epoch 16/100\n",
      "41/41 [==============================] - 0s 10ms/step - loss: 1.2153 - accuracy: 0.4340 - val_loss: 1.4634 - val_accuracy: 0.2818\n",
      "Epoch 17/100\n",
      "41/41 [==============================] - 0s 11ms/step - loss: 1.2049 - accuracy: 0.4462 - val_loss: 1.4578 - val_accuracy: 0.3196\n",
      "Epoch 18/100\n",
      "41/41 [==============================] - 0s 11ms/step - loss: 1.1942 - accuracy: 0.4508 - val_loss: 1.4491 - val_accuracy: 0.3058\n",
      "Epoch 19/100\n",
      "41/41 [==============================] - 0s 11ms/step - loss: 1.2026 - accuracy: 0.4527 - val_loss: 1.4698 - val_accuracy: 0.3333\n",
      "Epoch 20/100\n",
      "41/41 [==============================] - 0s 11ms/step - loss: 1.1798 - accuracy: 0.4584 - val_loss: 1.4665 - val_accuracy: 0.3162\n",
      "Epoch 21/100\n",
      "41/41 [==============================] - 0s 10ms/step - loss: 1.1880 - accuracy: 0.4721 - val_loss: 1.5385 - val_accuracy: 0.2852\n",
      "Epoch 22/100\n",
      "41/41 [==============================] - 0s 11ms/step - loss: 1.2037 - accuracy: 0.4450 - val_loss: 1.5699 - val_accuracy: 0.2543\n",
      "Epoch 23/100\n",
      "41/41 [==============================] - 0s 11ms/step - loss: 1.1618 - accuracy: 0.4763 - val_loss: 1.5607 - val_accuracy: 0.3265\n",
      "Epoch 24/100\n",
      "41/41 [==============================] - 0s 11ms/step - loss: 1.1616 - accuracy: 0.4771 - val_loss: 1.5264 - val_accuracy: 0.3127\n",
      "Epoch 25/100\n",
      "41/41 [==============================] - 1s 13ms/step - loss: 1.1379 - accuracy: 0.4920 - val_loss: 1.5506 - val_accuracy: 0.2818\n",
      "Epoch 26/100\n",
      "41/41 [==============================] - 1s 13ms/step - loss: 1.1898 - accuracy: 0.4592 - val_loss: 1.4779 - val_accuracy: 0.3127\n",
      "Epoch 27/100\n",
      "41/41 [==============================] - 1s 13ms/step - loss: 1.1325 - accuracy: 0.4863 - val_loss: 1.5776 - val_accuracy: 0.2715\n",
      "Epoch 28/100\n",
      "41/41 [==============================] - 1s 12ms/step - loss: 1.1086 - accuracy: 0.5000 - val_loss: 1.6120 - val_accuracy: 0.3093\n",
      "Epoch 29/100\n",
      "41/41 [==============================] - 1s 12ms/step - loss: 1.0826 - accuracy: 0.5271 - val_loss: 1.6443 - val_accuracy: 0.3471\n",
      "Epoch 30/100\n",
      "41/41 [==============================] - 0s 12ms/step - loss: 1.1589 - accuracy: 0.4790 - val_loss: 1.5664 - val_accuracy: 0.3058\n",
      "Epoch 31/100\n",
      "41/41 [==============================] - 1s 13ms/step - loss: 1.1568 - accuracy: 0.4947 - val_loss: 1.5327 - val_accuracy: 0.3196\n",
      "Epoch 32/100\n",
      "41/41 [==============================] - 0s 12ms/step - loss: 1.0855 - accuracy: 0.5149 - val_loss: 1.6034 - val_accuracy: 0.2715\n",
      "Epoch 33/100\n",
      "41/41 [==============================] - 1s 13ms/step - loss: 1.0909 - accuracy: 0.5164 - val_loss: 1.7068 - val_accuracy: 0.2509\n",
      "Epoch 34/100\n",
      "41/41 [==============================] - 0s 12ms/step - loss: 1.0894 - accuracy: 0.5225 - val_loss: 1.7157 - val_accuracy: 0.2646\n",
      "Epoch 35/100\n",
      "41/41 [==============================] - 0s 12ms/step - loss: 1.0521 - accuracy: 0.5363 - val_loss: 1.6384 - val_accuracy: 0.3196\n",
      "Epoch 36/100\n",
      "41/41 [==============================] - 1s 12ms/step - loss: 1.0404 - accuracy: 0.5542 - val_loss: 1.5679 - val_accuracy: 0.2955\n",
      "Epoch 37/100\n",
      "41/41 [==============================] - 0s 12ms/step - loss: 1.0769 - accuracy: 0.5313 - val_loss: 1.6462 - val_accuracy: 0.2784\n",
      "Epoch 38/100\n",
      "41/41 [==============================] - 0s 11ms/step - loss: 1.0786 - accuracy: 0.5260 - val_loss: 1.6769 - val_accuracy: 0.3093\n",
      "Epoch 39/100\n",
      "41/41 [==============================] - 0s 11ms/step - loss: 0.9946 - accuracy: 0.5714 - val_loss: 1.7150 - val_accuracy: 0.2818\n",
      "Epoch 40/100\n",
      "41/41 [==============================] - 0s 11ms/step - loss: 1.0719 - accuracy: 0.5332 - val_loss: 1.7229 - val_accuracy: 0.2371\n",
      "Epoch 41/100\n",
      "41/41 [==============================] - 0s 12ms/step - loss: 1.0437 - accuracy: 0.5607 - val_loss: 1.7813 - val_accuracy: 0.2543\n",
      "Epoch 42/100\n",
      "41/41 [==============================] - 0s 12ms/step - loss: 1.0188 - accuracy: 0.5664 - val_loss: 1.7323 - val_accuracy: 0.2990\n",
      "Epoch 43/100\n",
      "41/41 [==============================] - 0s 11ms/step - loss: 0.9687 - accuracy: 0.5836 - val_loss: 1.7407 - val_accuracy: 0.2749\n",
      "Epoch 44/100\n",
      "41/41 [==============================] - 0s 11ms/step - loss: 0.9488 - accuracy: 0.5901 - val_loss: 1.8770 - val_accuracy: 0.3058\n",
      "Epoch 45/100\n",
      "41/41 [==============================] - 0s 11ms/step - loss: 0.9678 - accuracy: 0.5813 - val_loss: 1.9039 - val_accuracy: 0.3196\n",
      "Epoch 46/100\n",
      "41/41 [==============================] - 1s 14ms/step - loss: 0.9800 - accuracy: 0.5889 - val_loss: 1.9033 - val_accuracy: 0.2234\n",
      "Epoch 47/100\n",
      "41/41 [==============================] - 0s 12ms/step - loss: 0.9301 - accuracy: 0.6069 - val_loss: 2.0000 - val_accuracy: 0.2852\n",
      "Epoch 48/100\n",
      "41/41 [==============================] - 1s 13ms/step - loss: 0.8815 - accuracy: 0.6328 - val_loss: 2.0113 - val_accuracy: 0.2921\n",
      "Epoch 49/100\n",
      "41/41 [==============================] - 0s 12ms/step - loss: 0.9515 - accuracy: 0.6019 - val_loss: 1.9324 - val_accuracy: 0.2852\n",
      "Epoch 50/100\n",
      "41/41 [==============================] - 0s 11ms/step - loss: 0.9553 - accuracy: 0.5920 - val_loss: 1.7832 - val_accuracy: 0.2887\n",
      "Epoch 51/100\n",
      "41/41 [==============================] - 1s 14ms/step - loss: 0.9339 - accuracy: 0.6057 - val_loss: 1.9070 - val_accuracy: 0.2543\n",
      "Epoch 52/100\n",
      "41/41 [==============================] - 0s 11ms/step - loss: 0.8839 - accuracy: 0.6313 - val_loss: 1.8833 - val_accuracy: 0.3162\n",
      "Epoch 53/100\n",
      "41/41 [==============================] - 0s 12ms/step - loss: 0.9078 - accuracy: 0.6263 - val_loss: 1.9929 - val_accuracy: 0.2440\n",
      "Epoch 54/100\n",
      "41/41 [==============================] - 0s 12ms/step - loss: 0.8988 - accuracy: 0.6233 - val_loss: 1.9140 - val_accuracy: 0.2990\n",
      "Epoch 55/100\n",
      "41/41 [==============================] - 0s 12ms/step - loss: 0.8333 - accuracy: 0.6466 - val_loss: 2.1184 - val_accuracy: 0.2749\n",
      "Epoch 56/100\n",
      "41/41 [==============================] - 1s 12ms/step - loss: 0.8613 - accuracy: 0.6447 - val_loss: 2.0496 - val_accuracy: 0.2405\n",
      "Epoch 57/100\n",
      "41/41 [==============================] - 0s 11ms/step - loss: 0.8400 - accuracy: 0.6653 - val_loss: 2.1078 - val_accuracy: 0.2852\n",
      "Epoch 58/100\n",
      "41/41 [==============================] - 0s 11ms/step - loss: 0.9242 - accuracy: 0.6191 - val_loss: 1.8963 - val_accuracy: 0.2990\n",
      "Epoch 59/100\n",
      "41/41 [==============================] - 0s 11ms/step - loss: 0.9306 - accuracy: 0.6233 - val_loss: 1.8407 - val_accuracy: 0.3127\n",
      "Epoch 60/100\n",
      "41/41 [==============================] - 1s 12ms/step - loss: 0.8083 - accuracy: 0.6744 - val_loss: 2.2421 - val_accuracy: 0.2749\n",
      "Epoch 61/100\n",
      "41/41 [==============================] - 1s 12ms/step - loss: 0.7565 - accuracy: 0.6908 - val_loss: 2.2815 - val_accuracy: 0.3058\n",
      "Epoch 62/100\n",
      "41/41 [==============================] - 1s 14ms/step - loss: 0.8202 - accuracy: 0.6645 - val_loss: 2.3397 - val_accuracy: 0.2646\n",
      "Epoch 63/100\n",
      "41/41 [==============================] - 1s 12ms/step - loss: 0.7986 - accuracy: 0.6775 - val_loss: 2.1849 - val_accuracy: 0.2818\n",
      "Epoch 64/100\n",
      "41/41 [==============================] - 0s 12ms/step - loss: 0.8156 - accuracy: 0.6668 - val_loss: 2.1943 - val_accuracy: 0.3299\n",
      "Epoch 65/100\n",
      "41/41 [==============================] - 1s 14ms/step - loss: 0.7798 - accuracy: 0.6935 - val_loss: 2.2153 - val_accuracy: 0.2818\n",
      "Epoch 66/100\n",
      "41/41 [==============================] - 1s 13ms/step - loss: 0.7850 - accuracy: 0.6782 - val_loss: 2.5458 - val_accuracy: 0.2509\n",
      "Epoch 67/100\n",
      "41/41 [==============================] - 1s 14ms/step - loss: 0.7649 - accuracy: 0.6866 - val_loss: 2.2412 - val_accuracy: 0.2955\n",
      "Epoch 68/100\n",
      "41/41 [==============================] - 1s 14ms/step - loss: 0.8190 - accuracy: 0.6721 - val_loss: 2.2976 - val_accuracy: 0.2715\n",
      "Epoch 69/100\n",
      "41/41 [==============================] - 1s 26ms/step - loss: 0.8340 - accuracy: 0.6729 - val_loss: 2.0756 - val_accuracy: 0.2509\n",
      "Epoch 70/100\n",
      "41/41 [==============================] - 0s 11ms/step - loss: 0.8045 - accuracy: 0.6863 - val_loss: 2.5273 - val_accuracy: 0.2715\n",
      "Epoch 71/100\n",
      "41/41 [==============================] - 1s 13ms/step - loss: 0.7737 - accuracy: 0.6893 - val_loss: 2.4651 - val_accuracy: 0.2474\n",
      "Epoch 72/100\n",
      "41/41 [==============================] - 0s 12ms/step - loss: 0.7432 - accuracy: 0.7111 - val_loss: 2.5751 - val_accuracy: 0.2337\n",
      "Epoch 73/100\n",
      "41/41 [==============================] - 0s 12ms/step - loss: 0.7342 - accuracy: 0.7046 - val_loss: 2.5044 - val_accuracy: 0.2337\n",
      "Epoch 74/100\n",
      "41/41 [==============================] - 0s 10ms/step - loss: 0.7051 - accuracy: 0.7168 - val_loss: 2.5364 - val_accuracy: 0.2577\n",
      "Epoch 75/100\n",
      "41/41 [==============================] - 0s 10ms/step - loss: 0.6949 - accuracy: 0.7225 - val_loss: 2.7842 - val_accuracy: 0.2577\n",
      "Epoch 76/100\n",
      "41/41 [==============================] - 0s 11ms/step - loss: 0.6729 - accuracy: 0.7302 - val_loss: 2.6485 - val_accuracy: 0.2474\n",
      "Epoch 77/100\n",
      "41/41 [==============================] - 0s 11ms/step - loss: 0.6848 - accuracy: 0.7305 - val_loss: 2.8034 - val_accuracy: 0.2543\n",
      "Epoch 78/100\n",
      "41/41 [==============================] - 0s 11ms/step - loss: 0.7300 - accuracy: 0.7153 - val_loss: 2.5697 - val_accuracy: 0.2646\n",
      "Epoch 79/100\n",
      "41/41 [==============================] - 0s 11ms/step - loss: 0.7870 - accuracy: 0.6798 - val_loss: 2.7208 - val_accuracy: 0.2509\n",
      "Epoch 80/100\n",
      "41/41 [==============================] - 0s 11ms/step - loss: 0.6862 - accuracy: 0.7332 - val_loss: 2.5535 - val_accuracy: 0.2474\n",
      "Epoch 81/100\n",
      "41/41 [==============================] - 0s 10ms/step - loss: 0.7513 - accuracy: 0.7061 - val_loss: 2.4422 - val_accuracy: 0.2474\n",
      "Epoch 82/100\n",
      "41/41 [==============================] - 0s 11ms/step - loss: 0.7664 - accuracy: 0.7008 - val_loss: 2.8392 - val_accuracy: 0.2474\n",
      "Epoch 83/100\n",
      "41/41 [==============================] - 0s 11ms/step - loss: 0.7615 - accuracy: 0.7107 - val_loss: 2.6275 - val_accuracy: 0.2509\n",
      "Epoch 84/100\n",
      "41/41 [==============================] - 0s 10ms/step - loss: 0.7238 - accuracy: 0.7198 - val_loss: 2.6801 - val_accuracy: 0.2784\n",
      "Epoch 85/100\n",
      "41/41 [==============================] - 0s 11ms/step - loss: 0.6536 - accuracy: 0.7523 - val_loss: 2.5632 - val_accuracy: 0.2715\n",
      "Epoch 86/100\n",
      "41/41 [==============================] - 0s 10ms/step - loss: 0.6929 - accuracy: 0.7332 - val_loss: 2.8520 - val_accuracy: 0.2268\n",
      "Epoch 87/100\n",
      "41/41 [==============================] - 0s 11ms/step - loss: 0.6820 - accuracy: 0.7469 - val_loss: 2.5707 - val_accuracy: 0.2646\n",
      "Epoch 88/100\n",
      "41/41 [==============================] - 0s 11ms/step - loss: 0.8004 - accuracy: 0.6950 - val_loss: 2.1684 - val_accuracy: 0.2715\n",
      "Epoch 89/100\n",
      "41/41 [==============================] - 0s 10ms/step - loss: 0.7362 - accuracy: 0.7122 - val_loss: 2.5987 - val_accuracy: 0.2784\n",
      "Epoch 90/100\n",
      "41/41 [==============================] - 0s 10ms/step - loss: 0.6461 - accuracy: 0.7447 - val_loss: 2.5501 - val_accuracy: 0.2680\n",
      "Epoch 91/100\n",
      "41/41 [==============================] - 0s 10ms/step - loss: 0.6843 - accuracy: 0.7378 - val_loss: 2.5150 - val_accuracy: 0.2577\n",
      "Epoch 92/100\n",
      "41/41 [==============================] - 0s 11ms/step - loss: 0.6491 - accuracy: 0.7557 - val_loss: 2.5165 - val_accuracy: 0.2268\n",
      "Epoch 93/100\n",
      "41/41 [==============================] - 0s 10ms/step - loss: 0.6278 - accuracy: 0.7641 - val_loss: 2.8543 - val_accuracy: 0.2199\n",
      "Epoch 94/100\n",
      "41/41 [==============================] - 0s 10ms/step - loss: 0.6693 - accuracy: 0.7653 - val_loss: 2.8853 - val_accuracy: 0.2543\n",
      "Epoch 95/100\n",
      "41/41 [==============================] - 0s 11ms/step - loss: 0.6601 - accuracy: 0.7389 - val_loss: 2.6721 - val_accuracy: 0.2302\n",
      "Epoch 96/100\n",
      "41/41 [==============================] - 0s 11ms/step - loss: 0.6515 - accuracy: 0.7439 - val_loss: 3.0469 - val_accuracy: 0.2405\n",
      "Epoch 97/100\n",
      "41/41 [==============================] - 0s 10ms/step - loss: 0.5991 - accuracy: 0.7748 - val_loss: 3.0241 - val_accuracy: 0.2474\n",
      "Epoch 98/100\n",
      "41/41 [==============================] - 0s 10ms/step - loss: 0.6078 - accuracy: 0.7725 - val_loss: 3.0709 - val_accuracy: 0.2543\n",
      "Epoch 99/100\n",
      "41/41 [==============================] - 0s 10ms/step - loss: 0.6266 - accuracy: 0.7607 - val_loss: 2.9916 - val_accuracy: 0.2509\n",
      "Epoch 100/100\n",
      "41/41 [==============================] - 0s 12ms/step - loss: 0.5878 - accuracy: 0.7782 - val_loss: 2.9656 - val_accuracy: 0.2852\n"
     ]
    }
   ],
   "source": [
    "# train_examples.reshape(-1, 18,18,1)\n",
    "history = model.fit(trainX, trainY, epochs=epochs,validation_data=(testX, testY), batch_size=64)\n"
   ]
  },
  {
   "cell_type": "code",
   "execution_count": 25,
   "metadata": {},
   "outputs": [
    {
     "data": {
      "image/png": "[encoded data removed]",
      "text/plain": [
       "<Figure size 576x576 with 2 Axes>"
      ]
     },
     "metadata": {
      "needs_background": "light"
     },
     "output_type": "display_data"
    }
   ],
   "source": [
    "from matplotlib import pyplot as plt\n",
    "\n",
    "acc = history.history['accuracy']\n",
    "val_acc = history.history['val_accuracy']\n",
    "\n",
    "loss = history.history['loss']\n",
    "val_loss = history.history['val_loss']\n",
    "\n",
    "epochs_range = range(epochs)\n",
    "\n",
    "plt.figure(figsize=(8, 8))\n",
    "plt.subplot(1, 2, 1)\n",
    "plt.plot(epochs_range, acc, label='Training Accuracy')\n",
    "plt.plot(epochs_range, val_acc, label='Validation Accuracy')\n",
    "plt.legend(loc='lower right')\n",
    "plt.title('Training and Validation Accuracy')\n",
    "plt.ylim([0, 1])\n",
    "\n",
    "plt.subplot(1, 2, 2)\n",
    "plt.plot(epochs_range, loss, label='Training Loss')\n",
    "plt.plot(epochs_range, val_loss, label='Validation Loss')\n",
    "plt.legend(loc='upper right')\n",
    "plt.title('Training and Validation Loss')\n",
    "plt.show()"
   ]
  },
  {
   "cell_type": "code",
   "execution_count": 1,
   "metadata": {},
   "outputs": [],
   "source": [
    "%reset -f"
   ]
  },
  {
   "cell_type": "code",
   "execution_count": 72,
   "metadata": {},
   "outputs": [
    {
     "name": "stdout",
     "output_type": "stream",
     "text": [
      "157/157 [==============================] - 1s 4ms/step - loss: 0.6444 - sparse_categorical_accuracy: 0.9575\n"
     ]
    },
    {
     "data": {
      "text/plain": [
       "[0.6444269418716431, 0.9575000405311584]"
      ]
     },
     "execution_count": 72,
     "metadata": {},
     "output_type": "execute_result"
    }
   ],
   "source": [
    "model.evaluate(test_dataset)"
   ]
  },
  {
   "cell_type": "code",
   "execution_count": null,
   "metadata": {},
   "outputs": [],
   "source": []
  },
  {
   "cell_type": "code",
   "execution_count": null,
   "metadata": {},
   "outputs": [],
   "source": []
  },
  {
   "cell_type": "code",
   "execution_count": null,
   "metadata": {},
   "outputs": [],
   "source": []
  },
  {
   "cell_type": "code",
   "execution_count": null,
   "metadata": {},
   "outputs": [],
   "source": [
    "# epochs = 25\n",
    "# # history = model.fit(train_dataset, epochs=epochs, validation_data=(val_examples, val_labels))\n",
    "# history = model.fit(train_dataset, epochs=epochs)\n"
   ]
  }
 ],
 "metadata": {
  "interpreter": {
   "hash": "29cc21816e506614f017a9125cfdb1f5dc655865e499c52ef5f5406a40d25695"
  },
  "kernelspec": {
   "display_name": "Python 3.9.12",
   "language": "python",
   "name": "python3"
  },
  "language_info": {
   "codemirror_mode": {
    "name": "ipython",
    "version": 3
   },
   "file_extension": ".py",
   "mimetype": "text/x-python",
   "name": "python",
   "nbconvert_exporter": "python",
   "pygments_lexer": "ipython3",
   "version": "3.8.13"
  },
  "orig_nbformat": 4
 },
 "nbformat": 4,
 "nbformat_minor": 2
}
