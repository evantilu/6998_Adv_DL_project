{
 "cells": [
  {
   "cell_type": "markdown",
   "metadata": {},
   "source": [
    "## Baseline 2\n",
    "#### Simple CNN network using tensorflow img classification tutorial\n",
    "https://www.tensorflow.org/tutorials/images/classification"
   ]
  },
  {
   "cell_type": "code",
   "execution_count": 155,
   "metadata": {},
   "outputs": [],
   "source": [
    "import numpy as np\n",
    "import tensorflow as tf\n",
    "import pandas as pd\n",
    "from matplotlib import pyplot as plt\n",
    "\n",
    "from sklearn.preprocessing import OneHotEncoder\n",
    "from sklearn.preprocessing import LabelEncoder"
   ]
  },
  {
   "cell_type": "code",
   "execution_count": 156,
   "metadata": {},
   "outputs": [
    {
     "data": {
      "text/html": [
       "<div>\n",
       "<style scoped>\n",
       "    .dataframe tbody tr th:only-of-type {\n",
       "        vertical-align: middle;\n",
       "    }\n",
       "\n",
       "    .dataframe tbody tr th {\n",
       "        vertical-align: top;\n",
       "    }\n",
       "\n",
       "    .dataframe thead th {\n",
       "        text-align: right;\n",
       "    }\n",
       "</style>\n",
       "<table border=\"1\" class=\"dataframe\">\n",
       "  <thead>\n",
       "    <tr style=\"text-align: right;\">\n",
       "      <th></th>\n",
       "      <th>OverallQual</th>\n",
       "      <th>GrLivArea</th>\n",
       "      <th>GarageCars</th>\n",
       "      <th>Total_Bathrooms</th>\n",
       "      <th>GarageArea</th>\n",
       "      <th>YrBltAndRemod</th>\n",
       "      <th>TotalBsmtSF</th>\n",
       "      <th>1stFlrSF</th>\n",
       "      <th>YearBuilt</th>\n",
       "      <th>FullBath</th>\n",
       "      <th>...</th>\n",
       "      <th>GarageType_Detchd</th>\n",
       "      <th>MasVnrType_None</th>\n",
       "      <th>GarageFinish_Unf</th>\n",
       "      <th>BsmtQual_TA</th>\n",
       "      <th>FireplaceQu_None</th>\n",
       "      <th>KitchenQual_TA</th>\n",
       "      <th>ExterQual_TA</th>\n",
       "      <th>dummy_1</th>\n",
       "      <th>dummy_2</th>\n",
       "      <th>dummy_3</th>\n",
       "    </tr>\n",
       "  </thead>\n",
       "  <tbody>\n",
       "    <tr>\n",
       "      <th>count</th>\n",
       "      <td>2911.000000</td>\n",
       "      <td>2911.000000</td>\n",
       "      <td>2911.000000</td>\n",
       "      <td>2911.000000</td>\n",
       "      <td>2911.000000</td>\n",
       "      <td>2911.000000</td>\n",
       "      <td>2911.000000</td>\n",
       "      <td>2911.000000</td>\n",
       "      <td>2911.000000</td>\n",
       "      <td>2911.000000</td>\n",
       "      <td>...</td>\n",
       "      <td>2911.000000</td>\n",
       "      <td>2911.000000</td>\n",
       "      <td>2911.000000</td>\n",
       "      <td>2911.000000</td>\n",
       "      <td>2911.000000</td>\n",
       "      <td>2911.000000</td>\n",
       "      <td>2911.000000</td>\n",
       "      <td>2911.0</td>\n",
       "      <td>2911.0</td>\n",
       "      <td>2911.0</td>\n",
       "    </tr>\n",
       "    <tr>\n",
       "      <th>mean</th>\n",
       "      <td>0.565136</td>\n",
       "      <td>0.550302</td>\n",
       "      <td>0.353143</td>\n",
       "      <td>0.201066</td>\n",
       "      <td>0.317285</td>\n",
       "      <td>0.660811</td>\n",
       "      <td>0.364171</td>\n",
       "      <td>0.494881</td>\n",
       "      <td>0.719569</td>\n",
       "      <td>0.391876</td>\n",
       "      <td>...</td>\n",
       "      <td>0.266919</td>\n",
       "      <td>0.605634</td>\n",
       "      <td>0.421848</td>\n",
       "      <td>0.439368</td>\n",
       "      <td>0.487118</td>\n",
       "      <td>0.511852</td>\n",
       "      <td>0.616627</td>\n",
       "      <td>0.0</td>\n",
       "      <td>0.0</td>\n",
       "      <td>0.0</td>\n",
       "    </tr>\n",
       "    <tr>\n",
       "      <th>std</th>\n",
       "      <td>0.155988</td>\n",
       "      <td>0.124790</td>\n",
       "      <td>0.152244</td>\n",
       "      <td>0.133037</td>\n",
       "      <td>0.143976</td>\n",
       "      <td>0.242686</td>\n",
       "      <td>0.134263</td>\n",
       "      <td>0.131448</td>\n",
       "      <td>0.219351</td>\n",
       "      <td>0.138140</td>\n",
       "      <td>...</td>\n",
       "      <td>0.442425</td>\n",
       "      <td>0.488798</td>\n",
       "      <td>0.493939</td>\n",
       "      <td>0.496395</td>\n",
       "      <td>0.499920</td>\n",
       "      <td>0.499945</td>\n",
       "      <td>0.486292</td>\n",
       "      <td>0.0</td>\n",
       "      <td>0.0</td>\n",
       "      <td>0.0</td>\n",
       "    </tr>\n",
       "    <tr>\n",
       "      <th>min</th>\n",
       "      <td>0.000000</td>\n",
       "      <td>0.000000</td>\n",
       "      <td>0.000000</td>\n",
       "      <td>0.000000</td>\n",
       "      <td>0.000000</td>\n",
       "      <td>0.000000</td>\n",
       "      <td>0.000000</td>\n",
       "      <td>0.000000</td>\n",
       "      <td>0.000000</td>\n",
       "      <td>0.000000</td>\n",
       "      <td>...</td>\n",
       "      <td>0.000000</td>\n",
       "      <td>0.000000</td>\n",
       "      <td>0.000000</td>\n",
       "      <td>0.000000</td>\n",
       "      <td>0.000000</td>\n",
       "      <td>0.000000</td>\n",
       "      <td>0.000000</td>\n",
       "      <td>0.0</td>\n",
       "      <td>0.0</td>\n",
       "      <td>0.0</td>\n",
       "    </tr>\n",
       "    <tr>\n",
       "      <th>25%</th>\n",
       "      <td>0.444444</td>\n",
       "      <td>0.459710</td>\n",
       "      <td>0.200000</td>\n",
       "      <td>0.088791</td>\n",
       "      <td>0.215054</td>\n",
       "      <td>0.473684</td>\n",
       "      <td>0.286236</td>\n",
       "      <td>0.402090</td>\n",
       "      <td>0.590580</td>\n",
       "      <td>0.250000</td>\n",
       "      <td>...</td>\n",
       "      <td>0.000000</td>\n",
       "      <td>0.000000</td>\n",
       "      <td>0.000000</td>\n",
       "      <td>0.000000</td>\n",
       "      <td>0.000000</td>\n",
       "      <td>0.000000</td>\n",
       "      <td>0.000000</td>\n",
       "      <td>0.0</td>\n",
       "      <td>0.0</td>\n",
       "      <td>0.0</td>\n",
       "    </tr>\n",
       "    <tr>\n",
       "      <th>50%</th>\n",
       "      <td>0.555556</td>\n",
       "      <td>0.555832</td>\n",
       "      <td>0.400000</td>\n",
       "      <td>0.165185</td>\n",
       "      <td>0.322581</td>\n",
       "      <td>0.652632</td>\n",
       "      <td>0.348714</td>\n",
       "      <td>0.489055</td>\n",
       "      <td>0.731884</td>\n",
       "      <td>0.500000</td>\n",
       "      <td>...</td>\n",
       "      <td>0.000000</td>\n",
       "      <td>1.000000</td>\n",
       "      <td>0.000000</td>\n",
       "      <td>0.000000</td>\n",
       "      <td>0.000000</td>\n",
       "      <td>1.000000</td>\n",
       "      <td>1.000000</td>\n",
       "      <td>0.0</td>\n",
       "      <td>0.0</td>\n",
       "      <td>0.0</td>\n",
       "    </tr>\n",
       "    <tr>\n",
       "      <th>75%</th>\n",
       "      <td>0.666667</td>\n",
       "      <td>0.628834</td>\n",
       "      <td>0.400000</td>\n",
       "      <td>0.252738</td>\n",
       "      <td>0.387097</td>\n",
       "      <td>0.905263</td>\n",
       "      <td>0.445831</td>\n",
       "      <td>0.589757</td>\n",
       "      <td>0.934783</td>\n",
       "      <td>0.500000</td>\n",
       "      <td>...</td>\n",
       "      <td>1.000000</td>\n",
       "      <td>1.000000</td>\n",
       "      <td>1.000000</td>\n",
       "      <td>1.000000</td>\n",
       "      <td>1.000000</td>\n",
       "      <td>1.000000</td>\n",
       "      <td>1.000000</td>\n",
       "      <td>0.0</td>\n",
       "      <td>0.0</td>\n",
       "      <td>0.0</td>\n",
       "    </tr>\n",
       "    <tr>\n",
       "      <th>max</th>\n",
       "      <td>1.000000</td>\n",
       "      <td>1.000000</td>\n",
       "      <td>1.000000</td>\n",
       "      <td>1.000000</td>\n",
       "      <td>1.000000</td>\n",
       "      <td>1.000000</td>\n",
       "      <td>1.000000</td>\n",
       "      <td>1.000000</td>\n",
       "      <td>1.000000</td>\n",
       "      <td>1.000000</td>\n",
       "      <td>...</td>\n",
       "      <td>1.000000</td>\n",
       "      <td>1.000000</td>\n",
       "      <td>1.000000</td>\n",
       "      <td>1.000000</td>\n",
       "      <td>1.000000</td>\n",
       "      <td>1.000000</td>\n",
       "      <td>1.000000</td>\n",
       "      <td>0.0</td>\n",
       "      <td>0.0</td>\n",
       "      <td>0.0</td>\n",
       "    </tr>\n",
       "  </tbody>\n",
       "</table>\n",
       "<p>8 rows × 324 columns</p>\n",
       "</div>"
      ],
      "text/plain": [
       "       OverallQual    GrLivArea   GarageCars  Total_Bathrooms   GarageArea  \\\n",
       "count  2911.000000  2911.000000  2911.000000      2911.000000  2911.000000   \n",
       "mean      0.565136     0.550302     0.353143         0.201066     0.317285   \n",
       "std       0.155988     0.124790     0.152244         0.133037     0.143976   \n",
       "min       0.000000     0.000000     0.000000         0.000000     0.000000   \n",
       "25%       0.444444     0.459710     0.200000         0.088791     0.215054   \n",
       "50%       0.555556     0.555832     0.400000         0.165185     0.322581   \n",
       "75%       0.666667     0.628834     0.400000         0.252738     0.387097   \n",
       "max       1.000000     1.000000     1.000000         1.000000     1.000000   \n",
       "\n",
       "       YrBltAndRemod  TotalBsmtSF     1stFlrSF    YearBuilt     FullBath  ...  \\\n",
       "count    2911.000000  2911.000000  2911.000000  2911.000000  2911.000000  ...   \n",
       "mean        0.660811     0.364171     0.494881     0.719569     0.391876  ...   \n",
       "std         0.242686     0.134263     0.131448     0.219351     0.138140  ...   \n",
       "min         0.000000     0.000000     0.000000     0.000000     0.000000  ...   \n",
       "25%         0.473684     0.286236     0.402090     0.590580     0.250000  ...   \n",
       "50%         0.652632     0.348714     0.489055     0.731884     0.500000  ...   \n",
       "75%         0.905263     0.445831     0.589757     0.934783     0.500000  ...   \n",
       "max         1.000000     1.000000     1.000000     1.000000     1.000000  ...   \n",
       "\n",
       "       GarageType_Detchd  MasVnrType_None  GarageFinish_Unf  BsmtQual_TA  \\\n",
       "count        2911.000000      2911.000000       2911.000000  2911.000000   \n",
       "mean            0.266919         0.605634          0.421848     0.439368   \n",
       "std             0.442425         0.488798          0.493939     0.496395   \n",
       "min             0.000000         0.000000          0.000000     0.000000   \n",
       "25%             0.000000         0.000000          0.000000     0.000000   \n",
       "50%             0.000000         1.000000          0.000000     0.000000   \n",
       "75%             1.000000         1.000000          1.000000     1.000000   \n",
       "max             1.000000         1.000000          1.000000     1.000000   \n",
       "\n",
       "       FireplaceQu_None  KitchenQual_TA  ExterQual_TA  dummy_1  dummy_2  \\\n",
       "count       2911.000000     2911.000000   2911.000000   2911.0   2911.0   \n",
       "mean           0.487118        0.511852      0.616627      0.0      0.0   \n",
       "std            0.499920        0.499945      0.486292      0.0      0.0   \n",
       "min            0.000000        0.000000      0.000000      0.0      0.0   \n",
       "25%            0.000000        0.000000      0.000000      0.0      0.0   \n",
       "50%            0.000000        1.000000      1.000000      0.0      0.0   \n",
       "75%            1.000000        1.000000      1.000000      0.0      0.0   \n",
       "max            1.000000        1.000000      1.000000      0.0      0.0   \n",
       "\n",
       "       dummy_3  \n",
       "count   2911.0  \n",
       "mean       0.0  \n",
       "std        0.0  \n",
       "min        0.0  \n",
       "25%        0.0  \n",
       "50%        0.0  \n",
       "75%        0.0  \n",
       "max        0.0  \n",
       "\n",
       "[8 rows x 324 columns]"
      ]
     },
     "execution_count": 156,
     "metadata": {},
     "output_type": "execute_result"
    }
   ],
   "source": [
    "file = '../data/home_sale_data_324.csv'\n",
    "\n",
    "data = pd.read_csv(file)\n",
    "labels = data['label']\n",
    "data.drop(['label'], axis=1, inplace=True)\n",
    "data.describe()"
   ]
  },
  {
   "cell_type": "code",
   "execution_count": 157,
   "metadata": {},
   "outputs": [
    {
     "name": "stdout",
     "output_type": "stream",
     "text": [
      "[[0. 0. 0. 1.]\n",
      " [0. 0. 0. 1.]\n",
      " [1. 0. 0. 0.]\n",
      " ...\n",
      " [0. 0. 1. 0.]\n",
      " [0. 1. 0. 0.]\n",
      " [0. 1. 0. 0.]]\n"
     ]
    }
   ],
   "source": [
    "'''one-hot encode the labels'''\n",
    "\n",
    "# integer encode\n",
    "label_encoder = LabelEncoder()\n",
    "integer_encoded = label_encoder.fit_transform(labels)\n",
    "# print(list(integer_encoded))\n",
    "# binary encode\n",
    "onehot_encoder = OneHotEncoder(sparse=False)\n",
    "integer_encoded = integer_encoded.reshape(len(integer_encoded), 1)\n",
    "labels = onehot_encoder.fit_transform(integer_encoded)\n",
    "print(labels)\n",
    "\n",
    "\n"
   ]
  },
  {
   "cell_type": "code",
   "execution_count": 158,
   "metadata": {},
   "outputs": [
    {
     "data": {
      "text/plain": [
       "array([[[ 1,  2],\n",
       "        [ 3,  4]],\n",
       "\n",
       "       [[ 5,  6],\n",
       "        [ 7,  8]],\n",
       "\n",
       "       [[ 9, 10],\n",
       "        [11, 12]]])"
      ]
     },
     "execution_count": 158,
     "metadata": {},
     "output_type": "execute_result"
    }
   ],
   "source": [
    "'''test reshape'''\n",
    "tmp = [[1,2,3,4], [5,6, 7,8], [9,10,11,12]]\n",
    "tmp = np.array(tmp)\n",
    "tmp.shape\n",
    "tmp.reshape(3,2,2)\n"
   ]
  },
  {
   "cell_type": "code",
   "execution_count": 159,
   "metadata": {},
   "outputs": [
    {
     "data": {
      "text/plain": [
       "(2911, 18, 18)"
      ]
     },
     "execution_count": 159,
     "metadata": {},
     "output_type": "execute_result"
    }
   ],
   "source": [
    "data_np = data.to_numpy()\n",
    "data_np.shape\n",
    "data_np = data_np.reshape(len(data), 18, 18)\n",
    "data_np.shape"
   ]
  },
  {
   "cell_type": "code",
   "execution_count": 160,
   "metadata": {},
   "outputs": [
    {
     "data": {
      "image/png": "[encoded data removed]",
      "text/plain": [
       "<Figure size 432x288 with 2 Axes>"
      ]
     },
     "metadata": {
      "needs_background": "light"
     },
     "output_type": "display_data"
    }
   ],
   "source": [
    "# data_np[0].shape\n",
    "\n",
    "nArray = np.array(data_np[99])\n",
    "\n",
    "\n",
    "a11=nArray.reshape(18,18)\n",
    "plt.imshow(a11)\n",
    "plt.colorbar()\n",
    "plt.show()"
   ]
  },
  {
   "cell_type": "code",
   "execution_count": 161,
   "metadata": {},
   "outputs": [
    {
     "data": {
      "text/plain": [
       "(2911, 4)"
      ]
     },
     "execution_count": 161,
     "metadata": {},
     "output_type": "execute_result"
    }
   ],
   "source": [
    "labels.shape"
   ]
  },
  {
   "cell_type": "code",
   "execution_count": 162,
   "metadata": {},
   "outputs": [
    {
     "data": {
      "text/plain": [
       "(2911, 18, 18)"
      ]
     },
     "execution_count": 162,
     "metadata": {},
     "output_type": "execute_result"
    }
   ],
   "source": [
    "train_examples = data_np\n",
    "train_examples.shape"
   ]
  },
  {
   "cell_type": "code",
   "execution_count": 163,
   "metadata": {},
   "outputs": [],
   "source": [
    "ttl_samples = train_examples.shape[0] \n",
    "val_ratio = 0.2\n",
    "val_samples = int(val_ratio * train_examples.shape[0])\n",
    "\n",
    "val_examples = train_examples[-1*val_samples:]\n",
    "train_examples = train_examples[:-1*val_samples]\n",
    "val_labels = labels[-1*val_samples:]\n",
    "train_labels = labels[:-1*val_samples]\n",
    "\n",
    "train_dataset = tf.data.Dataset.from_tensor_slices((train_examples, train_labels))\n",
    "val_dataset = tf.data.Dataset.from_tensor_slices((val_examples, val_labels))\n",
    "# test_dataset = tf.data.Dataset.from_tensor_slices((test_examples, test_labels))"
   ]
  },
  {
   "cell_type": "code",
   "execution_count": 164,
   "metadata": {},
   "outputs": [],
   "source": [
    "# train_dataset"
   ]
  },
  {
   "cell_type": "code",
   "execution_count": 165,
   "metadata": {},
   "outputs": [
    {
     "data": {
      "text/plain": [
       "(582, 18, 18)"
      ]
     },
     "execution_count": 165,
     "metadata": {},
     "output_type": "execute_result"
    }
   ],
   "source": [
    "train_examples.shape\n",
    "val_examples.shape"
   ]
  },
  {
   "cell_type": "code",
   "execution_count": 166,
   "metadata": {},
   "outputs": [],
   "source": [
    "trainX = train_examples.reshape(ttl_samples-val_samples, 18,18,1)\n",
    "trainY = train_labels\n",
    "\n",
    "testX = val_examples.reshape(val_samples, 18,18,1)\n",
    "testY = val_labels\n"
   ]
  },
  {
   "cell_type": "code",
   "execution_count": 167,
   "metadata": {},
   "outputs": [
    {
     "name": "stdout",
     "output_type": "stream",
     "text": [
      "Num GPUs Available:  1\n"
     ]
    },
    {
     "data": {
      "text/plain": [
       "[PhysicalDevice(name='/physical_device:GPU:0', device_type='GPU')]"
      ]
     },
     "execution_count": 167,
     "metadata": {},
     "output_type": "execute_result"
    }
   ],
   "source": [
    "print(\"Num GPUs Available: \", len(tf.config.experimental.list_physical_devices('GPU')))\n",
    "tf.config.list_physical_devices('GPU')"
   ]
  },
  {
   "cell_type": "code",
   "execution_count": 168,
   "metadata": {},
   "outputs": [
    {
     "name": "stderr",
     "output_type": "stream",
     "text": [
      "/Users/evantilu/miniforge3/envs/6998_DL_tf/lib/python3.8/site-packages/keras/optimizer_v2/adam.py:105: UserWarning: The `lr` argument is deprecated, use `learning_rate` instead.\n",
      "  super(Adam, self).__init__(name, **kwargs)\n"
     ]
    }
   ],
   "source": [
    "BATCH_SIZE = 64\n",
    "# SHUFFLE_BUFFER_SIZE = 64\n",
    "epochs = 80\n",
    "\n",
    "# train_dataset = train_dataset.shuffle(SHUFFLE_BUFFER_SIZE).batch(BATCH_SIZE)\n",
    "# test_dataset = test_dataset.batch(BATCH_SIZE)\n",
    "\n",
    "num_classes = 4\n",
    "\n",
    "# Working\n",
    "with tf.device('/cpu:0'):\n",
    "\tdata_augmentation = tf.keras.Sequential([ \n",
    "\t\ttf.keras.layers.RandomFlip(\"horizontal\", input_shape=(18, 18, 1)),\n",
    "  \t\ttf.keras.layers.RandomRotation(0.05),\n",
    "\t    # tf.keras.layers.RandomZoom(0.05)\n",
    "\t\t])\n",
    "\n",
    "# data_augmentation = tf.keras.Sequential(\n",
    "#   [\n",
    "#     tf.keras.layers.RandomFlip(\"horizontal\", input_shape=(18, 18, 1)),\n",
    "#     tf.keras.layers.RandomRotation(0.1),\n",
    "#     tf.keras.layers.RandomZoom(0.1),\n",
    "#   ]\n",
    "# )\n",
    "\n",
    "model = tf.keras.Sequential([\n",
    "\t# data_augmentation,\n",
    "  \t# tf.keras.layers.Conv2D(16, (3, 3), padding='same', activation='relu'),\n",
    "  \ttf.keras.layers.Conv2D(16, (2, 2), padding='same', activation='relu', input_shape=(18, 18, 1)),\n",
    "\ttf.keras.layers.MaxPooling2D((2, 2)),\n",
    "\ttf.keras.layers.Conv2D(32, (3, 3), padding='same', activation='relu'),\n",
    "  \ttf.keras.layers.MaxPooling2D(),\n",
    "  \ttf.keras.layers.Conv2D(64, (3, 3), padding='same', activation='relu'),\n",
    "  \ttf.keras.layers.MaxPooling2D(),\n",
    "\ttf.keras.layers.Dropout(0.2),\n",
    "\ttf.keras.layers.Flatten(),\n",
    "\ttf.keras.layers.Dense(128, activation='relu'),\n",
    "\ttf.keras.layers.Dense(4, activation='softmax', kernel_regularizer=tf.keras.regularizers.l2(0.0001))\n",
    "])\n",
    "\n",
    "# opt = tf.keras.optimizers.SGD(lr=0.005, momentum=0.9)\n",
    "opt = tf.keras.optimizers.Adam(lr=0.005)\n",
    "model.compile(optimizer=opt, loss='categorical_crossentropy', metrics=['accuracy'])\n"
   ]
  },
  {
   "cell_type": "code",
   "execution_count": 169,
   "metadata": {},
   "outputs": [
    {
     "name": "stdout",
     "output_type": "stream",
     "text": [
      "Model: \"sequential_23\"\n",
      "_________________________________________________________________\n",
      " Layer (type)                Output Shape              Param #   \n",
      "=================================================================\n",
      " conv2d_33 (Conv2D)          (None, 18, 18, 16)        80        \n",
      "                                                                 \n",
      " max_pooling2d_33 (MaxPoolin  (None, 9, 9, 16)         0         \n",
      " g2D)                                                            \n",
      "                                                                 \n",
      " conv2d_34 (Conv2D)          (None, 9, 9, 32)          4640      \n",
      "                                                                 \n",
      " max_pooling2d_34 (MaxPoolin  (None, 4, 4, 32)         0         \n",
      " g2D)                                                            \n",
      "                                                                 \n",
      " conv2d_35 (Conv2D)          (None, 4, 4, 64)          18496     \n",
      "                                                                 \n",
      " max_pooling2d_35 (MaxPoolin  (None, 2, 2, 64)         0         \n",
      " g2D)                                                            \n",
      "                                                                 \n",
      " dropout_11 (Dropout)        (None, 2, 2, 64)          0         \n",
      "                                                                 \n",
      " flatten_11 (Flatten)        (None, 256)               0         \n",
      "                                                                 \n",
      " dense_22 (Dense)            (None, 128)               32896     \n",
      "                                                                 \n",
      " dense_23 (Dense)            (None, 4)                 516       \n",
      "                                                                 \n",
      "=================================================================\n",
      "Total params: 56,628\n",
      "Trainable params: 56,628\n",
      "Non-trainable params: 0\n",
      "_________________________________________________________________\n"
     ]
    }
   ],
   "source": [
    "model.summary()"
   ]
  },
  {
   "cell_type": "code",
   "execution_count": 170,
   "metadata": {},
   "outputs": [
    {
     "name": "stdout",
     "output_type": "stream",
     "text": [
      "Epoch 1/80\n",
      "12/37 [========>.....................] - ETA: 0s - loss: 1.4009 - accuracy: 0.2292"
     ]
    },
    {
     "name": "stderr",
     "output_type": "stream",
     "text": [
      "2022-04-19 20:21:38.512095: I tensorflow/core/grappler/optimizers/custom_graph_optimizer_registry.cc:113] Plugin optimizer for device_type GPU is enabled.\n"
     ]
    },
    {
     "name": "stdout",
     "output_type": "stream",
     "text": [
      "37/37 [==============================] - 1s 12ms/step - loss: 1.3915 - accuracy: 0.2443 - val_loss: 1.3863 - val_accuracy: 0.2113\n",
      "Epoch 2/80\n",
      "15/37 [===========>..................] - ETA: 0s - loss: 1.3866 - accuracy: 0.2396"
     ]
    },
    {
     "name": "stderr",
     "output_type": "stream",
     "text": [
      "2022-04-19 20:21:38.941101: I tensorflow/core/grappler/optimizers/custom_graph_optimizer_registry.cc:113] Plugin optimizer for device_type GPU is enabled.\n"
     ]
    },
    {
     "name": "stdout",
     "output_type": "stream",
     "text": [
      "37/37 [==============================] - 0s 9ms/step - loss: 1.3871 - accuracy: 0.2435 - val_loss: 1.3858 - val_accuracy: 0.2113\n",
      "Epoch 3/80\n",
      "37/37 [==============================] - 0s 9ms/step - loss: 1.3851 - accuracy: 0.2804 - val_loss: 1.3779 - val_accuracy: 0.3299\n",
      "Epoch 4/80\n",
      "37/37 [==============================] - 0s 9ms/step - loss: 1.3831 - accuracy: 0.2765 - val_loss: 1.3465 - val_accuracy: 0.3540\n",
      "Epoch 5/80\n",
      "37/37 [==============================] - 0s 10ms/step - loss: 1.3751 - accuracy: 0.2894 - val_loss: 1.3364 - val_accuracy: 0.3436\n",
      "Epoch 6/80\n",
      "37/37 [==============================] - 0s 9ms/step - loss: 1.3721 - accuracy: 0.3040 - val_loss: 1.3392 - val_accuracy: 0.3402\n",
      "Epoch 7/80\n",
      "37/37 [==============================] - 0s 9ms/step - loss: 1.3673 - accuracy: 0.3220 - val_loss: 1.3274 - val_accuracy: 0.3660\n",
      "Epoch 8/80\n",
      "37/37 [==============================] - 0s 9ms/step - loss: 1.3639 - accuracy: 0.3207 - val_loss: 1.3336 - val_accuracy: 0.3196\n",
      "Epoch 9/80\n",
      "37/37 [==============================] - 0s 9ms/step - loss: 1.3596 - accuracy: 0.3122 - val_loss: 1.3239 - val_accuracy: 0.3368\n",
      "Epoch 10/80\n",
      "37/37 [==============================] - 0s 9ms/step - loss: 1.3564 - accuracy: 0.3207 - val_loss: 1.3224 - val_accuracy: 0.3454\n",
      "Epoch 11/80\n",
      "37/37 [==============================] - 0s 10ms/step - loss: 1.3520 - accuracy: 0.3250 - val_loss: 1.3240 - val_accuracy: 0.3402\n",
      "Epoch 12/80\n",
      "37/37 [==============================] - 0s 9ms/step - loss: 1.3526 - accuracy: 0.3298 - val_loss: 1.3297 - val_accuracy: 0.3436\n",
      "Epoch 13/80\n",
      "37/37 [==============================] - 0s 9ms/step - loss: 1.3451 - accuracy: 0.3375 - val_loss: 1.3462 - val_accuracy: 0.3402\n",
      "Epoch 14/80\n",
      "37/37 [==============================] - 0s 9ms/step - loss: 1.3450 - accuracy: 0.3392 - val_loss: 1.3398 - val_accuracy: 0.3299\n",
      "Epoch 15/80\n",
      "37/37 [==============================] - 0s 9ms/step - loss: 1.3352 - accuracy: 0.3508 - val_loss: 1.3331 - val_accuracy: 0.3179\n",
      "Epoch 16/80\n",
      "37/37 [==============================] - 0s 9ms/step - loss: 1.3311 - accuracy: 0.3547 - val_loss: 1.3507 - val_accuracy: 0.3024\n",
      "Epoch 17/80\n",
      "37/37 [==============================] - 0s 9ms/step - loss: 1.3287 - accuracy: 0.3602 - val_loss: 1.3431 - val_accuracy: 0.3316\n",
      "Epoch 18/80\n",
      "37/37 [==============================] - 0s 9ms/step - loss: 1.3170 - accuracy: 0.3688 - val_loss: 1.3652 - val_accuracy: 0.2835\n",
      "Epoch 19/80\n",
      "37/37 [==============================] - 0s 9ms/step - loss: 1.3119 - accuracy: 0.3615 - val_loss: 1.3673 - val_accuracy: 0.3316\n",
      "Epoch 20/80\n",
      "37/37 [==============================] - 0s 9ms/step - loss: 1.3116 - accuracy: 0.3710 - val_loss: 1.3724 - val_accuracy: 0.2938\n",
      "Epoch 21/80\n",
      "37/37 [==============================] - 0s 10ms/step - loss: 1.2976 - accuracy: 0.3830 - val_loss: 1.3759 - val_accuracy: 0.3110\n",
      "Epoch 22/80\n",
      "37/37 [==============================] - 0s 9ms/step - loss: 1.2894 - accuracy: 0.3924 - val_loss: 1.4034 - val_accuracy: 0.2629\n",
      "Epoch 23/80\n",
      "37/37 [==============================] - 0s 9ms/step - loss: 1.2845 - accuracy: 0.3813 - val_loss: 1.4133 - val_accuracy: 0.3024\n",
      "Epoch 24/80\n",
      "37/37 [==============================] - 0s 9ms/step - loss: 1.2692 - accuracy: 0.4010 - val_loss: 1.4220 - val_accuracy: 0.2749\n",
      "Epoch 25/80\n",
      "37/37 [==============================] - 0s 10ms/step - loss: 1.2605 - accuracy: 0.4053 - val_loss: 1.4114 - val_accuracy: 0.2835\n",
      "Epoch 26/80\n",
      "37/37 [==============================] - 0s 9ms/step - loss: 1.2312 - accuracy: 0.4315 - val_loss: 1.4412 - val_accuracy: 0.2990\n",
      "Epoch 27/80\n",
      "37/37 [==============================] - 0s 9ms/step - loss: 1.2264 - accuracy: 0.4294 - val_loss: 1.4232 - val_accuracy: 0.3041\n",
      "Epoch 28/80\n",
      "37/37 [==============================] - 0s 9ms/step - loss: 1.2159 - accuracy: 0.4345 - val_loss: 1.4454 - val_accuracy: 0.3058\n",
      "Epoch 29/80\n",
      "37/37 [==============================] - 0s 9ms/step - loss: 1.1845 - accuracy: 0.4616 - val_loss: 1.4459 - val_accuracy: 0.3385\n",
      "Epoch 30/80\n",
      "37/37 [==============================] - 0s 9ms/step - loss: 1.1566 - accuracy: 0.4749 - val_loss: 1.4764 - val_accuracy: 0.2904\n",
      "Epoch 31/80\n",
      "37/37 [==============================] - 0s 10ms/step - loss: 1.1425 - accuracy: 0.4848 - val_loss: 1.4898 - val_accuracy: 0.2973\n",
      "Epoch 32/80\n",
      "37/37 [==============================] - 0s 9ms/step - loss: 1.1416 - accuracy: 0.4800 - val_loss: 1.4635 - val_accuracy: 0.2938\n",
      "Epoch 33/80\n",
      "37/37 [==============================] - 0s 9ms/step - loss: 1.0955 - accuracy: 0.5157 - val_loss: 1.4894 - val_accuracy: 0.3247\n",
      "Epoch 34/80\n",
      "37/37 [==============================] - 0s 10ms/step - loss: 1.0929 - accuracy: 0.5152 - val_loss: 1.5434 - val_accuracy: 0.3247\n",
      "Epoch 35/80\n",
      "37/37 [==============================] - 0s 9ms/step - loss: 1.0514 - accuracy: 0.5470 - val_loss: 1.6024 - val_accuracy: 0.2715\n",
      "Epoch 36/80\n",
      "37/37 [==============================] - 0s 9ms/step - loss: 1.0363 - accuracy: 0.5620 - val_loss: 1.6148 - val_accuracy: 0.2766\n",
      "Epoch 37/80\n",
      "37/37 [==============================] - 0s 9ms/step - loss: 1.0181 - accuracy: 0.5560 - val_loss: 1.7080 - val_accuracy: 0.2904\n",
      "Epoch 38/80\n",
      "37/37 [==============================] - 0s 9ms/step - loss: 1.0091 - accuracy: 0.5646 - val_loss: 1.5815 - val_accuracy: 0.2904\n",
      "Epoch 39/80\n",
      "37/37 [==============================] - 0s 9ms/step - loss: 0.9750 - accuracy: 0.5882 - val_loss: 1.7017 - val_accuracy: 0.2801\n",
      "Epoch 40/80\n",
      "37/37 [==============================] - 0s 9ms/step - loss: 0.9527 - accuracy: 0.5904 - val_loss: 1.7642 - val_accuracy: 0.2577\n",
      "Epoch 41/80\n",
      "37/37 [==============================] - 0s 9ms/step - loss: 0.9417 - accuracy: 0.6011 - val_loss: 1.7736 - val_accuracy: 0.2715\n",
      "Epoch 42/80\n",
      "37/37 [==============================] - 0s 9ms/step - loss: 0.8950 - accuracy: 0.6299 - val_loss: 1.7714 - val_accuracy: 0.2474\n",
      "Epoch 43/80\n",
      "37/37 [==============================] - 0s 9ms/step - loss: 0.8676 - accuracy: 0.6372 - val_loss: 1.8108 - val_accuracy: 0.2405\n",
      "Epoch 44/80\n",
      "37/37 [==============================] - 0s 9ms/step - loss: 0.8456 - accuracy: 0.6471 - val_loss: 1.9019 - val_accuracy: 0.2320\n",
      "Epoch 45/80\n",
      "37/37 [==============================] - 0s 10ms/step - loss: 0.8220 - accuracy: 0.6638 - val_loss: 1.9804 - val_accuracy: 0.2560\n",
      "Epoch 46/80\n",
      "37/37 [==============================] - 0s 10ms/step - loss: 0.8267 - accuracy: 0.6569 - val_loss: 1.9226 - val_accuracy: 0.2526\n",
      "Epoch 47/80\n",
      "37/37 [==============================] - 0s 10ms/step - loss: 0.7731 - accuracy: 0.6891 - val_loss: 1.8766 - val_accuracy: 0.2921\n",
      "Epoch 48/80\n",
      "37/37 [==============================] - 0s 9ms/step - loss: 0.7759 - accuracy: 0.6853 - val_loss: 1.9399 - val_accuracy: 0.2680\n",
      "Epoch 49/80\n",
      "37/37 [==============================] - 0s 9ms/step - loss: 0.7306 - accuracy: 0.7080 - val_loss: 2.0666 - val_accuracy: 0.2784\n",
      "Epoch 50/80\n",
      "37/37 [==============================] - 0s 9ms/step - loss: 0.7225 - accuracy: 0.7158 - val_loss: 2.1286 - val_accuracy: 0.2698\n",
      "Epoch 51/80\n",
      "37/37 [==============================] - 0s 10ms/step - loss: 0.7164 - accuracy: 0.7179 - val_loss: 2.1243 - val_accuracy: 0.2766\n",
      "Epoch 52/80\n",
      "37/37 [==============================] - 0s 9ms/step - loss: 0.6953 - accuracy: 0.7342 - val_loss: 2.1127 - val_accuracy: 0.2612\n",
      "Epoch 53/80\n",
      "37/37 [==============================] - 0s 10ms/step - loss: 0.6932 - accuracy: 0.7235 - val_loss: 2.2125 - val_accuracy: 0.2663\n",
      "Epoch 54/80\n",
      "37/37 [==============================] - 0s 10ms/step - loss: 0.6767 - accuracy: 0.7364 - val_loss: 2.2691 - val_accuracy: 0.2577\n",
      "Epoch 55/80\n",
      "37/37 [==============================] - 0s 9ms/step - loss: 0.6780 - accuracy: 0.7338 - val_loss: 2.1586 - val_accuracy: 0.2577\n",
      "Epoch 56/80\n",
      "37/37 [==============================] - 0s 10ms/step - loss: 0.6404 - accuracy: 0.7432 - val_loss: 2.2263 - val_accuracy: 0.2371\n",
      "Epoch 57/80\n",
      "37/37 [==============================] - 0s 9ms/step - loss: 0.6219 - accuracy: 0.7630 - val_loss: 2.2459 - val_accuracy: 0.2526\n",
      "Epoch 58/80\n",
      "37/37 [==============================] - 0s 9ms/step - loss: 0.6242 - accuracy: 0.7574 - val_loss: 2.3169 - val_accuracy: 0.2801\n",
      "Epoch 59/80\n",
      "37/37 [==============================] - 0s 9ms/step - loss: 0.6016 - accuracy: 0.7651 - val_loss: 2.3368 - val_accuracy: 0.2784\n",
      "Epoch 60/80\n",
      "37/37 [==============================] - 0s 10ms/step - loss: 0.6047 - accuracy: 0.7604 - val_loss: 2.3400 - val_accuracy: 0.2818\n",
      "Epoch 61/80\n",
      "37/37 [==============================] - 0s 10ms/step - loss: 0.5835 - accuracy: 0.7840 - val_loss: 2.4661 - val_accuracy: 0.2543\n",
      "Epoch 62/80\n",
      "37/37 [==============================] - 0s 10ms/step - loss: 0.5704 - accuracy: 0.7840 - val_loss: 2.3185 - val_accuracy: 0.2784\n",
      "Epoch 63/80\n",
      "37/37 [==============================] - 0s 10ms/step - loss: 0.5169 - accuracy: 0.8059 - val_loss: 2.5571 - val_accuracy: 0.2663\n",
      "Epoch 64/80\n",
      "37/37 [==============================] - 0s 10ms/step - loss: 0.5462 - accuracy: 0.7930 - val_loss: 2.6861 - val_accuracy: 0.2543\n",
      "Epoch 65/80\n",
      "37/37 [==============================] - 0s 10ms/step - loss: 0.5348 - accuracy: 0.8003 - val_loss: 2.4438 - val_accuracy: 0.2749\n",
      "Epoch 66/80\n",
      "37/37 [==============================] - 0s 10ms/step - loss: 0.5591 - accuracy: 0.7913 - val_loss: 2.5564 - val_accuracy: 0.2732\n",
      "Epoch 67/80\n",
      "37/37 [==============================] - 0s 10ms/step - loss: 0.4795 - accuracy: 0.8137 - val_loss: 2.7466 - val_accuracy: 0.2612\n",
      "Epoch 68/80\n",
      "37/37 [==============================] - 0s 10ms/step - loss: 0.4385 - accuracy: 0.8343 - val_loss: 2.7326 - val_accuracy: 0.2560\n",
      "Epoch 69/80\n",
      "37/37 [==============================] - 0s 10ms/step - loss: 0.4745 - accuracy: 0.8252 - val_loss: 2.7838 - val_accuracy: 0.2732\n",
      "Epoch 70/80\n",
      "37/37 [==============================] - 0s 10ms/step - loss: 0.4811 - accuracy: 0.8270 - val_loss: 2.7817 - val_accuracy: 0.2560\n",
      "Epoch 71/80\n",
      "37/37 [==============================] - 0s 10ms/step - loss: 0.4334 - accuracy: 0.8454 - val_loss: 2.8210 - val_accuracy: 0.2646\n",
      "Epoch 72/80\n",
      "37/37 [==============================] - 0s 11ms/step - loss: 0.4236 - accuracy: 0.8416 - val_loss: 2.8922 - val_accuracy: 0.2577\n",
      "Epoch 73/80\n",
      "37/37 [==============================] - 0s 10ms/step - loss: 0.4290 - accuracy: 0.8403 - val_loss: 2.8621 - val_accuracy: 0.2491\n",
      "Epoch 74/80\n",
      "37/37 [==============================] - 1s 14ms/step - loss: 0.4440 - accuracy: 0.8287 - val_loss: 2.8202 - val_accuracy: 0.2526\n",
      "Epoch 75/80\n",
      "37/37 [==============================] - 0s 11ms/step - loss: 0.4290 - accuracy: 0.8403 - val_loss: 2.9050 - val_accuracy: 0.2852\n",
      "Epoch 76/80\n",
      "37/37 [==============================] - 0s 12ms/step - loss: 0.3819 - accuracy: 0.8635 - val_loss: 3.0479 - val_accuracy: 0.2440\n",
      "Epoch 77/80\n",
      "37/37 [==============================] - 0s 11ms/step - loss: 0.3721 - accuracy: 0.8699 - val_loss: 3.1179 - val_accuracy: 0.2474\n",
      "Epoch 78/80\n",
      "37/37 [==============================] - 0s 12ms/step - loss: 0.3698 - accuracy: 0.8635 - val_loss: 3.2006 - val_accuracy: 0.2234\n",
      "Epoch 79/80\n",
      "37/37 [==============================] - 0s 10ms/step - loss: 0.3820 - accuracy: 0.8540 - val_loss: 3.1222 - val_accuracy: 0.2474\n",
      "Epoch 80/80\n",
      "37/37 [==============================] - 0s 10ms/step - loss: 0.4015 - accuracy: 0.8562 - val_loss: 3.0661 - val_accuracy: 0.2595\n"
     ]
    }
   ],
   "source": [
    "#CPU\n",
    "with tf.device('/CPU:0'):\n",
    "    history = model.fit(trainX, trainY, epochs=epochs,validation_data=(testX, testY), batch_size=64)\n",
    "\n",
    "# deafult go with GPU\n",
    "# history = model.fit(trainX, trainY, epochs=epochs,validation_data=(testX, testY), batch_size=64)"
   ]
  },
  {
   "cell_type": "code",
   "execution_count": 171,
   "metadata": {},
   "outputs": [
    {
     "data": {
      "image/png": "[encoded data removed]",
      "text/plain": [
       "<Figure size 576x576 with 2 Axes>"
      ]
     },
     "metadata": {
      "needs_background": "light"
     },
     "output_type": "display_data"
    }
   ],
   "source": [
    "from matplotlib import pyplot as plt\n",
    "\n",
    "acc = history.history['accuracy']\n",
    "val_acc = history.history['val_accuracy']\n",
    "\n",
    "loss = history.history['loss']\n",
    "val_loss = history.history['val_loss']\n",
    "\n",
    "epochs_range = range(epochs)\n",
    "\n",
    "plt.figure(figsize=(8, 8))\n",
    "plt.subplot(1, 2, 1)\n",
    "plt.plot(epochs_range, acc, label='Training Accuracy')\n",
    "plt.plot(epochs_range, val_acc, label='Validation Accuracy')\n",
    "plt.legend(loc='lower right')\n",
    "plt.title('Training and Validation Accuracy')\n",
    "plt.ylim([0, 1])\n",
    "\n",
    "plt.subplot(1, 2, 2)\n",
    "plt.plot(epochs_range, loss, label='Training Loss')\n",
    "plt.plot(epochs_range, val_loss, label='Validation Loss')\n",
    "plt.legend(loc='upper right')\n",
    "plt.title('Training and Validation Loss')\n",
    "plt.show()"
   ]
  },
  {
   "cell_type": "code",
   "execution_count": 154,
   "metadata": {},
   "outputs": [],
   "source": [
    "%reset -f"
   ]
  },
  {
   "cell_type": "code",
   "execution_count": 72,
   "metadata": {},
   "outputs": [
    {
     "name": "stdout",
     "output_type": "stream",
     "text": [
      "157/157 [==============================] - 1s 4ms/step - loss: 0.6444 - sparse_categorical_accuracy: 0.9575\n"
     ]
    },
    {
     "data": {
      "text/plain": [
       "[0.6444269418716431, 0.9575000405311584]"
      ]
     },
     "execution_count": 72,
     "metadata": {},
     "output_type": "execute_result"
    }
   ],
   "source": [
    "model.evaluate(test_dataset)"
   ]
  },
  {
   "cell_type": "code",
   "execution_count": null,
   "metadata": {},
   "outputs": [],
   "source": []
  },
  {
   "cell_type": "code",
   "execution_count": null,
   "metadata": {},
   "outputs": [],
   "source": []
  },
  {
   "cell_type": "code",
   "execution_count": null,
   "metadata": {},
   "outputs": [],
   "source": []
  },
  {
   "cell_type": "code",
   "execution_count": null,
   "metadata": {},
   "outputs": [],
   "source": [
    "# epochs = 25\n",
    "# # history = model.fit(train_dataset, epochs=epochs, validation_data=(val_examples, val_labels))\n",
    "# history = model.fit(train_dataset, epochs=epochs)\n"
   ]
  }
 ],
 "metadata": {
  "interpreter": {
   "hash": "29cc21816e506614f017a9125cfdb1f5dc655865e499c52ef5f5406a40d25695"
  },
  "kernelspec": {
   "display_name": "Python 3.9.12",
   "language": "python",
   "name": "python3"
  },
  "language_info": {
   "codemirror_mode": {
    "name": "ipython",
    "version": 3
   },
   "file_extension": ".py",
   "mimetype": "text/x-python",
   "name": "python",
   "nbconvert_exporter": "python",
   "pygments_lexer": "ipython3",
   "version": "3.8.13"
  },
  "orig_nbformat": 4
 },
 "nbformat": 4,
 "nbformat_minor": 2
}
