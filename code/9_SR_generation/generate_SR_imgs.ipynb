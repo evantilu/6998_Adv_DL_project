{
 "cells": [
  {
   "cell_type": "markdown",
   "metadata": {},
   "source": [
    "## Generate super resolution images using ESRGAN\n",
    "https://www.tensorflow.org/hub/tutorials/image_enhancing"
   ]
  },
  {
   "cell_type": "code",
   "execution_count": 1,
   "metadata": {
    "execution": {
     "iopub.execute_input": "2022-04-27T11:37:55.129336Z",
     "iopub.status.busy": "2022-04-27T11:37:55.128960Z",
     "iopub.status.idle": "2022-04-27T11:37:57.455457Z",
     "shell.execute_reply": "2022-04-27T11:37:57.454915Z"
    },
    "id": "lnyLTyUt0ukN"
   },
   "outputs": [],
   "source": [
    "import os\n",
    "import time\n",
    "from PIL import Image\n",
    "import numpy as np\n",
    "import tensorflow as tf\n",
    "import tensorflow_hub as hub\n",
    "import matplotlib.pyplot as plt\n",
    "os.environ[\"TFHUB_DOWNLOAD_PROGRESS\"] = \"True\"\n",
    "\n",
    "import pandas as pd"
   ]
  },
  {
   "cell_type": "code",
   "execution_count": 13,
   "metadata": {
    "execution": {
     "iopub.execute_input": "2022-04-27T11:37:57.651915Z",
     "iopub.status.busy": "2022-04-27T11:37:57.651447Z",
     "iopub.status.idle": "2022-04-27T11:37:57.654709Z",
     "shell.execute_reply": "2022-04-27T11:37:57.654213Z"
    },
    "id": "DXot2kru0ukh"
   },
   "outputs": [],
   "source": [
    "# Declaring Constants\n",
    "SAVED_MODEL_PATH = \"https://tfhub.dev/captain-pool/esrgan-tf2/1\"\n"
   ]
  },
  {
   "cell_type": "markdown",
   "metadata": {
    "id": "KF_tHde-p3rn"
   },
   "source": [
    "### Helper Functions"
   ]
  },
  {
   "cell_type": "code",
   "execution_count": 3,
   "metadata": {
    "execution": {
     "iopub.execute_input": "2022-04-27T11:37:57.657924Z",
     "iopub.status.busy": "2022-04-27T11:37:57.657412Z",
     "iopub.status.idle": "2022-04-27T11:37:57.663797Z",
     "shell.execute_reply": "2022-04-27T11:37:57.663267Z"
    },
    "id": "IslbQmTj0ukz"
   },
   "outputs": [],
   "source": [
    "def preprocess_image(image_path):\n",
    "  \"\"\" Loads image from path and preprocesses to make it model ready\n",
    "      Args:\n",
    "        image_path: Path to the image file\n",
    "  \"\"\"\n",
    "  hr_image = tf.image.decode_image(tf.io.read_file(image_path))\n",
    "  # If PNG, remove the alpha channel. The model only supports\n",
    "  # images with 3 color channels.\n",
    "  if hr_image.shape[-1] == 4:\n",
    "    hr_image = hr_image[...,:-1]\n",
    "  # hr_size = (tf.convert_to_tensor(hr_image.shape[:-1]) // 4) * 4\n",
    "  # hr_image = tf.image.crop_to_bounding_box(hr_image, 0, 0, hr_size[0], hr_size[1])\n",
    "  hr_image = tf.image.crop_to_bounding_box(hr_image, 0, 0, 18, 18)\n",
    "  hr_image = tf.cast(hr_image, tf.float32)\n",
    "  return tf.expand_dims(hr_image, 0)\n",
    "\n",
    "def save_image(image, filename):\n",
    "  \"\"\"\n",
    "    Saves unscaled Tensor Images.\n",
    "    Args:\n",
    "      image: 3D image tensor. [height, width, channels]\n",
    "      filename: Name of the file to save.\n",
    "  \"\"\"\n",
    "  if not isinstance(image, Image.Image):\n",
    "    image = tf.clip_by_value(image, 0, 255)\n",
    "    image = Image.fromarray(tf.cast(image, tf.uint8).numpy())\n",
    "  image.save(\"%s.png\" % filename)\n",
    "  # print(\"Saved as %s.jpg\" % filename)"
   ]
  },
  {
   "cell_type": "code",
   "execution_count": 4,
   "metadata": {
    "execution": {
     "iopub.execute_input": "2022-04-27T11:37:57.666564Z",
     "iopub.status.busy": "2022-04-27T11:37:57.666241Z",
     "iopub.status.idle": "2022-04-27T11:37:57.671942Z",
     "shell.execute_reply": "2022-04-27T11:37:57.671465Z"
    },
    "id": "uh1E2rBpnWxV"
   },
   "outputs": [],
   "source": [
    "%matplotlib inline\n",
    "def plot_image(image, title=\"\"):\n",
    "  \"\"\"\n",
    "    Plots images from image tensors.\n",
    "    Args:\n",
    "      image: 3D image tensor. [height, width, channels].\n",
    "      title: Title to display in the plot.\n",
    "  \"\"\"\n",
    "  image = np.asarray(image)\n",
    "  image = tf.clip_by_value(image, 0, 255)\n",
    "  image = Image.fromarray(tf.cast(image, tf.uint8).numpy())\n",
    "  plt.imshow(image)\n",
    "  plt.axis(\"off\")\n",
    "  plt.title(title)"
   ]
  },
  {
   "cell_type": "markdown",
   "metadata": {
    "id": "ycrCTvmlqBMD"
   },
   "source": [
    "### Test on single image"
   ]
  },
  {
   "cell_type": "code",
   "execution_count": 5,
   "metadata": {
    "execution": {
     "iopub.execute_input": "2022-04-27T11:37:57.674887Z",
     "iopub.status.busy": "2022-04-27T11:37:57.674585Z",
     "iopub.status.idle": "2022-04-27T11:38:00.531721Z",
     "shell.execute_reply": "2022-04-27T11:38:00.531146Z"
    },
    "id": "L7XpMk8Y0uk7"
   },
   "outputs": [],
   "source": [
    "# IMAGE_PATH = \"img_1.png\"\n",
    "# hr_image = preprocess_image(IMAGE_PATH)"
   ]
  },
  {
   "cell_type": "code",
   "execution_count": 6,
   "metadata": {},
   "outputs": [],
   "source": [
    "# hr_image.shape"
   ]
  },
  {
   "cell_type": "code",
   "execution_count": 7,
   "metadata": {
    "execution": {
     "iopub.execute_input": "2022-04-27T11:38:00.534917Z",
     "iopub.status.busy": "2022-04-27T11:38:00.534487Z",
     "iopub.status.idle": "2022-04-27T11:38:00.699896Z",
     "shell.execute_reply": "2022-04-27T11:38:00.699275Z"
    },
    "id": "hWgCbUa_0ulG"
   },
   "outputs": [],
   "source": [
    "# Plotting Original Resolution image\n",
    "# plot_image(tf.squeeze(hr_image), title=\"Original Image\")\n",
    "# save_image(tf.squeeze(hr_image), filename=\"Original Image\")"
   ]
  },
  {
   "cell_type": "code",
   "execution_count": 8,
   "metadata": {
    "execution": {
     "iopub.execute_input": "2022-04-27T11:38:00.704243Z",
     "iopub.status.busy": "2022-04-27T11:38:00.703757Z",
     "iopub.status.idle": "2022-04-27T11:38:05.388283Z",
     "shell.execute_reply": "2022-04-27T11:38:05.387648Z"
    },
    "id": "ouwEyKLA0ulO"
   },
   "outputs": [],
   "source": [
    "# model = hub.load(SAVED_MODEL_PATH)"
   ]
  },
  {
   "cell_type": "code",
   "execution_count": 9,
   "metadata": {
    "execution": {
     "iopub.execute_input": "2022-04-27T11:38:05.392280Z",
     "iopub.status.busy": "2022-04-27T11:38:05.391780Z",
     "iopub.status.idle": "2022-04-27T11:38:07.392348Z",
     "shell.execute_reply": "2022-04-27T11:38:07.391718Z"
    },
    "id": "dz79ncnT0ulX"
   },
   "outputs": [],
   "source": [
    "# start = time.time()\n",
    "# fake_image = model(hr_image)\n",
    "# fake_image = tf.squeeze(fake_image)\n",
    "# print(\"Time Taken: %f\" % (time.time() - start))"
   ]
  },
  {
   "cell_type": "code",
   "execution_count": 10,
   "metadata": {},
   "outputs": [],
   "source": [
    "# fake_image.shape"
   ]
  },
  {
   "cell_type": "code",
   "execution_count": 11,
   "metadata": {
    "execution": {
     "iopub.execute_input": "2022-04-27T11:38:07.395940Z",
     "iopub.status.busy": "2022-04-27T11:38:07.395429Z",
     "iopub.status.idle": "2022-04-27T11:38:07.491494Z",
     "shell.execute_reply": "2022-04-27T11:38:07.490946Z"
    },
    "id": "ABjkkJHC2jNL"
   },
   "outputs": [],
   "source": [
    "# Plotting Super Resolution Image\n",
    "# plot_image(tf.squeeze(fake_image), title=\"Super Resolution\")\n",
    "# plot_image((fake_image), title=\"Super Resolution\")\n",
    "# save_image(tf.squeeze(fake_image), filename=\"Super Resolution\")"
   ]
  },
  {
   "cell_type": "markdown",
   "metadata": {},
   "source": [
    "### Process SR for all images"
   ]
  },
  {
   "cell_type": "code",
   "execution_count": 14,
   "metadata": {
    "execution": {
     "iopub.execute_input": "2022-04-27T11:38:00.704243Z",
     "iopub.status.busy": "2022-04-27T11:38:00.703757Z",
     "iopub.status.idle": "2022-04-27T11:38:05.388283Z",
     "shell.execute_reply": "2022-04-27T11:38:05.387648Z"
    },
    "id": "ouwEyKLA0ulO"
   },
   "outputs": [
    {
     "ename": "OSError",
     "evalue": "SavedModel file does not exist at: /var/folders/3l/2192826j1x1dnf7zrwm51n7w0000gn/T/tfhub_modules/f591ba671b05004f8d321dc431aa264a1ed374cc/{saved_model.pbtxt|saved_model.pb}",
     "output_type": "error",
     "traceback": [
      "\u001b[0;31m---------------------------------------------------------------------------\u001b[0m",
      "\u001b[0;31mOSError\u001b[0m                                   Traceback (most recent call last)",
      "\u001b[1;32m/Users/evantilu/My Drive (tl3098@columbia.edu)/CU_Spring 2022/6998 AdvDL/6998_Adv_DL_project/code/9_SR_test/generate_SR_imgs.ipynb Cell 16'\u001b[0m in \u001b[0;36m<cell line: 1>\u001b[0;34m()\u001b[0m\n\u001b[0;32m----> <a href='vscode-notebook-cell:/Users/evantilu/My%20Drive%20%28tl3098%40columbia.edu%29/CU_Spring%202022/6998%20AdvDL/6998_Adv_DL_project/code/9_SR_test/generate_SR_imgs.ipynb#ch0000015?line=0'>1</a>\u001b[0m model \u001b[39m=\u001b[39m hub\u001b[39m.\u001b[39;49mload(SAVED_MODEL_PATH)\n",
      "File \u001b[0;32m~/miniforge3/envs/6998_DL_tf/lib/python3.8/site-packages/tensorflow_hub/module_v2.py:106\u001b[0m, in \u001b[0;36mload\u001b[0;34m(handle, tags, options)\u001b[0m\n\u001b[1;32m    <a href='file:///Users/evantilu/miniforge3/envs/6998_DL_tf/lib/python3.8/site-packages/tensorflow_hub/module_v2.py?line=102'>103</a>\u001b[0m   obj \u001b[39m=\u001b[39m tf\u001b[39m.\u001b[39mcompat\u001b[39m.\u001b[39mv1\u001b[39m.\u001b[39msaved_model\u001b[39m.\u001b[39mload_v2(\n\u001b[1;32m    <a href='file:///Users/evantilu/miniforge3/envs/6998_DL_tf/lib/python3.8/site-packages/tensorflow_hub/module_v2.py?line=103'>104</a>\u001b[0m       module_path, tags\u001b[39m=\u001b[39mtags, options\u001b[39m=\u001b[39moptions)\n\u001b[1;32m    <a href='file:///Users/evantilu/miniforge3/envs/6998_DL_tf/lib/python3.8/site-packages/tensorflow_hub/module_v2.py?line=104'>105</a>\u001b[0m \u001b[39melse\u001b[39;00m:\n\u001b[0;32m--> <a href='file:///Users/evantilu/miniforge3/envs/6998_DL_tf/lib/python3.8/site-packages/tensorflow_hub/module_v2.py?line=105'>106</a>\u001b[0m   obj \u001b[39m=\u001b[39m tf\u001b[39m.\u001b[39;49mcompat\u001b[39m.\u001b[39;49mv1\u001b[39m.\u001b[39;49msaved_model\u001b[39m.\u001b[39;49mload_v2(module_path, tags\u001b[39m=\u001b[39;49mtags)\n\u001b[1;32m    <a href='file:///Users/evantilu/miniforge3/envs/6998_DL_tf/lib/python3.8/site-packages/tensorflow_hub/module_v2.py?line=106'>107</a>\u001b[0m obj\u001b[39m.\u001b[39m_is_hub_module_v1 \u001b[39m=\u001b[39m is_hub_module_v1  \u001b[39m# pylint: disable=protected-access\u001b[39;00m\n\u001b[1;32m    <a href='file:///Users/evantilu/miniforge3/envs/6998_DL_tf/lib/python3.8/site-packages/tensorflow_hub/module_v2.py?line=107'>108</a>\u001b[0m \u001b[39mreturn\u001b[39;00m obj\n",
      "File \u001b[0;32m~/miniforge3/envs/6998_DL_tf/lib/python3.8/site-packages/tensorflow/python/saved_model/load.py:936\u001b[0m, in \u001b[0;36mload\u001b[0;34m(export_dir, tags, options)\u001b[0m\n\u001b[1;32m    <a href='file:///Users/evantilu/miniforge3/envs/6998_DL_tf/lib/python3.8/site-packages/tensorflow/python/saved_model/load.py?line=844'>845</a>\u001b[0m \u001b[39m@tf_export\u001b[39m(\u001b[39m\"\u001b[39m\u001b[39msaved_model.load\u001b[39m\u001b[39m\"\u001b[39m, v1\u001b[39m=\u001b[39m[\u001b[39m\"\u001b[39m\u001b[39msaved_model.load_v2\u001b[39m\u001b[39m\"\u001b[39m])\n\u001b[1;32m    <a href='file:///Users/evantilu/miniforge3/envs/6998_DL_tf/lib/python3.8/site-packages/tensorflow/python/saved_model/load.py?line=845'>846</a>\u001b[0m \u001b[39mdef\u001b[39;00m \u001b[39mload\u001b[39m(export_dir, tags\u001b[39m=\u001b[39m\u001b[39mNone\u001b[39;00m, options\u001b[39m=\u001b[39m\u001b[39mNone\u001b[39;00m):\n\u001b[1;32m    <a href='file:///Users/evantilu/miniforge3/envs/6998_DL_tf/lib/python3.8/site-packages/tensorflow/python/saved_model/load.py?line=846'>847</a>\u001b[0m   \u001b[39m\"\"\"Load a SavedModel from `export_dir`.\u001b[39;00m\n\u001b[1;32m    <a href='file:///Users/evantilu/miniforge3/envs/6998_DL_tf/lib/python3.8/site-packages/tensorflow/python/saved_model/load.py?line=847'>848</a>\u001b[0m \n\u001b[1;32m    <a href='file:///Users/evantilu/miniforge3/envs/6998_DL_tf/lib/python3.8/site-packages/tensorflow/python/saved_model/load.py?line=848'>849</a>\u001b[0m \u001b[39m  Signatures associated with the SavedModel are available as functions:\u001b[39;00m\n\u001b[0;32m   (...)\u001b[0m\n\u001b[1;32m    <a href='file:///Users/evantilu/miniforge3/envs/6998_DL_tf/lib/python3.8/site-packages/tensorflow/python/saved_model/load.py?line=933'>934</a>\u001b[0m \u001b[39m    ValueError: If `tags` don't match a MetaGraph in the SavedModel.\u001b[39;00m\n\u001b[1;32m    <a href='file:///Users/evantilu/miniforge3/envs/6998_DL_tf/lib/python3.8/site-packages/tensorflow/python/saved_model/load.py?line=934'>935</a>\u001b[0m \u001b[39m  \"\"\"\u001b[39;00m\n\u001b[0;32m--> <a href='file:///Users/evantilu/miniforge3/envs/6998_DL_tf/lib/python3.8/site-packages/tensorflow/python/saved_model/load.py?line=935'>936</a>\u001b[0m   result \u001b[39m=\u001b[39m load_internal(export_dir, tags, options)[\u001b[39m\"\u001b[39m\u001b[39mroot\u001b[39m\u001b[39m\"\u001b[39m]\n\u001b[1;32m    <a href='file:///Users/evantilu/miniforge3/envs/6998_DL_tf/lib/python3.8/site-packages/tensorflow/python/saved_model/load.py?line=936'>937</a>\u001b[0m   \u001b[39mreturn\u001b[39;00m result\n",
      "File \u001b[0;32m~/miniforge3/envs/6998_DL_tf/lib/python3.8/site-packages/tensorflow/python/saved_model/load.py:949\u001b[0m, in \u001b[0;36mload_internal\u001b[0;34m(export_dir, tags, options, loader_cls, filters)\u001b[0m\n\u001b[1;32m    <a href='file:///Users/evantilu/miniforge3/envs/6998_DL_tf/lib/python3.8/site-packages/tensorflow/python/saved_model/load.py?line=943'>944</a>\u001b[0m \u001b[39mif\u001b[39;00m tags \u001b[39mis\u001b[39;00m \u001b[39mnot\u001b[39;00m \u001b[39mNone\u001b[39;00m \u001b[39mand\u001b[39;00m \u001b[39mnot\u001b[39;00m \u001b[39misinstance\u001b[39m(tags, \u001b[39mset\u001b[39m):\n\u001b[1;32m    <a href='file:///Users/evantilu/miniforge3/envs/6998_DL_tf/lib/python3.8/site-packages/tensorflow/python/saved_model/load.py?line=944'>945</a>\u001b[0m   \u001b[39m# Supports e.g. tags=SERVING and tags=[SERVING]. Sets aren't considered\u001b[39;00m\n\u001b[1;32m    <a href='file:///Users/evantilu/miniforge3/envs/6998_DL_tf/lib/python3.8/site-packages/tensorflow/python/saved_model/load.py?line=945'>946</a>\u001b[0m   \u001b[39m# sequences for nest.flatten, so we put those through as-is.\u001b[39;00m\n\u001b[1;32m    <a href='file:///Users/evantilu/miniforge3/envs/6998_DL_tf/lib/python3.8/site-packages/tensorflow/python/saved_model/load.py?line=946'>947</a>\u001b[0m   tags \u001b[39m=\u001b[39m nest\u001b[39m.\u001b[39mflatten(tags)\n\u001b[1;32m    <a href='file:///Users/evantilu/miniforge3/envs/6998_DL_tf/lib/python3.8/site-packages/tensorflow/python/saved_model/load.py?line=947'>948</a>\u001b[0m saved_model_proto, debug_info \u001b[39m=\u001b[39m (\n\u001b[0;32m--> <a href='file:///Users/evantilu/miniforge3/envs/6998_DL_tf/lib/python3.8/site-packages/tensorflow/python/saved_model/load.py?line=948'>949</a>\u001b[0m     loader_impl\u001b[39m.\u001b[39;49mparse_saved_model_with_debug_info(export_dir))\n\u001b[1;32m    <a href='file:///Users/evantilu/miniforge3/envs/6998_DL_tf/lib/python3.8/site-packages/tensorflow/python/saved_model/load.py?line=950'>951</a>\u001b[0m \u001b[39mif\u001b[39;00m (\u001b[39mlen\u001b[39m(saved_model_proto\u001b[39m.\u001b[39mmeta_graphs) \u001b[39m==\u001b[39m \u001b[39m1\u001b[39m \u001b[39mand\u001b[39;00m\n\u001b[1;32m    <a href='file:///Users/evantilu/miniforge3/envs/6998_DL_tf/lib/python3.8/site-packages/tensorflow/python/saved_model/load.py?line=951'>952</a>\u001b[0m     saved_model_proto\u001b[39m.\u001b[39mmeta_graphs[\u001b[39m0\u001b[39m]\u001b[39m.\u001b[39mHasField(\u001b[39m\"\u001b[39m\u001b[39mobject_graph_def\u001b[39m\u001b[39m\"\u001b[39m)):\n\u001b[1;32m    <a href='file:///Users/evantilu/miniforge3/envs/6998_DL_tf/lib/python3.8/site-packages/tensorflow/python/saved_model/load.py?line=952'>953</a>\u001b[0m   metrics\u001b[39m.\u001b[39mIncrementReadApi(_LOAD_V2_LABEL)\n",
      "File \u001b[0;32m~/miniforge3/envs/6998_DL_tf/lib/python3.8/site-packages/tensorflow/python/saved_model/loader_impl.py:57\u001b[0m, in \u001b[0;36mparse_saved_model_with_debug_info\u001b[0;34m(export_dir)\u001b[0m\n\u001b[1;32m     <a href='file:///Users/evantilu/miniforge3/envs/6998_DL_tf/lib/python3.8/site-packages/tensorflow/python/saved_model/loader_impl.py?line=43'>44</a>\u001b[0m \u001b[39mdef\u001b[39;00m \u001b[39mparse_saved_model_with_debug_info\u001b[39m(export_dir):\n\u001b[1;32m     <a href='file:///Users/evantilu/miniforge3/envs/6998_DL_tf/lib/python3.8/site-packages/tensorflow/python/saved_model/loader_impl.py?line=44'>45</a>\u001b[0m   \u001b[39m\"\"\"Reads the savedmodel as well as the graph debug info.\u001b[39;00m\n\u001b[1;32m     <a href='file:///Users/evantilu/miniforge3/envs/6998_DL_tf/lib/python3.8/site-packages/tensorflow/python/saved_model/loader_impl.py?line=45'>46</a>\u001b[0m \n\u001b[1;32m     <a href='file:///Users/evantilu/miniforge3/envs/6998_DL_tf/lib/python3.8/site-packages/tensorflow/python/saved_model/loader_impl.py?line=46'>47</a>\u001b[0m \u001b[39m  Args:\u001b[39;00m\n\u001b[0;32m   (...)\u001b[0m\n\u001b[1;32m     <a href='file:///Users/evantilu/miniforge3/envs/6998_DL_tf/lib/python3.8/site-packages/tensorflow/python/saved_model/loader_impl.py?line=54'>55</a>\u001b[0m \u001b[39m    parsed. Missing graph debug info file is fine.\u001b[39;00m\n\u001b[1;32m     <a href='file:///Users/evantilu/miniforge3/envs/6998_DL_tf/lib/python3.8/site-packages/tensorflow/python/saved_model/loader_impl.py?line=55'>56</a>\u001b[0m \u001b[39m  \"\"\"\u001b[39;00m\n\u001b[0;32m---> <a href='file:///Users/evantilu/miniforge3/envs/6998_DL_tf/lib/python3.8/site-packages/tensorflow/python/saved_model/loader_impl.py?line=56'>57</a>\u001b[0m   saved_model \u001b[39m=\u001b[39m parse_saved_model(export_dir)\n\u001b[1;32m     <a href='file:///Users/evantilu/miniforge3/envs/6998_DL_tf/lib/python3.8/site-packages/tensorflow/python/saved_model/loader_impl.py?line=58'>59</a>\u001b[0m   debug_info_path \u001b[39m=\u001b[39m file_io\u001b[39m.\u001b[39mjoin(\n\u001b[1;32m     <a href='file:///Users/evantilu/miniforge3/envs/6998_DL_tf/lib/python3.8/site-packages/tensorflow/python/saved_model/loader_impl.py?line=59'>60</a>\u001b[0m       saved_model_utils\u001b[39m.\u001b[39mget_debug_dir(export_dir),\n\u001b[1;32m     <a href='file:///Users/evantilu/miniforge3/envs/6998_DL_tf/lib/python3.8/site-packages/tensorflow/python/saved_model/loader_impl.py?line=60'>61</a>\u001b[0m       constants\u001b[39m.\u001b[39mDEBUG_INFO_FILENAME_PB)\n\u001b[1;32m     <a href='file:///Users/evantilu/miniforge3/envs/6998_DL_tf/lib/python3.8/site-packages/tensorflow/python/saved_model/loader_impl.py?line=61'>62</a>\u001b[0m   debug_info \u001b[39m=\u001b[39m graph_debug_info_pb2\u001b[39m.\u001b[39mGraphDebugInfo()\n",
      "File \u001b[0;32m~/miniforge3/envs/6998_DL_tf/lib/python3.8/site-packages/tensorflow/python/saved_model/loader_impl.py:115\u001b[0m, in \u001b[0;36mparse_saved_model\u001b[0;34m(export_dir)\u001b[0m\n\u001b[1;32m    <a href='file:///Users/evantilu/miniforge3/envs/6998_DL_tf/lib/python3.8/site-packages/tensorflow/python/saved_model/loader_impl.py?line=112'>113</a>\u001b[0m     \u001b[39mraise\u001b[39;00m \u001b[39mIOError\u001b[39;00m(\u001b[39mf\u001b[39m\u001b[39m\"\u001b[39m\u001b[39mCannot parse file \u001b[39m\u001b[39m{\u001b[39;00mpath_to_pbtxt\u001b[39m}\u001b[39;00m\u001b[39m: \u001b[39m\u001b[39m{\u001b[39;00m\u001b[39mstr\u001b[39m(e)\u001b[39m}\u001b[39;00m\u001b[39m.\u001b[39m\u001b[39m\"\u001b[39m)\n\u001b[1;32m    <a href='file:///Users/evantilu/miniforge3/envs/6998_DL_tf/lib/python3.8/site-packages/tensorflow/python/saved_model/loader_impl.py?line=113'>114</a>\u001b[0m \u001b[39melse\u001b[39;00m:\n\u001b[0;32m--> <a href='file:///Users/evantilu/miniforge3/envs/6998_DL_tf/lib/python3.8/site-packages/tensorflow/python/saved_model/loader_impl.py?line=114'>115</a>\u001b[0m   \u001b[39mraise\u001b[39;00m \u001b[39mIOError\u001b[39;00m(\n\u001b[1;32m    <a href='file:///Users/evantilu/miniforge3/envs/6998_DL_tf/lib/python3.8/site-packages/tensorflow/python/saved_model/loader_impl.py?line=115'>116</a>\u001b[0m       \u001b[39mf\u001b[39m\u001b[39m\"\u001b[39m\u001b[39mSavedModel file does not exist at: \u001b[39m\u001b[39m{\u001b[39;00mexport_dir\u001b[39m}\u001b[39;00m\u001b[39m{\u001b[39;00mos\u001b[39m.\u001b[39mpath\u001b[39m.\u001b[39msep\u001b[39m}\u001b[39;00m\u001b[39m\"\u001b[39m\n\u001b[1;32m    <a href='file:///Users/evantilu/miniforge3/envs/6998_DL_tf/lib/python3.8/site-packages/tensorflow/python/saved_model/loader_impl.py?line=116'>117</a>\u001b[0m       \u001b[39mf\u001b[39m\u001b[39m\"\u001b[39m\u001b[39m{{\u001b[39;00m\u001b[39m{\u001b[39;00mconstants\u001b[39m.\u001b[39mSAVED_MODEL_FILENAME_PBTXT\u001b[39m}\u001b[39;00m\u001b[39m|\u001b[39m\u001b[39m\"\u001b[39m\n\u001b[1;32m    <a href='file:///Users/evantilu/miniforge3/envs/6998_DL_tf/lib/python3.8/site-packages/tensorflow/python/saved_model/loader_impl.py?line=117'>118</a>\u001b[0m       \u001b[39mf\u001b[39m\u001b[39m\"\u001b[39m\u001b[39m{\u001b[39;00mconstants\u001b[39m.\u001b[39mSAVED_MODEL_FILENAME_PB\u001b[39m}\u001b[39;00m\u001b[39m}}\u001b[39;00m\u001b[39m\"\u001b[39m)\n",
      "\u001b[0;31mOSError\u001b[0m: SavedModel file does not exist at: /var/folders/3l/2192826j1x1dnf7zrwm51n7w0000gn/T/tfhub_modules/f591ba671b05004f8d321dc431aa264a1ed374cc/{saved_model.pbtxt|saved_model.pb}"
     ]
    }
   ],
   "source": [
    "model = hub.load(SAVED_MODEL_PATH)"
   ]
  },
  {
   "cell_type": "code",
   "execution_count": 13,
   "metadata": {},
   "outputs": [],
   "source": [
    "'''read the labels just to get the number of images'''\n",
    "df = pd.read_csv('../../data/images/label.csv')\n",
    "\n",
    "labels = df['SalePrice'].to_numpy()\n",
    "num_of_imgs = len(labels)"
   ]
  },
  {
   "cell_type": "code",
   "execution_count": 11,
   "metadata": {},
   "outputs": [
    {
     "ename": "NameError",
     "evalue": "name 'model' is not defined",
     "output_type": "error",
     "traceback": [
      "\u001b[0;31m---------------------------------------------------------------------------\u001b[0m",
      "\u001b[0;31mNameError\u001b[0m                                 Traceback (most recent call last)",
      "\u001b[1;32m/Users/evantilu/My Drive (tl3098@columbia.edu)/CU_Spring 2022/6998 AdvDL/6998_Adv_DL_project/code/9_SR_test/generate_SR_imgs.ipynb Cell 18'\u001b[0m in \u001b[0;36m<cell line: 8>\u001b[0;34m()\u001b[0m\n\u001b[1;32m      <a href='vscode-notebook-cell:/Users/evantilu/My%20Drive%20%28tl3098%40columbia.edu%29/CU_Spring%202022/6998%20AdvDL/6998_Adv_DL_project/code/9_SR_test/generate_SR_imgs.ipynb#ch0000017?line=7'>8</a>\u001b[0m \u001b[39mfor\u001b[39;00m i \u001b[39min\u001b[39;00m \u001b[39mrange\u001b[39m(\u001b[39m1\u001b[39m, \u001b[39m10\u001b[39m):\n\u001b[1;32m      <a href='vscode-notebook-cell:/Users/evantilu/My%20Drive%20%28tl3098%40columbia.edu%29/CU_Spring%202022/6998%20AdvDL/6998_Adv_DL_project/code/9_SR_test/generate_SR_imgs.ipynb#ch0000017?line=8'>9</a>\u001b[0m     \u001b[39m# img = plt.imread('../../data/images/img_{}.png'.format(i))\u001b[39;00m\n\u001b[1;32m     <a href='vscode-notebook-cell:/Users/evantilu/My%20Drive%20%28tl3098%40columbia.edu%29/CU_Spring%202022/6998%20AdvDL/6998_Adv_DL_project/code/9_SR_test/generate_SR_imgs.ipynb#ch0000017?line=9'>10</a>\u001b[0m     img \u001b[39m=\u001b[39m preprocess_image(os\u001b[39m.\u001b[39mpath\u001b[39m.\u001b[39mjoin(ori_img_path, \u001b[39m'\u001b[39m\u001b[39mimg_\u001b[39m\u001b[39m{}\u001b[39;00m\u001b[39m.png\u001b[39m\u001b[39m'\u001b[39m\u001b[39m.\u001b[39mformat(i)))\n\u001b[0;32m---> <a href='vscode-notebook-cell:/Users/evantilu/My%20Drive%20%28tl3098%40columbia.edu%29/CU_Spring%202022/6998%20AdvDL/6998_Adv_DL_project/code/9_SR_test/generate_SR_imgs.ipynb#ch0000017?line=10'>11</a>\u001b[0m     SR_image \u001b[39m=\u001b[39m model(img)\n\u001b[1;32m     <a href='vscode-notebook-cell:/Users/evantilu/My%20Drive%20%28tl3098%40columbia.edu%29/CU_Spring%202022/6998%20AdvDL/6998_Adv_DL_project/code/9_SR_test/generate_SR_imgs.ipynb#ch0000017?line=11'>12</a>\u001b[0m     SR_image \u001b[39m=\u001b[39m tf\u001b[39m.\u001b[39msqueeze(SR_image)\n",
      "\u001b[0;31mNameError\u001b[0m: name 'model' is not defined"
     ]
    }
   ],
   "source": [
    "images_arr = []\n",
    "\n",
    "ori_img_path = '../../data/images/'\n",
    "SR_img_path = '../../data/SR_img/'\n",
    "os.makedirs(SR_img_path, exist_ok=True)\n",
    "\n",
    "# for i in range(1, num_of_imgs+1):\n",
    "for i in range(1, 10):\n",
    "    # img = plt.imread('../../data/images/img_{}.png'.format(i))\n",
    "    img = preprocess_image(os.path.join(ori_img_path, 'img_{}.png'.format(i)))\n",
    "    SR_image = model(img)\n",
    "    SR_image = tf.squeeze(SR_image)\n",
    "    \n",
    "    # save_image(tf.squeeze(SR_image), filename=os.path.join(SR_img_path, \"SR_img_{}\".format(i)))\n"
   ]
  },
  {
   "cell_type": "code",
   "execution_count": null,
   "metadata": {},
   "outputs": [],
   "source": []
  },
  {
   "cell_type": "code",
   "execution_count": null,
   "metadata": {},
   "outputs": [],
   "source": []
  },
  {
   "cell_type": "code",
   "execution_count": 5,
   "metadata": {},
   "outputs": [
    {
     "ename": "NameError",
     "evalue": "name 'SR_img_path' is not defined",
     "output_type": "error",
     "traceback": [
      "\u001b[0;31m---------------------------------------------------------------------------\u001b[0m",
      "\u001b[0;31mNameError\u001b[0m                                 Traceback (most recent call last)",
      "\u001b[1;32m/Users/evantilu/My Drive (tl3098@columbia.edu)/CU_Spring 2022/6998 AdvDL/6998_Adv_DL_project/code/9_SR_test/generate_SR_imgs.ipynb Cell 21'\u001b[0m in \u001b[0;36m<cell line: 2>\u001b[0;34m()\u001b[0m\n\u001b[1;32m      <a href='vscode-notebook-cell:/Users/evantilu/My%20Drive%20%28tl3098%40columbia.edu%29/CU_Spring%202022/6998%20AdvDL/6998_Adv_DL_project/code/9_SR_test/generate_SR_imgs.ipynb#ch0000020?line=0'>1</a>\u001b[0m \u001b[39m'''test read and display one image'''\u001b[39;00m\n\u001b[0;32m----> <a href='vscode-notebook-cell:/Users/evantilu/My%20Drive%20%28tl3098%40columbia.edu%29/CU_Spring%202022/6998%20AdvDL/6998_Adv_DL_project/code/9_SR_test/generate_SR_imgs.ipynb#ch0000020?line=1'>2</a>\u001b[0m img \u001b[39m=\u001b[39m plt\u001b[39m.\u001b[39mimread(os\u001b[39m.\u001b[39mpath\u001b[39m.\u001b[39mjoin(SR_img_path, \u001b[39m'\u001b[39m\u001b[39mSR_img_1.png\u001b[39m\u001b[39m'\u001b[39m))\n\u001b[1;32m      <a href='vscode-notebook-cell:/Users/evantilu/My%20Drive%20%28tl3098%40columbia.edu%29/CU_Spring%202022/6998%20AdvDL/6998_Adv_DL_project/code/9_SR_test/generate_SR_imgs.ipynb#ch0000020?line=3'>4</a>\u001b[0m plt\u001b[39m.\u001b[39mimshow(img)\n\u001b[1;32m      <a href='vscode-notebook-cell:/Users/evantilu/My%20Drive%20%28tl3098%40columbia.edu%29/CU_Spring%202022/6998%20AdvDL/6998_Adv_DL_project/code/9_SR_test/generate_SR_imgs.ipynb#ch0000020?line=4'>5</a>\u001b[0m plt\u001b[39m.\u001b[39mcolorbar()\n",
      "\u001b[0;31mNameError\u001b[0m: name 'SR_img_path' is not defined"
     ]
    }
   ],
   "source": [
    "# '''test read and display one image'''\n",
    "# img = plt.imread(os.path.join(SR_img_path, 'SR_img_1.png'))\n",
    "\n",
    "# plt.imshow(img)\n",
    "# plt.colorbar()\n",
    "# plt.show()"
   ]
  },
  {
   "cell_type": "code",
   "execution_count": 10,
   "metadata": {},
   "outputs": [
    {
     "ename": "ValueError",
     "evalue": "Failed to convert a NumPy array to a Tensor (Unsupported object type float).",
     "output_type": "error",
     "traceback": [
      "\u001b[0;31m---------------------------------------------------------------------------\u001b[0m",
      "\u001b[0;31mValueError\u001b[0m                                Traceback (most recent call last)",
      "\u001b[1;32m/Users/evantilu/My Drive (tl3098@columbia.edu)/CU_Spring 2022/6998 AdvDL/6998_Adv_DL_project/code/9_SR_test/generate_SR_imgs.ipynb Cell 22'\u001b[0m in \u001b[0;36m<cell line: 5>\u001b[0;34m()\u001b[0m\n\u001b[1;32m      <a href='vscode-notebook-cell:/Users/evantilu/My%20Drive%20%28tl3098%40columbia.edu%29/CU_Spring%202022/6998%20AdvDL/6998_Adv_DL_project/code/9_SR_test/generate_SR_imgs.ipynb#ch0000022?line=1'>2</a>\u001b[0m \u001b[39m# img = plt.imread('../../data_processing_&_feature_engineering/test1.png')\u001b[39;00m\n\u001b[1;32m      <a href='vscode-notebook-cell:/Users/evantilu/My%20Drive%20%28tl3098%40columbia.edu%29/CU_Spring%202022/6998%20AdvDL/6998_Adv_DL_project/code/9_SR_test/generate_SR_imgs.ipynb#ch0000022?line=2'>3</a>\u001b[0m img \u001b[39m=\u001b[39m plt\u001b[39m.\u001b[39mimread(\u001b[39m'\u001b[39m\u001b[39m../../data/images/img_1.png\u001b[39m\u001b[39m'\u001b[39m)\n\u001b[0;32m----> <a href='vscode-notebook-cell:/Users/evantilu/My%20Drive%20%28tl3098%40columbia.edu%29/CU_Spring%202022/6998%20AdvDL/6998_Adv_DL_project/code/9_SR_test/generate_SR_imgs.ipynb#ch0000022?line=4'>5</a>\u001b[0m img \u001b[39m=\u001b[39m preprocess_image(img)\n\u001b[1;32m      <a href='vscode-notebook-cell:/Users/evantilu/My%20Drive%20%28tl3098%40columbia.edu%29/CU_Spring%202022/6998%20AdvDL/6998_Adv_DL_project/code/9_SR_test/generate_SR_imgs.ipynb#ch0000022?line=5'>6</a>\u001b[0m SR_image \u001b[39m=\u001b[39m model(img)\n\u001b[1;32m      <a href='vscode-notebook-cell:/Users/evantilu/My%20Drive%20%28tl3098%40columbia.edu%29/CU_Spring%202022/6998%20AdvDL/6998_Adv_DL_project/code/9_SR_test/generate_SR_imgs.ipynb#ch0000022?line=6'>7</a>\u001b[0m SR_image \u001b[39m=\u001b[39m tf\u001b[39m.\u001b[39msqueeze(SR_image)\n",
      "\u001b[1;32m/Users/evantilu/My Drive (tl3098@columbia.edu)/CU_Spring 2022/6998 AdvDL/6998_Adv_DL_project/code/9_SR_test/generate_SR_imgs.ipynb Cell 5'\u001b[0m in \u001b[0;36mpreprocess_image\u001b[0;34m(image_path)\u001b[0m\n\u001b[1;32m      <a href='vscode-notebook-cell:/Users/evantilu/My%20Drive%20%28tl3098%40columbia.edu%29/CU_Spring%202022/6998%20AdvDL/6998_Adv_DL_project/code/9_SR_test/generate_SR_imgs.ipynb#ch0000004?line=0'>1</a>\u001b[0m \u001b[39mdef\u001b[39;00m \u001b[39mpreprocess_image\u001b[39m(image_path):\n\u001b[1;32m      <a href='vscode-notebook-cell:/Users/evantilu/My%20Drive%20%28tl3098%40columbia.edu%29/CU_Spring%202022/6998%20AdvDL/6998_Adv_DL_project/code/9_SR_test/generate_SR_imgs.ipynb#ch0000004?line=1'>2</a>\u001b[0m   \u001b[39m\"\"\" Loads image from path and preprocesses to make it model ready\u001b[39;00m\n\u001b[1;32m      <a href='vscode-notebook-cell:/Users/evantilu/My%20Drive%20%28tl3098%40columbia.edu%29/CU_Spring%202022/6998%20AdvDL/6998_Adv_DL_project/code/9_SR_test/generate_SR_imgs.ipynb#ch0000004?line=2'>3</a>\u001b[0m \u001b[39m      Args:\u001b[39;00m\n\u001b[1;32m      <a href='vscode-notebook-cell:/Users/evantilu/My%20Drive%20%28tl3098%40columbia.edu%29/CU_Spring%202022/6998%20AdvDL/6998_Adv_DL_project/code/9_SR_test/generate_SR_imgs.ipynb#ch0000004?line=3'>4</a>\u001b[0m \u001b[39m        image_path: Path to the image file\u001b[39;00m\n\u001b[1;32m      <a href='vscode-notebook-cell:/Users/evantilu/My%20Drive%20%28tl3098%40columbia.edu%29/CU_Spring%202022/6998%20AdvDL/6998_Adv_DL_project/code/9_SR_test/generate_SR_imgs.ipynb#ch0000004?line=4'>5</a>\u001b[0m \u001b[39m  \"\"\"\u001b[39;00m\n\u001b[0;32m----> <a href='vscode-notebook-cell:/Users/evantilu/My%20Drive%20%28tl3098%40columbia.edu%29/CU_Spring%202022/6998%20AdvDL/6998_Adv_DL_project/code/9_SR_test/generate_SR_imgs.ipynb#ch0000004?line=5'>6</a>\u001b[0m   hr_image \u001b[39m=\u001b[39m tf\u001b[39m.\u001b[39mimage\u001b[39m.\u001b[39mdecode_image(tf\u001b[39m.\u001b[39;49mio\u001b[39m.\u001b[39;49mread_file(image_path))\n\u001b[1;32m      <a href='vscode-notebook-cell:/Users/evantilu/My%20Drive%20%28tl3098%40columbia.edu%29/CU_Spring%202022/6998%20AdvDL/6998_Adv_DL_project/code/9_SR_test/generate_SR_imgs.ipynb#ch0000004?line=6'>7</a>\u001b[0m   \u001b[39m# If PNG, remove the alpha channel. The model only supports\u001b[39;00m\n\u001b[1;32m      <a href='vscode-notebook-cell:/Users/evantilu/My%20Drive%20%28tl3098%40columbia.edu%29/CU_Spring%202022/6998%20AdvDL/6998_Adv_DL_project/code/9_SR_test/generate_SR_imgs.ipynb#ch0000004?line=7'>8</a>\u001b[0m   \u001b[39m# images with 3 color channels.\u001b[39;00m\n\u001b[1;32m      <a href='vscode-notebook-cell:/Users/evantilu/My%20Drive%20%28tl3098%40columbia.edu%29/CU_Spring%202022/6998%20AdvDL/6998_Adv_DL_project/code/9_SR_test/generate_SR_imgs.ipynb#ch0000004?line=8'>9</a>\u001b[0m   \u001b[39mif\u001b[39;00m hr_image\u001b[39m.\u001b[39mshape[\u001b[39m-\u001b[39m\u001b[39m1\u001b[39m] \u001b[39m==\u001b[39m \u001b[39m4\u001b[39m:\n",
      "File \u001b[0;32m~/miniforge3/envs/6998_DL_tf/lib/python3.8/site-packages/tensorflow/python/ops/io_ops.py:133\u001b[0m, in \u001b[0;36mread_file\u001b[0;34m(filename, name)\u001b[0m\n\u001b[1;32m     <a href='file:///Users/evantilu/miniforge3/envs/6998_DL_tf/lib/python3.8/site-packages/tensorflow/python/ops/io_ops.py?line=95'>96</a>\u001b[0m \u001b[39m@tf_export\u001b[39m(\u001b[39m\"\u001b[39m\u001b[39mio.read_file\u001b[39m\u001b[39m\"\u001b[39m, v1\u001b[39m=\u001b[39m[\u001b[39m\"\u001b[39m\u001b[39mio.read_file\u001b[39m\u001b[39m\"\u001b[39m, \u001b[39m\"\u001b[39m\u001b[39mread_file\u001b[39m\u001b[39m\"\u001b[39m])\n\u001b[1;32m     <a href='file:///Users/evantilu/miniforge3/envs/6998_DL_tf/lib/python3.8/site-packages/tensorflow/python/ops/io_ops.py?line=96'>97</a>\u001b[0m \u001b[39mdef\u001b[39;00m \u001b[39mread_file\u001b[39m(filename, name\u001b[39m=\u001b[39m\u001b[39mNone\u001b[39;00m):\n\u001b[1;32m     <a href='file:///Users/evantilu/miniforge3/envs/6998_DL_tf/lib/python3.8/site-packages/tensorflow/python/ops/io_ops.py?line=97'>98</a>\u001b[0m   \u001b[39m\"\"\"Reads the contents of file.\u001b[39;00m\n\u001b[1;32m     <a href='file:///Users/evantilu/miniforge3/envs/6998_DL_tf/lib/python3.8/site-packages/tensorflow/python/ops/io_ops.py?line=98'>99</a>\u001b[0m \n\u001b[1;32m    <a href='file:///Users/evantilu/miniforge3/envs/6998_DL_tf/lib/python3.8/site-packages/tensorflow/python/ops/io_ops.py?line=99'>100</a>\u001b[0m \u001b[39m  This operation returns a tensor with the entire contents of the input\u001b[39;00m\n\u001b[0;32m   (...)\u001b[0m\n\u001b[1;32m    <a href='file:///Users/evantilu/miniforge3/envs/6998_DL_tf/lib/python3.8/site-packages/tensorflow/python/ops/io_ops.py?line=130'>131</a>\u001b[0m \u001b[39m    A tensor of dtype \"string\", with the file contents.\u001b[39;00m\n\u001b[1;32m    <a href='file:///Users/evantilu/miniforge3/envs/6998_DL_tf/lib/python3.8/site-packages/tensorflow/python/ops/io_ops.py?line=131'>132</a>\u001b[0m \u001b[39m  \"\"\"\u001b[39;00m\n\u001b[0;32m--> <a href='file:///Users/evantilu/miniforge3/envs/6998_DL_tf/lib/python3.8/site-packages/tensorflow/python/ops/io_ops.py?line=132'>133</a>\u001b[0m   \u001b[39mreturn\u001b[39;00m gen_io_ops\u001b[39m.\u001b[39;49mread_file(filename, name)\n",
      "File \u001b[0;32m~/miniforge3/envs/6998_DL_tf/lib/python3.8/site-packages/tensorflow/python/ops/gen_io_ops.py:558\u001b[0m, in \u001b[0;36mread_file\u001b[0;34m(filename, name)\u001b[0m\n\u001b[1;32m    <a href='file:///Users/evantilu/miniforge3/envs/6998_DL_tf/lib/python3.8/site-packages/tensorflow/python/ops/gen_io_ops.py?line=555'>556</a>\u001b[0m \u001b[39mif\u001b[39;00m tld\u001b[39m.\u001b[39mis_eager:\n\u001b[1;32m    <a href='file:///Users/evantilu/miniforge3/envs/6998_DL_tf/lib/python3.8/site-packages/tensorflow/python/ops/gen_io_ops.py?line=556'>557</a>\u001b[0m   \u001b[39mtry\u001b[39;00m:\n\u001b[0;32m--> <a href='file:///Users/evantilu/miniforge3/envs/6998_DL_tf/lib/python3.8/site-packages/tensorflow/python/ops/gen_io_ops.py?line=557'>558</a>\u001b[0m     _result \u001b[39m=\u001b[39m pywrap_tfe\u001b[39m.\u001b[39;49mTFE_Py_FastPathExecute(\n\u001b[1;32m    <a href='file:///Users/evantilu/miniforge3/envs/6998_DL_tf/lib/python3.8/site-packages/tensorflow/python/ops/gen_io_ops.py?line=558'>559</a>\u001b[0m       _ctx, \u001b[39m\"\u001b[39;49m\u001b[39mReadFile\u001b[39;49m\u001b[39m\"\u001b[39;49m, name, filename)\n\u001b[1;32m    <a href='file:///Users/evantilu/miniforge3/envs/6998_DL_tf/lib/python3.8/site-packages/tensorflow/python/ops/gen_io_ops.py?line=559'>560</a>\u001b[0m     \u001b[39mreturn\u001b[39;00m _result\n\u001b[1;32m    <a href='file:///Users/evantilu/miniforge3/envs/6998_DL_tf/lib/python3.8/site-packages/tensorflow/python/ops/gen_io_ops.py?line=560'>561</a>\u001b[0m   \u001b[39mexcept\u001b[39;00m _core\u001b[39m.\u001b[39m_NotOkStatusException \u001b[39mas\u001b[39;00m e:\n",
      "\u001b[0;31mValueError\u001b[0m: Failed to convert a NumPy array to a Tensor (Unsupported object type float)."
     ]
    }
   ],
   "source": [
    "'''test read and display one image'''\n",
    "# img = plt.imread('../../data_processing_&_feature_engineering/test1.png')\n",
    "img = plt.imread('../../data/images/img_1.png')\n",
    "\n",
    "img = preprocess_image(img)\n",
    "SR_image = model(img)\n",
    "SR_image = tf.squeeze(SR_image)\n",
    "\n",
    "# save_image(tf.squeeze(SR_image), filename=os.path.join(SR_img_path, \"SR_img_{}\".format(i)))\n",
    "\n",
    "\n",
    "plt.imshow(SR_image)\n",
    "plt.colorbar()\n",
    "plt.show()"
   ]
  },
  {
   "cell_type": "code",
   "execution_count": 19,
   "metadata": {},
   "outputs": [
    {
     "data": {
      "text/plain": [
       "(9, 72, 72, 3)"
      ]
     },
     "execution_count": 19,
     "metadata": {},
     "output_type": "execute_result"
    }
   ],
   "source": [
    "'''test reading into numpy array'''\n",
    "images_arr = []\n",
    "\n",
    "for i in range(1, 10):\n",
    "    img = plt.imread(os.path.join(SR_img_path, 'SR_img_{}.png'.format(i)))\n",
    "    images_arr.append(img)\n",
    "\n",
    "images_arr = np.array(images_arr, dtype='float32')\n",
    "images_arr.shape\n",
    "    \n"
   ]
  }
 ],
 "metadata": {
  "interpreter": {
   "hash": "29cc21816e506614f017a9125cfdb1f5dc655865e499c52ef5f5406a40d25695"
  },
  "kernelspec": {
   "display_name": "Python 3.8.13 ('6998_DL_tf')",
   "language": "python",
   "name": "python3"
  },
  "language_info": {
   "codemirror_mode": {
    "name": "ipython",
    "version": 3
   },
   "file_extension": ".py",
   "mimetype": "text/x-python",
   "name": "python",
   "nbconvert_exporter": "python",
   "pygments_lexer": "ipython3",
   "version": "3.8.13"
  },
  "orig_nbformat": 4
 },
 "nbformat": 4,
 "nbformat_minor": 2
}
